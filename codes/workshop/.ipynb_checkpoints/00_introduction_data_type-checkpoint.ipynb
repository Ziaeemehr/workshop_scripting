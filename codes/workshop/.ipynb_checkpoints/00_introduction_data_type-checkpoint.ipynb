{
 "cells": [
  {
   "cell_type": "markdown",
   "metadata": {},
   "source": [
    "### [Telegram PyCpp channel](https://t.me/PyCpp_channel)"
   ]
  },
  {
   "cell_type": "markdown",
   "metadata": {
    "slideshow": {
     "slide_type": "slide"
    }
   },
   "source": [
    "# <font color='blue'>Why Python</font>\n",
    "\n",
    "-  easy to learn\n",
    "-  huge library\n",
    "-  excellent science support\n",
    "-  quick development turnaround\n",
    "\n",
    "\n",
    "\n",
    "\n",
    "note: using some David Grellscheid slides (Thanks!)"
   ]
  },
  {
   "cell_type": "markdown",
   "metadata": {
    "slideshow": {
     "slide_type": "slide"
    }
   },
   "source": [
    "## <font color='blue'>Growth of major programming languages </font>\n",
    "#### Based on Overflow question views in World Bank high-income countries\n",
    "\n",
    "<img src=\"img/01.png\" alt=\"Alt text that describes the graphic\" title=\"Title text\" width=\"600\" height=\"600\" />"
   ]
  },
  {
   "cell_type": "markdown",
   "metadata": {
    "slideshow": {
     "slide_type": "slide"
    }
   },
   "source": [
    "<img src=\"img/02.png\" alt=\"Alt text that describes the graphic\" title=\"Title text\" />"
   ]
  },
  {
   "cell_type": "markdown",
   "metadata": {
    "slideshow": {
     "slide_type": "slide"
    }
   },
   "source": [
    "## <font color='blue'> Zen of Python, by Tim Peters ( import this )</font>\n",
    "-  Beautiful is better than ugly.\n",
    "-  Explicit is better than implicit.\n",
    "-  Simple is better than complex.\n",
    "-  Complex is better than complicated.\n",
    "-  Readability counts.\n",
    "-  There should be one—and preferably only one— obvious way to do it.\n",
    "-  If the implementation is hard to explain, it's a bad idea.\n",
    "\n"
   ]
  },
  {
   "cell_type": "markdown",
   "metadata": {
    "slideshow": {
     "slide_type": "slide"
    }
   },
   "source": [
    "# <font color='blue'> Design choices </font>\n",
    "\n",
    "-  Multi-paradigm language:\n",
    "-  structured, object oriented & functional\n",
    "-  styles are all supported\n",
    "-  clean syntax, fun to use\n",
    "-  Highly extensible:\n",
    " small core, large standard lib"
   ]
  },
  {
   "cell_type": "raw",
   "metadata": {
    "slideshow": {
     "slide_type": "notes"
    }
   },
   "source": [
    "Python is Interpreted\n",
    "Python is Interactive\n",
    "Python is Object-Oriented"
   ]
  },
  {
   "cell_type": "markdown",
   "metadata": {
    "slideshow": {
     "slide_type": "slide"
    }
   },
   "source": [
    "## <font color='blue'> Data structures </font>\n",
    "1. List\n",
    "2. Tuples\n",
    "3. Dict\n",
    "4. sets\n",
    "5. strings\n"
   ]
  },
  {
   "cell_type": "code",
   "execution_count": 1,
   "metadata": {
    "slideshow": {
     "slide_type": "-"
    }
   },
   "outputs": [
    {
     "name": "stdout",
     "output_type": "stream",
     "text": [
      "100\n",
      "1000.0\n",
      "John\n"
     ]
    }
   ],
   "source": [
    "counter = 100          # An integer assignment\n",
    "miles   = 1000.0       # A floating point\n",
    "name    = \"John\"        # A string\n",
    "\n",
    "print counter\n",
    "print miles\n",
    "print name\n",
    "\n",
    "a = b = c = 1"
   ]
  },
  {
   "cell_type": "code",
   "execution_count": 2,
   "metadata": {
    "slideshow": {
     "slide_type": "subslide"
    }
   },
   "outputs": [
    {
     "name": "stdout",
     "output_type": "stream",
     "text": [
      "ab\n",
      "['abcd', 786, 2.23, 'john', 70.2]\n",
      "abcd\n",
      "[786, 2.23]\n",
      "[2.23, 'john', 70.2]\n",
      "[123, 'john', 123, 'john']\n",
      "['abcd', 786, 2.23, 'john', 70.2, 123, 'john']\n"
     ]
    }
   ],
   "source": [
    "#String\n",
    "str = 'Hello World!'\n",
    "print \"a\"+\"b\"\n",
    "#List\n",
    "mylist = [ 'abcd', 786 , 2.23, 'john', 70.2 ]\n",
    "tinylist = [123, 'john']\n",
    "\n",
    "print mylist          # Prints complete list\n",
    "print mylist[0]       # Prints first element of the list\n",
    "print mylist[1:3]     # Prints elements starting from 2nd till 3rd \n",
    "print mylist[2:]      # Prints elements starting from 3rd element\n",
    "print tinylist * 2  # Prints list two times\n",
    "print mylist + tinylist # Prints concatenated lists"
   ]
  },
  {
   "cell_type": "code",
   "execution_count": 4,
   "metadata": {
    "slideshow": {
     "slide_type": "subslide"
    }
   },
   "outputs": [
    {
     "name": "stdout",
     "output_type": "stream",
     "text": [
      "('abcd', 786, 2.23, 'john', 70.2)\n",
      "abcd\n",
      "(786, 2.23)\n",
      "(2.23, 'john', 70.2)\n",
      "(123, 'john', 123, 'john')\n",
      "('abcd', 786, 2.23, 'john', 70.2, 123, 'john')\n"
     ]
    }
   ],
   "source": [
    "#Tuple\n",
    "tup1 = (50,)\n",
    "tuple = ( 'abcd', 786 , 2.23, 'john', 70.2  )\n",
    "tinytuple = (123, 'john')\n",
    "\n",
    "print tuple           # Prints complete list\n",
    "print tuple[0]        # Prints first element of the list\n",
    "print tuple[1:3]      # Prints elements starting from 2nd till 3rd \n",
    "print tuple[2:]       # Prints elements starting from 3rd element\n",
    "print tinytuple * 2   # Prints list two times\n",
    "print tuple + tinytuple # Prints concatenated lists\n",
    "\n",
    "tuple = ( 'abcd', 786 , 2.23, 'john', 70.2  )\n",
    "list = [ 'abcd', 786 , 2.23, 'john', 70.2  ]\n",
    "# tuple[2] = 1000    # Invalid syntax with tuple\n",
    "mylist[2] = 1000     # Valid syntax with list"
   ]
  },
  {
   "cell_type": "code",
   "execution_count": 3,
   "metadata": {
    "slideshow": {
     "slide_type": "subslide"
    }
   },
   "outputs": [
    {
     "name": "stdout",
     "output_type": "stream",
     "text": [
      "This is one\n",
      "This is two\n",
      "{'dept': 'sales', 'code': 6734, 'name': 'john'}\n",
      "['dept', 'code', 'name']\n",
      "['sales', 6734, 'john']\n"
     ]
    }
   ],
   "source": [
    "#Dictionary\n",
    "dict = {}\n",
    "dict['one'] = \"This is one\"\n",
    "dict[2]     = \"This is two\"\n",
    "tinydict = {'name': 'john','code':6734, 'dept': 'sales'}\n",
    "\n",
    "print dict['one']       # Prints value for 'one' key\n",
    "print dict[2]           # Prints value for 2 key\n",
    "print tinydict          # Prints complete dictionary\n",
    "print tinydict.keys()   # Prints all the keys\n",
    "print tinydict.values() # Prints all the values"
   ]
  },
  {
   "cell_type": "code",
   "execution_count": 5,
   "metadata": {},
   "outputs": [
    {
     "name": "stdout",
     "output_type": "stream",
     "text": [
      "set(['cherry', 'apple', 'banana'])\n",
      "set(['orange', 'cherry', 'apple'])\n",
      "orange\n",
      "cherry\n",
      "apple\n"
     ]
    }
   ],
   "source": [
    "# https://www.w3schools.com/python/python_sets.asp\n",
    "# A set is a collection which is unordered and unindexed. \n",
    "# In Python sets are written with curly brackets.\n",
    "myset = {\"apple\", \"banana\", \"cherry\"}\n",
    "print myset\n",
    "# You cannot access items in a set by referring to an index, \n",
    "# since sets are unordered the items has no index.\n",
    "# Add an item to a set, using the add() method:\n",
    "myset.add(\"orange\")\n",
    "myset.remove(\"banana\")\n",
    "\n",
    "print myset\n",
    "\n",
    "for x in myset:\n",
    "    print x\n",
    "\n",
    "\n",
    "\n"
   ]
  },
  {
   "cell_type": "markdown",
   "metadata": {
    "slideshow": {
     "slide_type": "slide"
    }
   },
   "source": [
    "# <font color='blue'> Syntax </font>\n",
    "### Control flow\n",
    "-  for\n",
    "-  if else elif\n",
    "-  while\n",
    "-  pas/break/continue"
   ]
  },
  {
   "cell_type": "code",
   "execution_count": 6,
   "metadata": {},
   "outputs": [
    {
     "name": "stdout",
     "output_type": "stream",
     "text": [
      "1.5\n",
      "3\n",
      "2\n",
      "1.5\n",
      "3\n",
      "2\n"
     ]
    }
   ],
   "source": [
    "A = [1.5,3,2]\n",
    "for a in A:\n",
    "    print a\n",
    "    \n",
    "for i in range(3):\n",
    "    print A[i]\n",
    "\n",
    "# C++\n",
    "# for (int i=0; i<3; i++)\n",
    "#     cout << A[i]<< endl;"
   ]
  },
  {
   "cell_type": "code",
   "execution_count": 7,
   "metadata": {},
   "outputs": [
    {
     "name": "stdout",
     "output_type": "stream",
     "text": [
      "20 is not in the list\n",
      "True\n",
      "1\n"
     ]
    }
   ],
   "source": [
    "if 3 in mylist:\n",
    "    print '3 is in the list'\n",
    "    \n",
    "if 20 not in mylist:\n",
    "    print '20 is not in the list' \n",
    "    \n",
    "if 2>1:\n",
    "    print  True\n",
    "    print 1\n"
   ]
  },
  {
   "cell_type": "markdown",
   "metadata": {
    "slideshow": {
     "slide_type": "slide"
    }
   },
   "source": [
    "## <font color='blue'> Functions and libraries </font>\n",
    "-  importing libraries\n",
    "-  Function definition\n",
    "\n"
   ]
  },
  {
   "cell_type": "code",
   "execution_count": 5,
   "metadata": {},
   "outputs": [],
   "source": [
    "import numpy\n",
    "import numpy as np \n",
    "from numpy import sin, cos\n",
    "from numpy import *"
   ]
  },
  {
   "cell_type": "code",
   "execution_count": 6,
   "metadata": {},
   "outputs": [
    {
     "name": "stdout",
     "output_type": "stream",
     "text": [
      "on scalar:  7\n",
      "on arrays:  [4 6]\n",
      "on lists :  [1, 2, 3, 4]\n"
     ]
    }
   ],
   "source": [
    "def f(a,b):\n",
    "    return a+b\n",
    "\n",
    "# scalar\n",
    "x,y = 2, 5\n",
    "print 'on scalar: ', f(x,y)\n",
    "# on array\n",
    "x = array([1,2])\n",
    "y = array([3,4])\n",
    "print 'on arrays: ', f(x,y)\n",
    "#on list\n",
    "x = [1,2]\n",
    "y = [3,4]\n",
    "print 'on lists : ', f(x,y)"
   ]
  },
  {
   "cell_type": "code",
   "execution_count": 16,
   "metadata": {},
   "outputs": [
    {
     "name": "stdout",
     "output_type": "stream",
     "text": [
      "100\n"
     ]
    }
   ],
   "source": [
    "# Like other languages (for example method overloading in C++) \n",
    "# do, python does not supports method overloading. \n",
    "# We may overload the methods but can only use the \n",
    "# latest defined method.\n",
    "\n",
    "\n",
    "def product(a, b): \n",
    "    p = a * b \n",
    "    print p\n",
    "    \n",
    "def product(a, b, c): \n",
    "    p = a * b*c \n",
    "    print p\n",
    "\n",
    "# product(4,5) error\n",
    "product(4,5,5)\n"
   ]
  },
  {
   "cell_type": "code",
   "execution_count": null,
   "metadata": {},
   "outputs": [],
   "source": []
  }
 ],
 "metadata": {
  "celltoolbar": "Slideshow",
  "kernelspec": {
   "display_name": "Python 2",
   "language": "python",
   "name": "python2"
  },
  "language_info": {
   "codemirror_mode": {
    "name": "ipython",
    "version": 2
   },
   "file_extension": ".py",
   "mimetype": "text/x-python",
   "name": "python",
   "nbconvert_exporter": "python",
   "pygments_lexer": "ipython2",
   "version": "2.7.15rc1"
  }
 },
 "nbformat": 4,
 "nbformat_minor": 2
}

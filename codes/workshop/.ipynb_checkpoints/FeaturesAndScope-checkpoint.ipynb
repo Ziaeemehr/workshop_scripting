{
 "cells": [
  {
   "cell_type": "markdown",
   "metadata": {
    "slideshow": {
     "slide_type": "slide"
    }
   },
   "source": [
    "<h1 class=\"title\">Why you should write buggy software with as few features as possible</h1>"
   ]
  },
  {
   "cell_type": "markdown",
   "metadata": {},
   "source": [
    "<center>\n",
    "\n",
    "<h2>Brian Granger (ellisonbg)</h2>\n",
    "\n",
    "<div>\n",
    "    <img class=\"logo\" src=\"files/images/calpoly_logo.png\" height=100 />\n",
    "</div>\n",
    "\n",
    "<div>\n",
    "    <img class=\"logo\" src=\"files/images/logo.png\" height=100 />\n",
    "</div>\n",
    "\n",
    "<h3>SciPy, June 2013</h3>\n",
    "</center>"
   ]
  },
  {
   "cell_type": "markdown",
   "metadata": {
    "slideshow": {
     "slide_type": "slide"
    }
   },
   "source": [
    "# Background"
   ]
  },
  {
   "cell_type": "markdown",
   "metadata": {},
   "source": [
    "* In the summer of 2011, I locked myself in our basement and wrote the first version of the 6th incarnation the IPython Notebook\n",
    "* It was full of horrible, annoying bugs\n",
    "* It lacked many features that we consider to be absolutely necessary\n",
    "* This was a deliberate choice we made based on our experience with the first 5 incarnations\n",
    "* Almost overnight, it was broadly adopted by the community and has become a popular and productive tool\n",
    "* It still has many of these bugs and lacks many of the needed features\n",
    "* This has challenged our thinking about software development"
   ]
  },
  {
   "cell_type": "markdown",
   "metadata": {
    "slideshow": {
     "slide_type": "slide"
    }
   },
   "source": [
    "<h1 class=\"bigtitle\">Theory</h1>"
   ]
  },
  {
   "cell_type": "markdown",
   "metadata": {
    "slideshow": {
     "slide_type": "slide"
    }
   },
   "source": [
    "# A theory of software engineering"
   ]
  },
  {
   "cell_type": "markdown",
   "metadata": {},
   "source": [
    "Here is one possible theory of software engineering that we are tempted by:\n",
    "\n",
    "1. Features are good\n",
    "2. Bugs are bad\n",
    "3. Therefore, the ideal software will have lots of features and few bugs\n",
    "4. The number of features and bugs is only limited by developer time\n",
    "5. You shouldn't release software until it has lots of features and few bugs"
   ]
  },
  {
   "cell_type": "markdown",
   "metadata": {
    "slideshow": {
     "slide_type": "slide"
    }
   },
   "source": [
    "# Does this theory generalize?"
   ]
  },
  {
   "cell_type": "markdown",
   "metadata": {},
   "source": [
    "Let's try to generalize this theory to food:\n",
    "\n",
    "1. Ice cream is good\n",
    "2. Vegatables are bad\n",
    "3. Therefore, the ideal diet will involve lots of ice cream and few vegetables\n",
    "4. The amount of ice cream involved is only limited by how much money you have"
   ]
  },
  {
   "cell_type": "markdown",
   "metadata": {
    "slideshow": {
     "slide_type": "slide"
    }
   },
   "source": [
    "# My 7 year old son likes this theory"
   ]
  },
  {
   "cell_type": "markdown",
   "metadata": {},
   "source": [
    "<center>\n",
    "<img src=\"files/images/reed.jpeg\" width=700 />\n",
    "</center>"
   ]
  },
  {
   "cell_type": "markdown",
   "metadata": {
    "slideshow": {
     "slide_type": "slide"
    }
   },
   "source": [
    "# Problems with this theory"
   ]
  },
  {
   "cell_type": "markdown",
   "metadata": {},
   "source": [
    "* Developer time is a finite resource\n",
    "* Active projects are flooded (thanks GitHub!) with Pull Requests and Issues:\n",
    "  - NumPy: 763 Issues, 42 Pull Requests\n",
    "  - SciPy: 581 Issues, 28 Pull Requests\n",
    "  - IPython: 592 Issues, 16 Pull Requests\n",
    "  - Matplotlib: 323 Issues, 44 Pull Requests\n",
    "  - SymPy: 1142 Issues, 121 Pull Requests\n",
    "* Reality is more complicated:\n",
    "  - Features have hidden costs\n",
    "  - Bugs have hidden benefits\n",
    "  - We love software that has few features (for example Twitter)\n",
    "\n",
    "### We need a rational process for deciding how to spend our time as developers. Which new features do we add? Which bugs do we fix? How do we prioritize these things?"
   ]
  },
  {
   "cell_type": "markdown",
   "metadata": {
    "slideshow": {
     "slide_type": "slide"
    }
   },
   "source": [
    "<h1 class=\"bigtitle\">The hidden costs of features</h1>"
   ]
  },
  {
   "cell_type": "markdown",
   "metadata": {
    "slideshow": {
     "slide_type": "slide"
    }
   },
   "source": [
    "<h3 class=\"point\">Each new feature adds complexity to the code base</h3>\n",
    "<h3 class=\"point\">Complexity makes a code base less hackable, maintainable, extensible</h3>"
   ]
  },
  {
   "cell_type": "markdown",
   "metadata": {
    "slideshow": {
     "slide_type": "slide"
    }
   },
   "source": [
    "<h3 class=\"point\">Each new feature increases the \"bug surface\" of the project</h3>\n",
    "<h3 class=\"point\">When a feature also adds complexity, those bugs become harder to find and fix</h3>"
   ]
  },
  {
   "cell_type": "markdown",
   "metadata": {
    "slideshow": {
     "slide_type": "slide"
    }
   },
   "source": [
    "<h3 class=\"point\">Each new feature requires documentation to be written and maintained</h3>"
   ]
  },
  {
   "cell_type": "markdown",
   "metadata": {
    "slideshow": {
     "slide_type": "slide"
    }
   },
   "source": [
    "<h3 class=\"point\">Each new feature requires support over email/IRC/HipChat</h3>"
   ]
  },
  {
   "cell_type": "markdown",
   "metadata": {
    "slideshow": {
     "slide_type": "slide"
    }
   },
   "source": [
    "<h3 class=\"point\">Endless feature expansion, or feature creep, requires developers to specialize</h3>\n",
    "\n",
    "<h3 class=\"point\">Individuals can't follow the entire project, so they have to focus on a subset that can fit into their brain and schedule</h3>"
   ]
  },
  {
   "cell_type": "markdown",
   "metadata": {
    "slideshow": {
     "slide_type": "slide"
    }
   },
   "source": [
    "<h3 class=\"point\">Each new feature has to be tested on a wide variety on platforms (Linux, Mac, Windows) and environments (PyPy, Python 2, Python 3)</h3>"
   ]
  },
  {
   "cell_type": "markdown",
   "metadata": {
    "slideshow": {
     "slide_type": "slide"
    }
   },
   "source": [
    "<h3 class=\"point\">Each new feature adds complexity to the user experience</h3>\n",
    "<h3 class=\"point\">Sometimes it's the documentation or API, other times the UI or configuration options</h3>\n",
    "<h3 class=\"point\">This increases the cognitive load on your users</h3>"
   ]
  },
  {
   "cell_type": "markdown",
   "metadata": {
    "slideshow": {
     "slide_type": "slide"
    }
   },
   "source": [
    "<h3 class=\"point\">When you spend on one feature, another feature or bug fix didn't get worked on</h3>\n",
    "<h3 class=\"point\">If you didn't prioritize things beforehand, you just spent time on something less important to your users</h3>"
   ]
  },
  {
   "cell_type": "markdown",
   "metadata": {
    "slideshow": {
     "slide_type": "slide"
    }
   },
   "source": [
    "<h3 class=\"point\">Features multiply like bunnies</h3>\n",
    "\n",
    "<h3 class=\"point\">\"wow, that new feature Y is really cool, could you make it do X as well?\"</h3>"
   ]
  },
  {
   "cell_type": "markdown",
   "metadata": {
    "slideshow": {
     "slide_type": "slide"
    }
   },
   "source": [
    "<h3 class=\"point\">Features are easy to add, difficult to remove</h3>\n",
    "<h3 class=\"point\">Once you add a feature, you are stuck with the costs and liabilities</h3>"
   ]
  },
  {
   "cell_type": "markdown",
   "metadata": {
    "slideshow": {
     "slide_type": "slide"
    }
   },
   "source": [
    "<h3 class=\"point\">I am not suggesting that features are bad, only that they have costs that need to be counted</h3>"
   ]
  },
  {
   "cell_type": "markdown",
   "metadata": {
    "slideshow": {
     "slide_type": "slide"
    }
   },
   "source": [
    "# Features: IPython Notebook"
   ]
  },
  {
   "cell_type": "markdown",
   "metadata": {},
   "source": [
    "We have learned a lot about features in developing the IPython Notebook.\n",
    "\n",
    "## Features we said no to initially:\n",
    "\n",
    "* Multi-directory navigation\n",
    "* Multi-user capabilities\n",
    "* Security\n",
    "* URLs with Notebook paths and names (`path/to/my/notebook.ipynb`)\n",
    "* Autosave/checkpointing\n",
    "\n",
    "It was a deliberate choice for us to leave these features out of the Notebook initially. This was extremely hard to for us to do - emotionally and psychologically. But it was one of the best things we did as it enabled us to move quickly on more important features.\n",
    "\n",
    "## Features we have always said no to:\n",
    "\n",
    "* Extensible cell types\n",
    "* Lots of cell and notebook metadata\n",
    "* Limiting the Notebook's ability to execute arbitrary code for security reasons"
   ]
  },
  {
   "cell_type": "markdown",
   "metadata": {
    "slideshow": {
     "slide_type": "slide"
    }
   },
   "source": [
    "# Regrets a.k.a. lessons learned"
   ]
  },
  {
   "cell_type": "markdown",
   "metadata": {
    "slideshow": {
     "slide_type": "-"
    }
   },
   "source": [
    "## Features we said yes and later no to:\n",
    "\n",
    "* XML Notebook format\n",
    "* Database backed Notebook server\n",
    "* Multiple worksheets within a single Notebook\n",
    "* reStructuredText cells\n",
    "\n",
    "We spend (literally) months developing these features over two summers. All of that work has been thrown away and we are still suffering from some of these decisions. Some of this could have been prevented had we been more disciplined about the following question:\n",
    "\n",
    "### What is the simplest possible Notebook we can implement that would be useful?\n",
    "\n",
    "* Can we implement a Notebook without an XML Notebook format?  Yes!\n",
    "* Can we implement a Notebook without a database? Yes!\n",
    "* Can we implement a Notebook without worksheets?  Yes!\n",
    "* Can we implement a Notebook with the simpler Markdown syntax? Yes!"
   ]
  },
  {
   "cell_type": "markdown",
   "metadata": {
    "slideshow": {
     "slide_type": "slide"
    }
   },
   "source": [
    "<h1 class=\"bigtitle\">The hidden benefits of bugs</h1>"
   ]
  },
  {
   "cell_type": "markdown",
   "metadata": {
    "slideshow": {
     "slide_type": "slide"
    }
   },
   "source": [
    "<h3 class=\"point\">Bugs are a sign that people are using your software</h3>"
   ]
  },
  {
   "cell_type": "markdown",
   "metadata": {
    "slideshow": {
     "slide_type": "slide"
    }
   },
   "source": [
    "<h3 class=\"point\">Bugs tell you how your users are using your software</h3>"
   ]
  },
  {
   "cell_type": "markdown",
   "metadata": {
    "slideshow": {
     "slide_type": "slide"
    }
   },
   "source": [
    "<h3 class=\"point\">Bugs tell you which features are important</h3>"
   ]
  },
  {
   "cell_type": "markdown",
   "metadata": {
    "slideshow": {
     "slide_type": "slide"
    }
   },
   "source": [
    "<h3 class=\"point\">Bugs are opportunities to improve the testing of your software</h3>"
   ]
  },
  {
   "cell_type": "markdown",
   "metadata": {
    "slideshow": {
     "slide_type": "slide"
    }
   },
   "source": [
    "<h3 class=\"point\">Bug reporting/fixing can be a great starting point for new developers</h3>"
   ]
  },
  {
   "cell_type": "markdown",
   "metadata": {
    "slideshow": {
     "slide_type": "slide"
    }
   },
   "source": [
    "<h3 class=\"point\">I am not suggesting that bugs are entirely **good**, only that they serve a useful purpose in actively developed software</h3>"
   ]
  },
  {
   "cell_type": "markdown",
   "metadata": {
    "slideshow": {
     "slide_type": "slide"
    }
   },
   "source": [
    "# Bugs: IPython Notebook"
   ]
  },
  {
   "cell_type": "markdown",
   "metadata": {},
   "source": [
    "Some bugs have taught us useful things:\n",
    "\n",
    "* The notebook is broken on IE<10\n",
    "  - We quickly learned that almost none of our users were affected\n",
    "  - This allowed us to commit to using WebSockets from the start\n",
    "  - The result is simple, clean code in the Notebook server and client\n",
    "* Jumping scroll bugs\n",
    "  - Clicking on the output area of a large cell causes the Notebook area to jumpily scroll the top of the cell into focus\n",
    "  - The same thing happens when you run a cell and the next cell focuses\n",
    "  - Annoying as hell, but users put up with it...even to this day :(\n",
    "  - Fixing these bugs is very subtle and will change the UX in significant ways\n",
    "  - Watching people use the Notebook with these bugs has given us invaluable insight about the UX\n",
    "  - This knowledge is enabling us to develop a better UX"
   ]
  },
  {
   "cell_type": "markdown",
   "metadata": {
    "slideshow": {
     "slide_type": "slide"
    }
   },
   "source": [
    "<h1 class=\"bigtitle\">Not all features should be implemented</h1>"
   ]
  },
  {
   "cell_type": "markdown",
   "metadata": {
    "slideshow": {
     "slide_type": "slide"
    }
   },
   "source": [
    "# This requires a cultural solution"
   ]
  },
  {
   "cell_type": "markdown",
   "metadata": {
    "slideshow": {
     "slide_type": "-"
    }
   },
   "source": [
    "* This necessarily means you are going to have to say \"no\" to enthusiastic developers and users\n",
    "* How can you do this without hurting people's feelings?\n",
    "* How do you build this into your community and developer DNA?\n",
    "\n",
    "Here are some ideas..."
   ]
  },
  {
   "cell_type": "markdown",
   "metadata": {
    "slideshow": {
     "slide_type": "slide"
    }
   },
   "source": [
    "<h3 class=\"point\">Create a roadmap for the project that describes which features are going to be added and which are not</h3>\n",
    "\n",
    "<h3 class=\"point\">Publicize this roadmap, discuss it with developers and make it an important part of the development process</h3>"
   ]
  },
  {
   "cell_type": "markdown",
   "metadata": {
    "slideshow": {
     "slide_type": "slide"
    }
   },
   "source": [
    "<h3 class=\"point\">Decide on a finite scope, or vision, for the project</h3>\n",
    "<h3 class=\"point\">Communicate that vision to your community</h3>\n",
    "<h3 class=\"point\">Implement features that are within that scope</h3>"
   ]
  },
  {
   "cell_type": "markdown",
   "metadata": {
    "slideshow": {
     "slide_type": "slide"
    }
   },
   "source": [
    "<h3 class=\"point\">Make features fight hard to be accepted and implemented</h3>\n",
    "<h3 class=\"point\">Communicate to the community and developers that the default answer to new feature requests is no (it's not personal!)</h3>\n",
    "<h3 class=\"point\">Don't even consider implementation until the much of the community is crying \"we absolutely must have this.\" </h3>"
   ]
  },
  {
   "cell_type": "markdown",
   "metadata": {
    "slideshow": {
     "slide_type": "slide"
    }
   },
   "source": [
    "<h3 class=\"point\">Create a workflow that separates new feature requests from other tickets/issues</h3>\n",
    "<h3 class=\"point\">When people submit new feature requests, encourage discussion, but don't automatically promote the feature to the project's todo list</h3>"
   ]
  },
  {
   "cell_type": "markdown",
   "metadata": {
    "slideshow": {
     "slide_type": "slide"
    }
   },
   "source": [
    "<h3 class=\"point\">When new feature requests are submitted, discuss the specific costs and liabilities associated with the feature</h3>\n",
    "<h3 class=\"point\">Build this thinking into your development DNA</h3>"
   ]
  },
  {
   "cell_type": "markdown",
   "metadata": {
    "slideshow": {
     "slide_type": "slide"
    }
   },
   "source": [
    "<h3 class=\"point\">Communicate to the community why it is important to fight against boundless feature expansion</h3>\n",
    "<h3 class=\"point\">Focus on the benefits: smaller, simpler code base, fewer bugs, more time to focus on important features, easier to support, etc.</h3>"
   ]
  },
  {
   "cell_type": "markdown",
   "metadata": {
    "slideshow": {
     "slide_type": "slide"
    }
   },
   "source": [
    "<h3 class=\"point\">Remove features that have too great a cost, are outside your project's scope or that few users actually use</h3>"
   ]
  },
  {
   "cell_type": "markdown",
   "metadata": {
    "slideshow": {
     "slide_type": "slide"
    }
   },
   "source": [
    "<h3 class=\"point\">Refactor the codebase to reduce complexity</h3>\n",
    "<h3 class=\"point\">Extra bonus points if you can implement a new feature while reducing the complexity of the code base</h3>"
   ]
  },
  {
   "cell_type": "markdown",
   "metadata": {
    "slideshow": {
     "slide_type": "slide"
    }
   },
   "source": [
    "<h3 class=\"point\">Improve testing</h3>"
   ]
  },
  {
   "cell_type": "markdown",
   "metadata": {
    "slideshow": {
     "slide_type": "slide"
    }
   },
   "source": [
    "# Summary"
   ]
  },
  {
   "cell_type": "markdown",
   "metadata": {},
   "source": [
    "## Decide on a finite scope for a project and communicate it to the community\n",
    "## Implement a minimal set of features that cover that scope\n",
    "## Ship software with bugs\n",
    "## Use those bugs to learn useful information and attract developers"
   ]
  },
  {
   "cell_type": "markdown",
   "metadata": {
    "slideshow": {
     "slide_type": "slide"
    }
   },
   "source": [
    "# Resources"
   ]
  },
  {
   "cell_type": "markdown",
   "metadata": {},
   "source": [
    "I am not the first person to think or talk about these ideas. The following books are my favorite writers on these topics. While these books focus on building commercial products, most of the ideas apply equally well to open source software.\n",
    "\n",
    "* [The Lean Startup](http://theleanstartup.com/) by Eric Ries \n",
    "* [Getting Real](http://gettingreal.37signals.com/) by 37 Signals (free PDF!)\n",
    "\n",
    "Here are some IPython specific resources:\n",
    "\n",
    "* [IPython Roadmap](https://github.com/ipython/ipython/wiki/Roadmap:-IPython)\n",
    "* [IPython GitHub Issues](https://github.com/ipython/ipython/issues?state=open)\n",
    "\n",
    "My blog where I have written further about these ideas:\n",
    "\n",
    "* http://brianegranger.com"
   ]
  },
  {
   "cell_type": "markdown",
   "metadata": {
    "slideshow": {
     "slide_type": "slide"
    }
   },
   "source": [
    "<h1 class=\"bigtitle\">Thanks!</h1>"
   ]
  },
  {
   "cell_type": "code",
   "execution_count": 2,
   "metadata": {
    "slideshow": {
     "slide_type": "slide"
    }
   },
   "outputs": [
    {
     "data": {
      "text/html": [
       "\n",
       "\n",
       "<style>\n",
       "\n",
       ".rendered_html {\n",
       "    font-family: \"proxima-nova\", helvetica;\n",
       "    font-size: 150%;\n",
       "    line-height: 1.3;\n",
       "}\n",
       "\n",
       ".rendered_html h1 {\n",
       "    margin: 0.25em 0em 0.5em;\n",
       "    color: #015C9C;\n",
       "    text-align: center;\n",
       "    line-height: 1.2; \n",
       "    page-break-before: always;\n",
       "}\n",
       "\n",
       ".rendered_html h2 {\n",
       "    margin: 1.1em 0em 0.5em;\n",
       "    color: #26465D;\n",
       "    line-height: 1.2;\n",
       "}\n",
       "\n",
       ".rendered_html h3 {\n",
       "    margin: 1.1em 0em 0.5em;\n",
       "    color: #002845;\n",
       "    line-height: 1.2;\n",
       "}\n",
       "\n",
       ".rendered_html li {\n",
       "    line-height: 1.5; \n",
       "}\n",
       "\n",
       ".prompt {\n",
       "    font-size: 120%; \n",
       "}\n",
       "\n",
       ".CodeMirror-lines {\n",
       "    font-size: 120%; \n",
       "}\n",
       "\n",
       ".output_area {\n",
       "    font-size: 120%; \n",
       "}\n",
       "\n",
       "#notebook {\n",
       "    background-image: url('files/images/witewall_3.png');\n",
       "}\n",
       "\n",
       "h1.bigtitle {\n",
       "    margin: 4cm 1cm 4cm 1cm;\n",
       "    font-size: 300%;\n",
       "}\n",
       "\n",
       "h3.point {\n",
       "    font-size: 200%;\n",
       "    text-align: center;\n",
       "    margin: 2em 0em 2em 0em;\n",
       "    #26465D\n",
       "}\n",
       "\n",
       ".logo {\n",
       "    margin: 20px 0 20px 0;\n",
       "}\n",
       "\n",
       "a.anchor-link {\n",
       "    display: none;\n",
       "}\n",
       "\n",
       "h1.title { \n",
       "    font-size: 250%;\n",
       "}\n",
       "\n",
       "</style>\n"
      ],
      "text/plain": [
       "<IPython.core.display.HTML at 0x10802d410>"
      ]
     },
     "metadata": {},
     "output_type": "display_data"
    }
   ],
   "source": [
    "from IPython.display import display, HTML\n",
    "s = \"\"\"\n",
    "\n",
    "<style>\n",
    "\n",
    ".rendered_html {\n",
    "    font-family: \"proxima-nova\", helvetica;\n",
    "    font-size: 150%;\n",
    "    line-height: 1.3;\n",
    "}\n",
    "\n",
    ".rendered_html h1 {\n",
    "    margin: 0.25em 0em 0.5em;\n",
    "    color: #015C9C;\n",
    "    text-align: center;\n",
    "    line-height: 1.2; \n",
    "    page-break-before: always;\n",
    "}\n",
    "\n",
    ".rendered_html h2 {\n",
    "    margin: 1.1em 0em 0.5em;\n",
    "    color: #26465D;\n",
    "    line-height: 1.2;\n",
    "}\n",
    "\n",
    ".rendered_html h3 {\n",
    "    margin: 1.1em 0em 0.5em;\n",
    "    color: #002845;\n",
    "    line-height: 1.2;\n",
    "}\n",
    "\n",
    ".rendered_html li {\n",
    "    line-height: 1.5; \n",
    "}\n",
    "\n",
    ".prompt {\n",
    "    font-size: 120%; \n",
    "}\n",
    "\n",
    ".CodeMirror-lines {\n",
    "    font-size: 120%; \n",
    "}\n",
    "\n",
    ".output_area {\n",
    "    font-size: 120%; \n",
    "}\n",
    "\n",
    "#notebook {\n",
    "    background-image: url('files/images/witewall_3.png');\n",
    "}\n",
    "\n",
    "h1.bigtitle {\n",
    "    margin: 4cm 1cm 4cm 1cm;\n",
    "    font-size: 300%;\n",
    "}\n",
    "\n",
    "h3.point {\n",
    "    font-size: 200%;\n",
    "    text-align: center;\n",
    "    margin: 2em 0em 2em 0em;\n",
    "    #26465D\n",
    "}\n",
    "\n",
    ".logo {\n",
    "    margin: 20px 0 20px 0;\n",
    "}\n",
    "\n",
    "a.anchor-link {\n",
    "    display: none;\n",
    "}\n",
    "\n",
    "h1.title { \n",
    "    font-size: 250%;\n",
    "}\n",
    "\n",
    "</style>\n",
    "\"\"\"\n",
    "display(HTML(s))"
   ]
  },
  {
   "cell_type": "code",
   "execution_count": null,
   "metadata": {},
   "outputs": [],
   "source": []
  }
 ],
 "metadata": {
  "kernelspec": {
   "display_name": "Python 2",
   "language": "python",
   "name": "python2"
  },
  "language_info": {
   "codemirror_mode": {
    "name": "ipython",
    "version": 2
   },
   "file_extension": ".py",
   "mimetype": "text/x-python",
   "name": "python",
   "nbconvert_exporter": "python",
   "pygments_lexer": "ipython2",
   "version": "2.7.12"
  }
 },
 "nbformat": 4,
 "nbformat_minor": 1
}

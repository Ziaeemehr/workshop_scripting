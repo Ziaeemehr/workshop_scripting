{
 "cells": [
  {
   "cell_type": "markdown",
   "metadata": {},
   "source": [
    "# Python for Scientific Computing\n"
   ]
  },
  {
   "cell_type": "markdown",
   "metadata": {},
   "source": [
    "## Numpy, SciPy, Matplotlib"
   ]
  },
  {
   "cell_type": "raw",
   "metadata": {},
   "source": [
    "Note: for numpy I used Stefan Richter (University College London)\n",
    "and David Grellscheid's slides"
   ]
  },
  {
   "cell_type": "raw",
   "metadata": {},
   "source": [
    "NumPy (numerical Python, http://www.numpy.org)\n",
    "SciPy (scientific Python, https://docs.scipy.org/doc/scipy/reference/)\n",
    "Matplotlib (2D plotting, http://matplotlib.org)"
   ]
  },
  {
   "cell_type": "markdown",
   "metadata": {},
   "source": [
    "#### how to install\n",
    "-  sudo apt-get update\n",
    "-  sudo apt-get install python-numpy python-scipy python-matplotlib ipython ipython-notebook\n",
    "#### or\n",
    "-  sudo apt install python-pip # to install pip\n",
    "-  pip install scipy\n",
    "-  pip install numpy\n",
    "-  pip install matplotlib\n"
   ]
  },
  {
   "cell_type": "code",
   "execution_count": 1,
   "metadata": {},
   "outputs": [],
   "source": [
    "import numpy\n",
    "#or\n",
    "import numpy as np\n",
    "#or\n",
    "from numpy import * # not recommended\n",
    "#-----------------------------\n",
    "import scipy as sp\n",
    "import  matplotlib as mpl\n",
    "import matplotlib.pyplot as plt"
   ]
  },
  {
   "cell_type": "raw",
   "metadata": {},
   "source": [
    "The array is the basic, essential unit of Numpy"
   ]
  },
  {
   "cell_type": "code",
   "execution_count": 2,
   "metadata": {},
   "outputs": [
    {
     "name": "stdout",
     "output_type": "stream",
     "text": [
      "[1 4 5 8]\n",
      "<class 'numpy.ndarray'>\n",
      "<class 'numpy.int64'>\n",
      "[1 4 5 8]\n",
      "[1 4]\n",
      "[5 8]\n"
     ]
    }
   ],
   "source": [
    "a = np.array([1, 4, 5, 8])\n",
    "print(a)\n",
    "print(type(a))\n",
    "print(type(a[0]))\n",
    "print(a[:])\n",
    "print(a[:2])\n",
    "print(a[2:])\n",
    "\n",
    "# slicing  [start:end:step]\n",
    "#https://docs.scipy.org/doc/numpy-1.15.1/reference/arrays.indexing.html"
   ]
  },
  {
   "cell_type": "raw",
   "metadata": {},
   "source": [
    "Just like lists, an array can have multiple dimensions (obviously useful for matrices):"
   ]
  },
  {
   "cell_type": "code",
   "execution_count": 3,
   "metadata": {},
   "outputs": [
    {
     "name": "stdout",
     "output_type": "stream",
     "text": [
      "[[1 2 3]\n",
      " [4 5 6]]\n",
      "1\n",
      "shape of a :  (2, 3)\n",
      "<class 'list'>\n"
     ]
    }
   ],
   "source": [
    "a = np.array([[1, 2, 3], \n",
    "              [4, 5, 6]])\n",
    "\n",
    "print (a)\n",
    "print (a[0,0])\n",
    "print ('shape of a : ', a.shape)\n",
    "\n",
    "b = a.tolist()\n",
    "print (type(b))"
   ]
  },
  {
   "cell_type": "code",
   "execution_count": 4,
   "metadata": {},
   "outputs": [
    {
     "name": "stdout",
     "output_type": "stream",
     "text": [
      "[[2 2 6 1 3 9 6 1 0 1 9 0 0 9 3 4 0 0 4 1]\n",
      " [7 3 2 4 7 2 4 8 0 7 9 3 4 6 1 5 6 2 1 8]]\n"
     ]
    }
   ],
   "source": [
    "np.random.seed(123)\n",
    "a = np.random.randint(low=0, high=10, size=(2,20))\n",
    "print (a)"
   ]
  },
  {
   "cell_type": "markdown",
   "metadata": {},
   "source": [
    "### basic operations on arrays:"
   ]
  },
  {
   "cell_type": "code",
   "execution_count": 5,
   "metadata": {},
   "outputs": [],
   "source": [
    "np.mean?"
   ]
  },
  {
   "cell_type": "code",
   "execution_count": 6,
   "metadata": {},
   "outputs": [
    {
     "name": "stdout",
     "output_type": "stream",
     "text": [
      "[[2 7]\n",
      " [2 3]\n",
      " [6 2]\n",
      " [1 4]\n",
      " [3 7]\n",
      " [9 2]\n",
      " [6 4]\n",
      " [1 8]\n",
      " [0 0]\n",
      " [1 7]\n",
      " [9 9]\n",
      " [0 3]\n",
      " [0 4]\n",
      " [9 6]\n",
      " [3 1]\n",
      " [4 5]\n",
      " [0 6]\n",
      " [0 2]\n",
      " [4 1]\n",
      " [1 8]]\n",
      "3.75\n",
      "[4.5 2.5 4.  2.5 5.  5.5 5.  4.5 0.  4.  9.  1.5 2.  7.5 2.  4.5 3.  1.\n",
      " 2.5 4.5]\n",
      "[3.05 4.45]\n",
      "[2.5 0.5 2.  1.5 2.  3.5 1.  3.5 0.  3.  0.  1.5 2.  1.5 1.  0.5 3.  1.\n",
      " 1.5 3.5]\n",
      "9 0\n"
     ]
    }
   ],
   "source": [
    "print (a.transpose())\n",
    "print (np.mean(a))\n",
    "print (np.mean(a, axis=0)) # average on rows for each column \n",
    "print (np.mean(a, axis=1)) #average on columns for each row\n",
    "print (np.std(a, axis=0)) # std along each column\n",
    "print (np.max(a), np.min(a))"
   ]
  },
  {
   "cell_type": "markdown",
   "metadata": {},
   "source": [
    "### Element-wise operations"
   ]
  },
  {
   "cell_type": "code",
   "execution_count": 7,
   "metadata": {},
   "outputs": [],
   "source": [
    "a = np.array([1,2,3])\n",
    "b = np.array([2,4,6])"
   ]
  },
  {
   "cell_type": "code",
   "execution_count": 8,
   "metadata": {},
   "outputs": [
    {
     "name": "stdout",
     "output_type": "stream",
     "text": [
      "[3 6 9]\n",
      "[ 2  8 18]\n",
      "[2. 2. 2.]\n"
     ]
    },
    {
     "data": {
      "text/plain": [
       "array([  1,  16, 729])"
      ]
     },
     "execution_count": 8,
     "metadata": {},
     "output_type": "execute_result"
    }
   ],
   "source": [
    "print (a+b)\n",
    "print (a*b)\n",
    "print (b/a)\n",
    "a**b"
   ]
  },
  {
   "cell_type": "markdown",
   "metadata": {},
   "source": [
    "## Copy an Object in Python"
   ]
  },
  {
   "cell_type": "raw",
   "metadata": {},
   "source": [
    "Copy using = operator, it does not create a new object"
   ]
  },
  {
   "cell_type": "code",
   "execution_count": 9,
   "metadata": {},
   "outputs": [
    {
     "name": "stdout",
     "output_type": "stream",
     "text": [
      "Old List: [[1, 2, 3], [7, 8, 9]]\n",
      "ID of Old List: 139627465409032\n",
      "New List: [[1, 2, 3], [7, 8, 9]]\n",
      "ID of New List: 139627465409032\n"
     ]
    }
   ],
   "source": [
    "old_list = [[1, 2, 3], [7, 8, 'a']]\n",
    "new_list = old_list\n",
    "\n",
    "new_list[1][2] = 9\n",
    "\n",
    "print('Old List:', old_list)\n",
    "print('ID of Old List:', id(old_list))\n",
    "\n",
    "print('New List:', new_list)\n",
    "print('ID of New List:', id(new_list))"
   ]
  },
  {
   "cell_type": "raw",
   "metadata": {},
   "source": [
    "Shallow Copy\n",
    "A shallow copy creates a new object which stores the reference of the original elements.\n",
    "https://www.programiz.com/python-programming/shallow-deep-copy"
   ]
  },
  {
   "cell_type": "code",
   "execution_count": 10,
   "metadata": {},
   "outputs": [
    {
     "name": "stdout",
     "output_type": "stream",
     "text": [
      "Old list: [1, 'a', 3] 139627465343368\n",
      "New list: [1, 55, 3] 139627465345352\n",
      "--------------------------------------------------\n",
      "Old list: [[1, 55, 3], [4, 5, 6]] 139627465409352\n",
      "New list: [[1, 55, 3], [4, 5, 6]] 139627465409032\n"
     ]
    }
   ],
   "source": [
    "from copy import copy\n",
    "\n",
    "old_list = [1, 'a', 3] \n",
    "new_list = copy(old_list)\n",
    "new_list[1] = 55\n",
    "\n",
    "print(\"Old list:\", old_list, id(old_list))\n",
    "print(\"New list:\", new_list, id(new_list))\n",
    "\n",
    "print (\"-\"*50)\n",
    "old_list = [[1, 'a', 3],[4,5,6]] \n",
    "new_list = copy(old_list)\n",
    "new_list[0][1] = 55\n",
    "\n",
    "print(\"Old list:\", old_list, id(old_list))\n",
    "print(\"New list:\", new_list, id(new_list))"
   ]
  },
  {
   "cell_type": "code",
   "execution_count": 11,
   "metadata": {},
   "outputs": [
    {
     "name": "stdout",
     "output_type": "stream",
     "text": [
      "Old list: [[1, 1, 1], [2, 2, 2], [3, 3, 3]] 139627465345608\n",
      "New list: [[1, 1, 1], ['BB', 2, 2], [3, 3, 3]] 139627465409160\n"
     ]
    }
   ],
   "source": [
    "from copy import deepcopy\n",
    "\n",
    "old_list = [[1, 1, 1], [2, 2, 2], [3, 3, 3]]\n",
    "new_list = deepcopy(old_list)\n",
    "\n",
    "new_list[1][0] = 'BB'\n",
    "\n",
    "print(\"Old list:\", old_list, id(old_list))\n",
    "print(\"New list:\", new_list, id(new_list))"
   ]
  },
  {
   "cell_type": "markdown",
   "metadata": {},
   "source": [
    "# Matplotlib"
   ]
  },
  {
   "cell_type": "code",
   "execution_count": 12,
   "metadata": {},
   "outputs": [
    {
     "name": "stdout",
     "output_type": "stream",
     "text": [
      "0.000 \t 0.000\n",
      "0.100 \t 0.451\n",
      "0.200 \t 0.804\n",
      "0.300 \t 1.059\n",
      "0.400 \t 1.215\n",
      "0.500 \t 1.274\n",
      "0.600 \t 1.234\n",
      "0.700 \t 1.097\n",
      "0.800 \t 0.861\n",
      "0.900 \t 0.527\n",
      "1.000 \t 0.095\n",
      "1.100 \t -0.435\n",
      "1.200 \t -1.063\n",
      "1.300 \t -1.789\n",
      "1.400 \t -2.614\n",
      "1.500 \t -3.536\n",
      "1.600 \t -4.557\n",
      "1.700 \t -5.675\n",
      "1.800 \t -6.892\n",
      "1.900 \t -8.207\n"
     ]
    },
    {
     "data": {
      "image/png": "[encoded data removed]",
      "text/plain": [
       "<Figure size 432x288 with 1 Axes>"
      ]
     },
     "metadata": {
      "needs_background": "light"
     },
     "output_type": "display_data"
    }
   ],
   "source": [
    "# https://matplotlib.org/gallery.html\n",
    "%matplotlib inline\n",
    "import matplotlib.pyplot as plt\n",
    "import numpy as np\n",
    "\n",
    "v0 = 5\n",
    "g = 9.81\n",
    "t = [i*0.1 for i in range(20)]\n",
    "# t = np.arange(0,20,0.1)\n",
    "    \n",
    "y = [0]*len(t)# or np.zeros(len(t)) \n",
    "\n",
    "for i in range(len(t)):\n",
    "    y[i] = v0*t[i] - 0.5 *g*t[i]**2\n",
    "\n",
    "for i in range(len(t)):\n",
    "    print (\"%4.3f \\t %4.3f\" % (t[i] , y[i]))\n",
    "    \n",
    "    \n",
    "plt.plot(t,y, lw=3, ls='--' );\n",
    "# plt.xticks(np.arange(0,2,0.1));\n",
    "#plt.savefig(\"fig.png\")\n",
    "\n"
   ]
  },
  {
   "cell_type": "code",
   "execution_count": 13,
   "metadata": {},
   "outputs": [
    {
     "data": {
      "image/png": "[encoded data removed]",
      "text/plain": [
       "<Figure size 432x288 with 4 Axes>"
      ]
     },
     "metadata": {
      "needs_background": "light"
     },
     "output_type": "display_data"
    }
   ],
   "source": [
    "fig, ax = plt.subplots(nrows=2, ncols=2)\n",
    "t = np.arange(1,20,0.1)\n",
    "\n",
    "ax[0,0].plot(t, np.sin(t), label='sin')\n",
    "ax[0,1].plot(t, np.cos(t), label='cos')\n",
    "ax[1,0].plot(t, t**2/1000, label=r'$t^2$')\n",
    "ax[1,1].plot(t,t**3/1000,  label=r'$t^3$')\n",
    "\n",
    "for j in range(2):\n",
    "    ax[1,j].set_xlabel('time')\n",
    "for i in range(2):\n",
    "    for j in range(2):\n",
    "        ax[i,j].legend()"
   ]
  },
  {
   "cell_type": "code",
   "execution_count": 14,
   "metadata": {},
   "outputs": [
    {
     "data": {
      "image/png": "[encoded data removed]",
      "text/plain": [
       "<Figure size 432x288 with 2 Axes>"
      ]
     },
     "metadata": {
      "needs_background": "light"
     },
     "output_type": "display_data"
    },
    {
     "data": {
      "image/png": "[encoded data removed]",
      "text/plain": [
       "<Figure size 432x288 with 2 Axes>"
      ]
     },
     "metadata": {
      "needs_background": "light"
     },
     "output_type": "display_data"
    }
   ],
   "source": [
    "\"\"\"\n",
    "Demo of the `streamplot` function.\n",
    "\n",
    "A streamplot, or streamline plot, is used to display 2D vector fields. This\n",
    "example shows a few features of the stream plot function:\n",
    "\n",
    "    * Varying the color along a streamline.\n",
    "    * Varying the density of streamlines.\n",
    "    * Varying the line width along a stream line.\n",
    "    https://matplotlib.org/examples/images_contours_and_fields/streamplot_demo_features.html\n",
    "\"\"\"\n",
    "%matplotlib inline\n",
    "import numpy as np\n",
    "import matplotlib.pyplot as plt\n",
    "\n",
    "Y, X = np.mgrid[-3:3:100j, -3:3:100j]\n",
    "U = -1 - X**2 + Y\n",
    "V = 1 + X - Y**2\n",
    "speed = np.sqrt(U*U + V*V)\n",
    "\n",
    "fig0, ax0 = plt.subplots()\n",
    "strm = ax0.streamplot(X, Y, U, V, color=U, linewidth=2, cmap=plt.cm.autumn)\n",
    "fig0.colorbar(strm.lines)\n",
    "\n",
    "fig1, (ax1, ax2) = plt.subplots(ncols=2)\n",
    "ax1.streamplot(X, Y, U, V, density=[0.5, 1])\n",
    "\n",
    "lw = 5*speed / speed.max()\n",
    "ax2.streamplot(X, Y, U, V, density=0.6, color='k', linewidth=lw);\n",
    "\n",
    "# plt.show()\n",
    "# mayavi"
   ]
  },
  {
   "cell_type": "markdown",
   "metadata": {},
   "source": [
    "## Examples using numpy"
   ]
  },
  {
   "cell_type": "markdown",
   "metadata": {},
   "source": [
    "#### Create an array a of length n, with zeroes and double precision float type:"
   ]
  },
  {
   "cell_type": "code",
   "execution_count": 15,
   "metadata": {},
   "outputs": [
    {
     "name": "stdout",
     "output_type": "stream",
     "text": [
      "zeros(n): <class 'numpy.ndarray'> <class 'numpy.float64'> [0. 0. 0. 0.]\n",
      "------------------------------------\n",
      "zeros(n) <class 'numpy.ndarray'> <class 'numpy.int64'> [0 0 0 0]\n",
      "------------------------------------\n",
      "zeros((p,q)) <class 'numpy.ndarray'> [[0. 0.]\n",
      " [0. 0.]]\n"
     ]
    }
   ],
   "source": [
    "n = 4\n",
    "a = zeros(n)\n",
    "print ('zeros(n):', type(a), type(a[0]), a)\n",
    "\n",
    "print ('------------------------------------')\n",
    "\n",
    "a = zeros(n,'int') # becomes array of integers (!)\n",
    "print ('zeros(n)', type(a),type(a[0]), a)\n",
    "\n",
    "print ('------------------------------------')\n",
    "\n",
    "p = q = 2\n",
    "a = zeros((p, q))\n",
    "print ('zeros((p,q))', type(a), a)"
   ]
  },
  {
   "cell_type": "code",
   "execution_count": 16,
   "metadata": {},
   "outputs": [
    {
     "name": "stdout",
     "output_type": "stream",
     "text": [
      "linspace(-5, 5, 11) <class 'numpy.ndarray'> <class 'numpy.float64'>\n",
      "[-5. -4. -3. -2. -1.  0.  1.  2.  3.  4.  5.]\n",
      "arange(-5, 5.1, 1) <class 'numpy.ndarray'> <class 'numpy.float64'> [-5. -4. -3. -2. -1.  0.  1.  2.  3.  4.  5.]\n"
     ]
    }
   ],
   "source": [
    "x = linspace(-5, 5, 11)\n",
    "print ('linspace(-5, 5, 11)', type(x), type(x[0]))\n",
    "print (x)\n",
    "\n",
    "# arange is possible\n",
    "x = arange(-5, 5, 1, float)\n",
    "\n",
    "# note: round-off errors may prevent the last element\n",
    "# in x from being equal to the upper bound 5\n",
    "\n",
    "x = arange(-5, 5.1, 1)  # ensures that 5 is in x\n",
    "print ('arange(-5, 5.1, 1)', type(x), type(x[0]), x)"
   ]
  },
  {
   "cell_type": "code",
   "execution_count": 17,
   "metadata": {},
   "outputs": [
    {
     "name": "stdout",
     "output_type": "stream",
     "text": [
      "y = sin(x/2.0)*3.0: <class 'numpy.ndarray'> <class 'numpy.float64'> [-1.79541643 -2.72789228 -2.99248496 -2.52441295 -1.43827662  0.\n",
      "  1.43827662  2.52441295  2.99248496  2.72789228  1.79541643]\n"
     ]
    }
   ],
   "source": [
    "y = sin(x/2.0)*3.0\n",
    "print ('y = sin(x/2.0)*3.0:', type(y), type(y[0]), y)"
   ]
  },
  {
   "cell_type": "code",
   "execution_count": 18,
   "metadata": {},
   "outputs": [
    {
     "name": "stdout",
     "output_type": "stream",
     "text": [
      "pl = [0, 1.2, 4, -9.1, 5, 8]; array(pl) <class 'numpy.ndarray'> [ 0.   1.2  4.  -9.1  5.   8. ]\n",
      "locate i as index for 0.5 in a [[ 0.   0.5  1. ]\n",
      " [-6.1 -2.   1.2]] i: 1\n"
     ]
    }
   ],
   "source": [
    "# create a NumPy array of a Python list:\n",
    "pl = [0, 1.2, 4, -9.1, 5, 8]\n",
    "a = array(pl)\n",
    "\n",
    "print ('pl = [0, 1.2, 4, -9.1, 5, 8]; '\\\n",
    "      'array(pl)', type(a), a)\n",
    "# from nested Python list to NumPy arrays and back again:\n",
    "x = [0, 0.5, 1]; y = [-6.1, -2, 1.2]  # lists\n",
    "a = array([x, y])  # form 2x3 array (x and y as rows)\n",
    "# turn 1st row to Python list and use index to locate an entry:\n",
    "i = a[0,:].tolist().index(0.5)\n",
    "print ('locate i as index for 0.5 in a', a, 'i:', i)\n"
   ]
  },
  {
   "cell_type": "code",
   "execution_count": 19,
   "metadata": {},
   "outputs": [
    {
     "name": "stdout",
     "output_type": "stream",
     "text": [
      "\n",
      " creating arrays of length 1E+06 ... \n",
      "fromfunction took 0.04859600000000075 s and arange&sin took 0.04270399999999963 s for length 1000000\n",
      "1.2\n",
      "[ 0. 10.]\n",
      "[[ 0.  1.  2.  3.  4.  5.]\n",
      " [ 6.  7.  8.  9. 10. 11.]\n",
      " [12. 13. 14. 15. 16. 17.]\n",
      " [18. 19. 20. 21. 22. 23.]\n",
      " [24. 25. 26. 27. 28. 29.]]\n",
      "[[ 6.  8. 10.]\n",
      " [12. 14. 16.]]\n",
      "[[ 2.  4.]\n",
      " [20. 22.]]\n",
      "[[ 2.  4.]\n",
      " [20. 22.]]\n",
      "a[0,0]=2 \n",
      "a[0,1]=6 \n",
      "a[0,2]=12 \n",
      "\n",
      "a[1,0]=4 \n",
      "a[1,1]=12 \n",
      "a[1,2]=24 \n",
      "\n",
      "[[ 2.  6. 12.]\n",
      " [ 4. 12. 24.]]\n",
      "[ 2.  6. 12.]\n",
      "[ 4. 12. 24.]\n",
      "2.0\n",
      "6.0\n",
      "12.0\n",
      "4.0\n",
      "12.0\n",
      "24.0\n",
      "(0, 0) 2.0\n",
      "(0, 1) 6.0\n",
      "(0, 2) 12.0\n",
      "(1, 0) 4.0\n",
      "(1, 1) 12.0\n",
      "(1, 2) 24.0\n",
      "a.shape = (2,3); a= [[ 2.  6. 12.]\n",
      " [ 4. 12. 24.]]\n",
      "a.shape = (size(a),); a= [ 2.  6. 12.  4. 12. 24.]\n",
      "3*a-1: vectorized: 0.000108 sec, loop: 0.000122 sec\n",
      "b = 3*a - 1; b = clip(b, 0.1, 1.0E+20); c = cos(b) [ 5. 17. 35. 11. 35. 71.] [ 0.28366219 -0.27516334 -0.90369221  0.0044257  -0.90369221 -0.30902273]\n",
      "[[ 7 10  5  6]\n",
      " [ 3 18 13  2]\n",
      " [14  8 17 16]\n",
      " [19 12 11  1]\n",
      " [ 0 15  4  9]]\n",
      "[ 7 10  5  6  3 18 13  2 14  8 17 16 19 12 11  1  0 15  4  9]\n",
      "max value = 12 for index 19\n",
      "19 0\n",
      "16 0\n",
      "0\n",
      "[ 7 10  5  6  3 18 13  2 14  8 17 16 19 12 11  1  0 15  4  9]\n",
      "[ 0  1  2  3  4  5  6  7  8  9 10 11 12 13 14 15 16 17 18 19]\n",
      "190 190\n",
      "[ 3  3  3  3  4  5  6  7  8  9 10 11 12 12 12 12 12 12 12 12]\n",
      "a: [0. 0. 0. 0. 0.]\n",
      "a *= 3.0; a= [0. 0. 0. 0. 0.]\n",
      "a -= 1.0; a= [-1. -1. -1. -1. -1.]\n",
      "a /= 3.0; a= [-0.33333333 -0.33333333 -0.33333333 -0.33333333 -0.33333333]\n",
      "a += 1.0; a= [0.66666667 0.66666667 0.66666667 0.66666667 0.66666667]\n",
      "a **= 2.0; a= [0.44444444 0.44444444 0.44444444 0.44444444 0.44444444]\n",
      "a[2:4] = -1; a[-1] = a[0]; a= [-1.  -0.6 -1.  -1.   0.6 -1. ]\n",
      "a.shape = (3,2); a[:,0]\n",
      "[-1.  -1.   0.6]\n",
      "a[:,1::2]\n",
      "[[-0.6]\n",
      " [-1. ]\n",
      " [-1. ]]\n",
      "type a: <class 'numpy.ndarray'>\n",
      "is a ndarray? True\n",
      "a.dtype.name: float64\n",
      "a.dtype.char: d\n",
      "a.dtype.itemsize: 8\n",
      "float64 == float32? False\n",
      "float64 == float? True\n",
      "a: [3. 3. 3. 3.]\n",
      "b: [3 3 3 3]\n",
      "a.item(2): 3.0\n",
      "a.ravel: [ 3.   3.   3.  -4.5]\n",
      "a.transpose(): [[  3.    3. ]\n",
      " [-88.   -4.5]]\n",
      "\n",
      "\n",
      "--------- random numbers -------------\n",
      "\n",
      "random number on (0,1): 0.5396810194599897\n",
      "unform random number on (-1,1): -0.007746380283623733\n",
      "N(0,1) Gaussian random number: 0.030008750341106238\n",
      "mean of 10000 random uniform random numbers:\n",
      "on (0,1): 0.4992526949828374 (should be 0.5)\n",
      "on (-1,1): -0.007841714393838703 (should be 0)\n",
      "generated 10000 N(0,1) samples with\n",
      "mean -0.010139 and st.dev. 1.00645 using random.normal(0,1,10000)\n",
      "probability N(0,1) < 1.5: 0.93\n",
      "\n",
      "\n",
      "--------- linear algebra -------------\n",
      "\n",
      "wrong solution [0.  0.5 1.  1.5] [3.78215977e-14 5.00000000e-01 1.00000000e+00 1.50000000e+00]\n",
      "correct solution\n",
      "Residual R = A*A-inverse - I: 7.033571414579676e-13\n",
      "det(A)=1.19048e-05\n",
      "eigenvalue 10.6047 has corresponding vector\n",
      "[ 0.47326857  0.7065385   0.06174023 -0.04451401]\n",
      "eigenvalue 0.215261 has corresponding vector\n",
      "[ 0.49642858  0.08012043 -0.67059248  0.33097206]\n",
      "eigenvalue 0.017824 has corresponding vector\n",
      "[ 0.51003386 -0.33075785 -0.07005871 -0.79128654]\n",
      "eigenvalue 0.000292584 has corresponding vector\n",
      "[ 0.51907706 -0.62047023  0.73592503  0.51219294]\n",
      "A: [[3.         2.5        2.33333333 2.25      ]\n",
      " [3.         2.66666667 2.5        2.4       ]\n",
      " [3.         2.75       2.6        2.5       ]\n",
      " [3.         2.8        2.66666667 2.57142857]]\n",
      "x: [0.  0.5 1.  1.5]\n",
      "b: [6.95833333 7.43333333 7.725      7.92380952]\n",
      "A*x = [[0.         1.25       2.33333333 3.375     ]\n",
      " [0.         1.33333333 2.5        3.6       ]\n",
      " [0.         1.375      2.6        3.75      ]\n",
      " [0.         1.4        2.66666667 3.85714286]]\n",
      "b*x = [ 0.          3.71666667  7.725      11.88571429]\n",
      "dot(A,x) = [6.95833333 7.43333333 7.725      7.92380952]\n",
      "dot(b,x) = 23.32738095238095\n",
      "x2: [[0.  0.5 1.  1.5]]\n",
      "x3: [[0. ]\n",
      " [0.5]\n",
      " [1. ]\n",
      " [1.5]]\n",
      "type(x3): <class 'numpy.matrix'>\n",
      "is x3 a matrix? True\n",
      "array2D*array1D: [[1. 2. 3.]\n",
      " [1. 2. 3.]\n",
      " [1. 2. 3.]]\n",
      "array2D*array2D: [[2. 2. 2.]\n",
      " [2. 2. 2.]\n",
      " [2. 2. 2.]]\n",
      "matrix*matrix: [[6. 6. 6.]\n",
      " [6. 6. 6.]\n",
      " [6. 6. 6.]]\n",
      "[-5 -4 -3 -2 -1  0  1  2  3  4]\n",
      "[-5. -4. -3. -2. -1.  0.  1.  2.  3.  4.  5.]\n",
      "[ 2.  2. -2. -2.  0.  0.]\n"
     ]
    }
   ],
   "source": [
    "# initialization from a function:\n",
    "def myfunc(i, j):\n",
    "    return (i+1)*(j+4-i)\n",
    "\n",
    "# make a one-dim. array of length n:\n",
    "n = 1000000\n",
    "def myfunc2(i):\n",
    "    return sin(i*0.0001)\n",
    "\n",
    "print ('\\n creating arrays of length %5.0E ... ' % (float(n)))\n",
    "import time; t1 = time.clock()\n",
    "a = fromfunction(myfunc2, (n,))\n",
    "t2 = time.clock()\n",
    "cpu_fromfunction = t2 - t1\n",
    "# alternative initialization via linspace and sin:\n",
    "a = linspace(1, n, n+1); a = sin(a*0.0001)\n",
    "cpu_arange_sin = time.clock() - t2\n",
    "print ('fromfunction took', cpu_fromfunction, \\\n",
    "      's and arange&sin took', cpu_arange_sin, 's for length', n)\n",
    "\n",
    "\n",
    "# indexing:\n",
    "a = array([0, 1.2, 4, -9.1, 5, 8])\n",
    "a.shape = (2,3) # turn a into a 2x3 matrix\n",
    "\n",
    "print (a[0,1])     # print entry (0,1)\n",
    "i=1; j=0\n",
    "a[i,j] = 10      # assignment to entry (i,j)\n",
    "print (a[:,0])     # print first column\n",
    "a[:,:] = 0       # set all elements of a equal to 0\n",
    "\n",
    "a = linspace(0, 29, 30)\n",
    "a.shape = (5,6)\n",
    "print (a)\n",
    "print (a[1:3,:-1:2])    # a[i,j] for i=1,2 and j=0,2,4\n",
    "print (a[::3,2:-1:2])   # a[i,j] for i=0,3 and j=2,4\n",
    "i = slice(None, None, 3);  j = slice(2, -1, 2)\n",
    "print (a[i,j])\n",
    "\n",
    "\n",
    "a = array([0, 1.2, 4, -9.1, 5, 8])\n",
    "a.shape = (2,3) # turn a into a 2x3 matrix\n",
    "\n",
    "# traverse array a:\n",
    "for i in range(a.shape[0]):\n",
    "    for j in range(a.shape[1]):\n",
    "        a[i,j] = (i+1)*(j+1)*(j+2)\n",
    "        print ('a[%d,%d]=%g ' % (i,j,a[i,j]),)\n",
    "    print()  # newline after each row\n",
    "\n",
    "print (a)\n",
    "for e in a:\n",
    "    print (e)\n",
    "\n",
    "for e in a.flat:\n",
    "    print (e)\n",
    "\n",
    "for index, value in ndenumerate(a):\n",
    "    print (index, value)\n",
    "\n",
    "print ('a.shape = (2,3); a=', a )\n",
    "# turn a into a vector of length 6 again\n",
    "a.shape = (size(a),)   # size(a) returns the total no of elements\n",
    "print ('a.shape = (size(a),); a=', a )\n",
    "\n",
    "# explicit loop vs vectorized operation:\n",
    "t0 = time.clock()\n",
    "b = 3*a - 1\n",
    "t1 = time.clock()\n",
    "for i in range(len(a)):\n",
    "    b[i] = 3*a[i] - 1\n",
    "t2 = time.clock()\n",
    "print ('3*a-1: vectorized: %g sec, loop: %g sec' % (t1-t0, t2-t1))\n",
    "\n",
    "# mathematical functions:\n",
    "b = clip(b, 0.1, 1.0E+20)  # throw away entries < 0.1\n",
    "c = cos(b)     # take the cosine of all entries in b\n",
    "print ('b = 3*a - 1; b = clip(b, 0.1, 1.0E+20); c = cos(b)', b, c)\n",
    "# these functions are available:\n",
    "c = sin(b)   \n",
    "c = arcsin(c)\n",
    "c = sinh(b)\n",
    "# same functions for the cos and tan families\n",
    "c = b**2.5  # raise all entries to the power of 2.5\n",
    "c = log(b)\n",
    "c = exp(b)\n",
    "c = sqrt(b)\n",
    "\n",
    "\n",
    "a = arange(0, 20)\n",
    "random.seed(10)  # fix seed\n",
    "random.shuffle(a)  # in-place modification of a\n",
    "a.shape = 5,4\n",
    "print (a)\n",
    "max_index = a.argmax()\n",
    "a1d = a.ravel()\n",
    "print (a1d)\n",
    "#  [ 7 10  5  6  3 18 13  2 14  8 17 16 19 12 11  1  0 15  4  9]\n",
    "max_value = a1d[max_index]\n",
    "print ('max value = %g for index %d' % (max_index, max_value))\n",
    "# max value 19 for index 12\n",
    "print (a.max(), a.min())\n",
    "min_index = a.argmin()\n",
    "print (min_index, a.ravel()[min_index])\n",
    "print (a.min())\n",
    "print (a1d)\n",
    "a1d.sort()\n",
    "print (a1d)\n",
    "print (sum(a), sum(a1d))\n",
    "#190 190\n",
    "a1d = a1d.clip(min=3, max=12)\n",
    "print (a1d)\n",
    "#import sys;sys.exit(1)\n",
    "\n",
    "a = zeros(5)\n",
    "print ('a:', a)\n",
    "a *= 3.0\n",
    "print ('a *= 3.0; a=', a)\n",
    "a -= 1.0   \n",
    "print ('a -= 1.0; a=', a)\n",
    "a /= 3.0   \n",
    "print ('a /= 3.0; a=', a)\n",
    "a += 1.0   \n",
    "print ('a += 1.0; a=', a)\n",
    "a **= 2.0  \n",
    "print ('a **= 2.0; a=', a)\n",
    "\n",
    "a = array([0, 1.2, 4, -9.1, 5, 8])\n",
    "a.shape = (2,3) # turn a into a 2x3 matrix\n",
    "\n",
    "# indexing as for Python lists:\n",
    "a = linspace(-1, 1, 6)\n",
    "a[2:4] = -1      # set a[2] and a[3] to -1\n",
    "a[-1] = a[0]     # set last element equal to first one\n",
    "print ('a[2:4] = -1; a[-1] = a[0]; a=', a )\n",
    "\n",
    "# multi-dimensional indexing:\n",
    "a.shape = (3,2)\n",
    "print ('a.shape = (3,2); a[:,0]',)\n",
    "print (a[:,0])     # print first column\n",
    "print ('a[:,1::2]',)\n",
    "print (a[:,1::2])  # print second column with stride 2\n",
    "\n",
    "# type testing:\n",
    "print ('type a:', type(a))\n",
    "print ('is a ndarray?', isinstance(a, ndarray))\n",
    "print ('a.dtype.name:', a.dtype.name)\n",
    "print ('a.dtype.char:', a.dtype.char)\n",
    "print ('a.dtype.itemsize:', a.dtype.itemsize)\n",
    "b = zeros(6, float32)\n",
    "print ('float64 == float32?', a.dtype == b.dtype)\n",
    "c = zeros(2, float)\n",
    "print ('float64 == float?', a.dtype == c.dtype)\n",
    "\n",
    "# array methods and attributes:\n",
    "a = zeros(4) + 3\n",
    "print ('a:', a)\n",
    "b = a.astype(int)\n",
    "print ('b:', b)\n",
    "print ('a.item(2):', a.item(2))  # more efficient than a[2]\n",
    "# more efficient than a[3]=-4.5:\n",
    "a.itemset(3,-4.5)   \n",
    "a.shape = (2,2)\n",
    "print ('a.ravel:', a.ravel())\n",
    "a[0,1]=-88               # make a non-symmetric\n",
    "print ('a.transpose():', a.transpose())\n",
    "\n",
    "\n",
    "# file reading and writing of NumPy arrays:\n",
    "a = linspace(1, 20, 20)\n",
    "a.shape = (2,10)\n",
    "\n",
    "# ASCII format:\n",
    "file = open('tmp.dat', 'w')\n",
    "file.write('Here is an array a:\\n')\n",
    "file.write(repr(a))\n",
    "# array2string has many options for controlling the\n",
    "# output of an array as a string, but repr() gives a format\n",
    "# that can be converted back to an array by eval()\n",
    "file.close()\n",
    "\n",
    "print ('\\n\\n--------- random numbers -------------\\n')\n",
    "n = 10000  # no of random samples\n",
    "\n",
    "# native Python support for random numbers:\n",
    "import random as random_number\n",
    "random.seed(2198)  # control the seed\n",
    "# uniform and random are inherited from whrandom:\n",
    "print ('random number on (0,1):',         random_number.random())\n",
    "print ('unform random number on (-1,1):', random_number.uniform(-1,1))\n",
    "print ('N(0,1) Gaussian random number:',  random_number.gauss(0,1))\n",
    "\n",
    "print ('mean of %d random uniform random numbers:' % n)\n",
    "u = random.random(n)  # uniform numbers on (0,1)\n",
    "print ('on (0,1):', sum(u)/n, '(should be 0.5)')\n",
    "u = random.uniform(-1,1,n) # uniform numbers on (-1,1)\n",
    "print ('on (-1,1):', sum(u)/n, '(should be 0)')\n",
    "\n",
    "# normally distributed numbers:\n",
    "mean = 0.0; stdev = 1.0\n",
    "u = random.normal(mean, stdev, n)\n",
    "m = sum(u)/n  # empirical mean\n",
    "s = sqrt(sum((u - m)**2)/(n-1))  # empirical st.dev.\n",
    "print ('generated %d N(0,1) samples with\\nmean %g '\\\n",
    "      'and st.dev. %g using random.normal(0,1,%d)' % (n, m, s, n))\n",
    "\n",
    "p = sum(u < 1.5)\n",
    "prob = p/float(n)\n",
    "print ('probability N(0,1) < 1.5: %.2f' % prob)\n",
    "\n",
    "print ('\\n\\n--------- linear algebra -------------\\n')\n",
    "\n",
    "n = 4\n",
    "A = zeros((n,n))\n",
    "x = zeros(n)\n",
    "b = zeros(n)\n",
    "\n",
    "for i in range(n):\n",
    "    x[i] = i/2.0       # some prescribed solution\n",
    "    for j in range(n):\n",
    "        A[i,j] = 2.0 + float(i+1)/float(j+i+1)\n",
    "\n",
    "b = dot(A, x)  # matrix-vector product: adjust rhs to fit x\n",
    "\n",
    "# solve linear system A*y=b:\n",
    "y = linalg.solve(A, b)\n",
    "\n",
    "# compare exact x with the y we computed:\n",
    "if sum(abs(x - y)) < 1.0E-12:  print ('correct solution')\n",
    "else:                          print ('wrong solution',x,y)\n",
    "# alternative:\n",
    "if allclose(x, y, atol=1.0E-12, rtol=1.0E-12):\n",
    "    print ('correct solution')\n",
    "else:\n",
    "    print ('wrong solution', x, y)\n",
    "\n",
    "# test: A times A inverse is the identity matrix:\n",
    "B = linalg.inv(A)\n",
    "R = dot(A, B) - eye(n)  # residual\n",
    "R_norm = linalg.norm(R)\n",
    "print ('Residual R = A*A-inverse - I:', R_norm)\n",
    "\n",
    "d = linalg.det(A)\n",
    "print ('det(A)=%g' % d)\n",
    "\n",
    "# eigenvalues only:\n",
    "A_eigenvalues = linalg.eigvals(A)\n",
    "\n",
    "# eigenvalues and eigenvectors:\n",
    "A_eigenvalues, A_eigenvectors = linalg.eig(A)  \n",
    "\n",
    "for e, v in zip(A_eigenvalues, A_eigenvectors):\n",
    "    print ('eigenvalue %g has corresponding vector\\n%s' % (e, v))\n",
    "\n",
    "\n",
    "# the * operator is not what we expect from linear algebra:\n",
    "print ('A:', A)\n",
    "print ('x:', x)\n",
    "print ('b:', b)\n",
    "print ('A*x =', A*x)\n",
    "print ('b*x =', b*x)\n",
    "print ('dot(A,x) =', dot(A,x))\n",
    "print ('dot(b,x) =', dot(b,x))\n",
    "\n",
    "# but with matrix/mat, * behaves as in linear algebra:\n",
    "x1 = array([1, 2, 3], float)\n",
    "x2 = matrix(x)                # or mat(x)\n",
    "print ('x2:', x2)               # row vector\n",
    "x3 = mat(x).transpose()       # column vector\n",
    "print ('x3:', x3)\n",
    "print ('type(x3):', type(x3))\n",
    "print ('is x3 a matrix?', isinstance(x3, matrix))\n",
    "\n",
    "# try array*array product:\n",
    "A = (zeros(9) + 1).reshape(3,3)\n",
    "y = A*x1                      # [A[0,:]*x1, A[1,:]*x1, A[2,:]*x1]\n",
    "print ('array2D*array1D:', y)\n",
    "B = A + 1\n",
    "print ('array2D*array2D:', A*B) # element-wise product\n",
    "A = mat(A);  B = mat(B)\n",
    "print ('matrix*matrix:', A*B)   # matrix-matrix product\n",
    "\n",
    "\n",
    "# Matlab-style quick generation of arrays:\n",
    "a = r_[-5:5:1]  # same as arange(-1, 1, 0.2)\n",
    "print (a)\n",
    "a = r_[-5:5:11j]  # same as linspace(-1, 1, 11)\n",
    "print (a)\n",
    "\n",
    "# stack three arrays together in a 3x2 array:\n",
    "c1 = zeros(2)+2;  c2 = zeros(2)-2;  c3 = zeros(2)\n",
    "a = r_[c1,c2,c3]\n",
    "print (a)\n",
    "\n",
    "# vectorization:\n",
    "def somefunc(x):\n",
    "    \"\"\"Scalar function.\"\"\"\n",
    "    if x < 0:\n",
    "        return 0\n",
    "    else:\n",
    "        return sin(x)\n",
    "\n",
    "# auto vectorization through numpy.vectorize:\n",
    "import numpy\n",
    "somefuncv = numpy.vectorize(somefunc, otypes='d')\n",
    "somefuncv.__name__ = \"vectorize(somefunc)\"\n",
    "\n",
    "def somefunc_NumPy(x):\n",
    "    r = x.copy()\n",
    "    for i in xrange(size(x)):\n",
    "        if x.flat[i] < 0:   # x.flat views x as one-dimensional\n",
    "            r[i] = 0.0\n",
    "        else:\n",
    "            r[i] = sin(x[i])\n",
    "    r.shape = x.shape\n",
    "    return r\n",
    "\n",
    "def somefunc_NumPy2(x):\n",
    "    \"\"\"Vectorized version of somefunc.\"\"\"\n",
    "    r1 = zeros(len(x), float)\n",
    "    r2 = sin(x)\n",
    "    return where(x < 0, r1, r2)\n",
    "\n",
    "def somefunc_NumPy2b(x):\n",
    "    \"\"\"Vectorized version of somefunc.\"\"\"\n",
    "    return where(x < 0, 0.0, sin(x))\n",
    "\n",
    "def somefunc_NumPy3(x):\n",
    "    b = (x > zeros(len(x), float))\n",
    "    return sin(x)*b\n",
    "\n",
    "def somefunc_NumPy_log(x):\n",
    "    r = zeros(len(x), float)\n",
    "    for i in range(len(x)):\n",
    "        if x[i] <= 0:\n",
    "            r[i] = 0.0\n",
    "        else:\n",
    "            r[i] = log(x[i])\n",
    "    return r\n",
    "\n",
    "def somefunc_NumPy_logv(x):\n",
    "    x_pos = where(x > 0, x, 1)\n",
    "    r1 = log(x_pos)\n",
    "    r = where(x < 0, 0.0, r1)\n",
    "    return r\n",
    "\n",
    "somefunc_list = [somefuncv, somefunc_NumPy, somefunc_NumPy2,\n",
    "                 somefunc_NumPy2b, somefunc_NumPy3,\n",
    "                 somefunc_NumPy_log, somefunc_NumPy_logv]\n",
    "\n",
    "\n",
    "\n"
   ]
  },
  {
   "cell_type": "code",
   "execution_count": null,
   "metadata": {},
   "outputs": [],
   "source": []
  }
 ],
 "metadata": {
  "kernelspec": {
   "display_name": "Python 3.6.9 64-bit",
   "language": "python",
   "name": "python36964bit057198969e4a45748e1a89b322631a22"
  },
  "language_info": {
   "codemirror_mode": {
    "name": "ipython",
    "version": 3
   },
   "file_extension": ".py",
   "mimetype": "text/x-python",
   "name": "python",
   "nbconvert_exporter": "python",
   "pygments_lexer": "ipython3",
   "version": "3.6.9"
  }
 },
 "nbformat": 4,
 "nbformat_minor": 2
}

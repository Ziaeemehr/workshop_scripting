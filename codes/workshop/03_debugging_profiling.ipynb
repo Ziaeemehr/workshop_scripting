{
 "cells": [
  {
   "cell_type": "markdown",
   "metadata": {
    "slideshow": {
     "slide_type": "slide"
    }
   },
   "source": [
    "# Profiling and Debugging in Python"
   ]
  },
  {
   "cell_type": "markdown",
   "metadata": {},
   "source": [
    "## Profiling\n",
    "### SnakeViz \n",
    "-  is a browser based graphical viewer for the output of Python’s cProfile module. \n",
    "https://jiffyclub.github.io/snakeviz/"
   ]
  },
  {
   "cell_type": "markdown",
   "metadata": {},
   "source": [
    "**Installation**\n",
    "-  pip install snakeviz"
   ]
  },
  {
   "cell_type": "markdown",
   "metadata": {},
   "source": [
    "-  python -m cProfile -o myscript.cprof myscript.py\n",
    "-  snakeviz myscript.cprof"
   ]
  },
  {
   "cell_type": "markdown",
   "metadata": {
    "slideshow": {
     "slide_type": "slide"
    }
   },
   "source": [
    "## Python Debugging With Pdb\n",
    "https://www.digitalocean.com/community/tutorials/how-to-use-the-python-debugger#using-the-debugger-to-move-through-a-program"
   ]
  },
  {
   "cell_type": "code",
   "execution_count": null,
   "metadata": {},
   "outputs": [],
   "source": [
    "# looping.py\n",
    "num_list = [500, 600, 700]\n",
    "alpha_list = ['x', 'y', 'z']\n",
    "def nested_loop():\n",
    "    for number in num_list:\n",
    "        print(number)\n",
    "        for letter in alpha_list:\n",
    "            print(letter)\n",
    "\n",
    "if __name__ == '__main__':\n",
    "    nested_loop()\n"
   ]
  },
  {
   "cell_type": "code",
   "execution_count": null,
   "metadata": {},
   "outputs": [],
   "source": [
    "python -m pdb looping.py\n",
    "\n",
    "<Output\n",
    "> /Users/sammy/looping.py(1)<module>()\n",
    "-> num_list = [500, 600, 700]\n",
    "(Pdb)"
   ]
  },
  {
   "cell_type": "markdown",
   "metadata": {
    "slideshow": {
     "slide_type": "subslide"
    }
   },
   "source": [
    "help <font color='red'> command </font>\n",
    "-  **list** command provides 11 lines around the current line\n",
    "-  **step/next**\n",
    "-  **print variable_name** print the current value of variable\n",
    "-  **breakpoint**  <program_file>:<line_number> create a breakpoint\n",
    "> break looping.py:5 \n",
    "\n",
    "To remove current breakpoints, type **clear** and then **y**"
   ]
  },
  {
   "cell_type": "markdown",
   "metadata": {
    "slideshow": {
     "slide_type": "slide"
    }
   },
   "source": [
    "### Integrating pdb into Programs"
   ]
  },
  {
   "cell_type": "code",
   "execution_count": null,
   "metadata": {},
   "outputs": [
    {
     "name": "stdout",
     "output_type": "stream",
     "text": [
      "500\n",
      "> <ipython-input-2-dbbd1213b19a>(14)nested_loop()\n",
      "-> for letter in alpha_list:\n"
     ]
    }
   ],
   "source": [
    "# Import pdb module\n",
    "import pdb\n",
    "\n",
    "num_list = [500, 600, 700]\n",
    "alpha_list = ['x', 'y', 'z']\n",
    "\n",
    "\n",
    "def nested_loop():\n",
    "    for number in num_list:\n",
    "        print(number)\n",
    "\n",
    "        # Trigger debugger at this line\n",
    "        pdb.set_trace()\n",
    "        for letter in alpha_list:\n",
    "            print(letter)\n",
    "\n",
    "if __name__ == '__main__':\n",
    "    nested_loop()\n"
   ]
  },
  {
   "cell_type": "code",
   "execution_count": null,
   "metadata": {},
   "outputs": [],
   "source": []
  }
 ],
 "metadata": {
  "celltoolbar": "Slideshow",
  "kernelspec": {
   "display_name": "Python 2",
   "language": "python",
   "name": "python2"
  },
  "language_info": {
   "codemirror_mode": {
    "name": "ipython",
    "version": 2
   },
   "file_extension": ".py",
   "mimetype": "text/x-python",
   "name": "python",
   "nbconvert_exporter": "python",
   "pygments_lexer": "ipython2",
   "version": "2.7.12"
  }
 },
 "nbformat": 4,
 "nbformat_minor": 2
}

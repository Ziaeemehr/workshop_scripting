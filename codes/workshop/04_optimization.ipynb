{
 "cells": [
  {
   "cell_type": "markdown",
   "metadata": {
    "slideshow": {
     "slide_type": "slide"
    }
   },
   "source": [
    "# Optimization in Python"
   ]
  },
  {
   "cell_type": "code",
   "execution_count": 1,
   "metadata": {},
   "outputs": [
    {
     "name": "stdout",
     "output_type": "stream",
     "text": [
      "100 loops, best of 3: 17.6 ms per loop\n",
      "10000 loops, best of 3: 67.9 µs per loop\n"
     ]
    }
   ],
   "source": [
    "import numpy as np\n",
    "import matplotlib.pyplot as plt\n",
    "from timeit import timeit\n",
    "\n",
    "n = 100000\n",
    "x = np.linspace(0, 1, n) # n points in [0, 1]\n",
    "y = np.zeros(n)\n",
    "\n",
    "def f(x):\n",
    "    return x*x\n",
    "\n",
    "\n",
    "# n zeros (float data type)\n",
    "%timeit for i in xrange(n): y[i] = f(x[i])\n",
    "# %timeit fn(x)\n",
    "%timeit y = x*x"
   ]
  },
  {
   "cell_type": "code",
   "execution_count": 2,
   "metadata": {
    "slideshow": {
     "slide_type": "slide"
    }
   },
   "outputs": [
    {
     "name": "stdout",
     "output_type": "stream",
     "text": [
      "100 loops, best of 3: 15.8 ms per loop\n",
      "10 loops, best of 3: 54.3 ms per loop\n",
      "1000 loops, best of 3: 1.06 ms per loop\n"
     ]
    }
   ],
   "source": [
    "n = 100000\n",
    "x = np.linspace(0, 1, n) # n points in [0, 1]\n",
    "\n",
    "from math import sin\n",
    "\n",
    "%timeit for i in xrange(len(x)):  y[i] = sin(x[i])\n",
    "\n",
    "%timeit for i in xrange(len(x)):  y[i] =np.sin(x[i])\n",
    "\n",
    "%timeit y = np.sin(x)\n"
   ]
  },
  {
   "cell_type": "markdown",
   "metadata": {
    "slideshow": {
     "slide_type": "slide"
    }
   },
   "source": [
    "## Numba\n",
    "http://numba.pydata.org/numba-doc/0.31.0/user/jit.html"
   ]
  },
  {
   "cell_type": "code",
   "execution_count": 3,
   "metadata": {
    "slideshow": {
     "slide_type": "-"
    }
   },
   "outputs": [],
   "source": [
    "from timeit import timeit\n",
    "from numba import jit\n",
    "@jit \n",
    "def f(x,y):\n",
    "    return x+y\n",
    "\n",
    "def fp(x,y):\n",
    "    return x+y\n"
   ]
  },
  {
   "cell_type": "code",
   "execution_count": 4,
   "metadata": {},
   "outputs": [
    {
     "name": "stdout",
     "output_type": "stream",
     "text": [
      "The slowest run took 636718.18 times longer than the fastest. This could mean that an intermediate result is being cached.\n",
      "1000000 loops, best of 3: 156 ns per loop\n",
      "The slowest run took 25.71 times longer than the fastest. This could mean that an intermediate result is being cached.\n",
      "10000000 loops, best of 3: 56.4 ns per loop\n"
     ]
    }
   ],
   "source": [
    "%timeit f(1,2)\n",
    "%timeit fp(1,2)"
   ]
  },
  {
   "cell_type": "markdown",
   "metadata": {
    "slideshow": {
     "slide_type": "slide"
    }
   },
   "source": [
    "## Swig\n",
    "http://www.swig.org/Doc1.3/Python.html"
   ]
  },
  {
   "cell_type": "markdown",
   "metadata": {
    "slideshow": {
     "slide_type": "slide"
    }
   },
   "source": [
    "## Parallel task with joblib"
   ]
  },
  {
   "cell_type": "code",
   "execution_count": 9,
   "metadata": {},
   "outputs": [
    {
     "name": "stdout",
     "output_type": "stream",
     "text": [
      "[0, 2]\n",
      "[0, 0]\n",
      "[0, 4]\n",
      "[0, 6]\n",
      "[0, 8]\n",
      "[1, 0]\n",
      "[1, 2]\n",
      "[1, 4]\n",
      "[1, 6]\n",
      "[1, 8]\n",
      "[2, 2]\n",
      "[2, 0]\n",
      "[2, 4]\n",
      "[2, 6]\n",
      "[3, 0]\n",
      "[2, 8]\n",
      "[3, 2]\n",
      "[3, 4]\n",
      "[3, 6]\n",
      "[3, 8]\n",
      "[4, 2]\n",
      "[4, 0]\n",
      "[4, 4]\n",
      "[4, 6]\n",
      "[4, 8]\n"
     ]
    }
   ],
   "source": [
    "from joblib import Parallel, delayed\n",
    "import time\n",
    "from os import system\n",
    "\n",
    "a = range(5)\n",
    "b = range(0,10,2) \n",
    "\n",
    "\n",
    "def run_command(i):\n",
    "    print i\n",
    "    time.sleep(1)\n",
    "    command = './a.out %d' %i\n",
    "    system(command)\n",
    "\n",
    "\n",
    "def run():\n",
    "    arg = []\n",
    "    for i in a:\n",
    "        for j in b:\n",
    "            arg.append([i,j])\n",
    "    \n",
    "    Parallel(n_jobs=2)(\n",
    "        map(delayed(run_command), arg))\n",
    "\n",
    "\n",
    "run()\n",
    "\n"
   ]
  },
  {
   "cell_type": "code",
   "execution_count": null,
   "metadata": {},
   "outputs": [],
   "source": []
  }
 ],
 "metadata": {
  "celltoolbar": "Slideshow",
  "kernelspec": {
   "display_name": "Python 2",
   "language": "python",
   "name": "python2"
  },
  "language_info": {
   "codemirror_mode": {
    "name": "ipython",
    "version": 2
   },
   "file_extension": ".py",
   "mimetype": "text/x-python",
   "name": "python",
   "nbconvert_exporter": "python",
   "pygments_lexer": "ipython2",
   "version": "2.7.15+"
  }
 },
 "nbformat": 4,
 "nbformat_minor": 2
}

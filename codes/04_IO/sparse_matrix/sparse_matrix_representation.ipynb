{
 "cells": [
  {
   "cell_type": "markdown",
   "id": "duplicate-window",
   "metadata": {},
   "source": [
    "[Sparse Matrix and its representations](https://www.geeksforgeeks.org/sparse-matrix-representation/)"
   ]
  },
  {
   "cell_type": "markdown",
   "id": "disturbed-lloyd",
   "metadata": {},
   "source": [
    "### Method 1: Using Arrays:\n",
    "\n",
    "2D array is used to represent a sparse matrix in which there are three rows named as \n",
    "\n",
    "- Row: Index of row, where non-zero element is located\n",
    "- Column: Index of column, where non-zero element is located\n",
    "- Value: Value of the non zero element located at index – (row,column)\n"
   ]
  },
  {
   "cell_type": "code",
   "execution_count": null,
   "id": "amazing-salvation",
   "metadata": {},
   "outputs": [],
   "source": [
    "# Python program for Sparse Matrix Representation\n",
    "# using arrays\n",
    " \n",
    "# assume a sparse matrix of order 4*5\n",
    "# let assume another matrix compactMatrix\n",
    "# now store the value,row,column of arr1 in sparse matrix compactMatrix\n",
    " \n",
    "sparseMatrix = [[0,0,3,0,4],\n",
    "                [0,0,5,7,0],\n",
    "                [0,0,0,0,0],\n",
    "                [0,2,6,0,0]]\n",
    " \n",
    "# initialize size as 0\n",
    "size = 0\n",
    " \n",
    "for i in range(4):\n",
    "    for j in range(5):\n",
    "        if (sparseMatrix[i][j] != 0):\n",
    "            size += 1\n",
    " \n",
    "# number of columns in compactMatrix(size) should\n",
    "# be equal to number of non-zero elements in sparseMatrix\n",
    "rows, cols = (3, size)\n",
    "compactMatrix = [[0 for i in range(cols)] for j in range(rows)]\n",
    " \n",
    "k = 0\n",
    "for i in range(4):\n",
    "    for j in range(5):\n",
    "        if (sparseMatrix[i][j] != 0):\n",
    "            compactMatrix[0][k] = i\n",
    "            compactMatrix[1][k] = j\n",
    "            compactMatrix[2][k] = sparseMatrix[i][j]\n",
    "            k += 1\n",
    " \n",
    "for i in compactMatrix:\n",
    "    print(i)\n",
    " \n",
    "# This code is contributed by MRINALWALIA"
   ]
  },
  {
   "cell_type": "code",
   "execution_count": null,
   "metadata": {},
   "outputs": [],
   "source": [
    "import numpy as np \n",
    "sparseMatrix = [[0,0,3,0,4],\n",
    "                [0,0,5,7,0],\n",
    "                [0,0,0,0,0],\n",
    "                [0,2,6,0,0]]\n",
    "\n",
    "def to_ijv(A):\n",
    "    size=np.count_nonzero(A)\n",
    "    rows, cols = np.where(A)\n",
    "    # compactMatrix = np.zeros((3, size), dtype=dtype)\n",
    "    compactMatrix = np.zeros((size, 3))\n",
    "    for i in range(size):\n",
    "        row, col = rows[i], cols[i]\n",
    "        compactMatrix[i][0] = row\n",
    "        compactMatrix[i][1] = col\n",
    "        compactMatrix[i][2] = A[row][col]\n",
    "    \n",
    "    return compactMatrix\n",
    "\n",
    " \n",
    "compactMatrix = to_ijv(sparseMatrix)\n",
    "fmt = '%d', '%d', '%25.16f'\n",
    "np.savetxt(\"A.txt\", compactMatrix, fmt=fmt)"
   ]
  },
  {
   "cell_type": "code",
   "execution_count": null,
   "metadata": {},
   "outputs": [],
   "source": [
    "import numpy as np \n",
    "from scipy.sparse import coo_matrix\n",
    "\n",
    "def to_ijv(A):\n",
    "\n",
    "    A_coo = coo_matrix(A)\n",
    "    size =A_coo.nnz\n",
    "    A_coo = np.hstack((A_coo.row.reshape(size,1),\n",
    "                       A_coo.col.reshape(size,1),\n",
    "                       A_coo.data.reshape(size,1)\n",
    "                      ))  \n",
    "    return A_coo\n",
    "\n",
    "\n",
    "sparseMatrix = [[0,0,3,0,4],\n",
    "                [0,0,5,7,0],\n",
    "                [0,0,0,0,0],\n",
    "                [0,2,6,0,0]]\n",
    "\n",
    "compactMatrix = to_ijv(sparseMatrix)\n",
    "print(compactMatrix.shape)\n",
    "fmt = '%d', '%d', '%25.16f'\n",
    "np.savetxt(\"A.txt\", compactMatrix, fmt=fmt)"
   ]
  },
  {
   "cell_type": "markdown",
   "id": "absent-trace",
   "metadata": {},
   "source": [
    "### Method 2: Using Linked Lists\n",
    "In linked list, each node has four fields. These four fields are defined as: \n",
    "\n",
    "- Row: Index of row, where non-zero element is located\n",
    "- Column: Index of column, where non-zero element is located\n",
    "- Value: Value of the non zero element located at index – (row,column)\n",
    "Next node: Address of the next node"
   ]
  },
  {
   "cell_type": "code",
   "execution_count": null,
   "id": "junior-branch",
   "metadata": {},
   "outputs": [],
   "source": [
    "# Python Program for Representation of\n",
    "# Sparse Matrix into Linked List\n",
    "\n",
    "# Node Class to represent Linked List Node\n",
    "class Node:\n",
    "\n",
    "    # Making the slots for storing row,\n",
    "    # column, value, and address\n",
    "    __slots__ = \"row\", \"col\", \"data\", \"next\"\n",
    "\n",
    "    # Constructor to initialize the values\n",
    "    def __init__(self, row=0, col=0, data=0, next=None):\n",
    "\n",
    "        self.row = row\n",
    "        self.col = col\n",
    "        self.data = data\n",
    "        self.next = next\n",
    "\n",
    "\n",
    "# Class to convert Sparse Matrix\n",
    "# into Linked List\n",
    "class Sparse:\n",
    "\n",
    "    # Initialize Class Variables\n",
    "    def __init__(self):\n",
    "        self.head = None\n",
    "        self.temp = None\n",
    "        self.size = 0\n",
    "\n",
    "    # Function which returns the size\n",
    "    # of the Linked List\n",
    "    def __len__(self):\n",
    "        return self.size\n",
    "\n",
    "    # Check the Linked List is\n",
    "    # Empty or not\n",
    "    def isempty(self):\n",
    "        return self.size == 0\n",
    "\n",
    "    # Responsible function to create\n",
    "    # Linked List from Sparse Matrix\n",
    "    def create_new_node(self, row, col, data):\n",
    "\n",
    "        # Creating New Node\n",
    "        newNode = Node(row, col, data, None)\n",
    "\n",
    "        # Check whether the List is\n",
    "        # empty or not\n",
    "        if self.isempty():\n",
    "            self.head = newNode\n",
    "        else:\n",
    "            self.temp.next = newNode\n",
    "        self.temp = newNode\n",
    "\n",
    "        # Incrementing the size\n",
    "        self.size += 1\n",
    "\n",
    "    # Function display the contents of\n",
    "    # Linked List\n",
    "    def PrintList(self):\n",
    "        temp = r = s = self.head\n",
    "        print(\"row_position:\", end=\" \")\n",
    "        while temp != None:\n",
    "            print(temp.row, end=\" \")\n",
    "            temp = temp.next\n",
    "        print()\n",
    "        print(\"column_postion:\", end=\" \")\n",
    "        while r != None:\n",
    "            print(r.col, end=\" \")\n",
    "            r = r.next\n",
    "        print()\n",
    "        print(\"Value:\", end=\" \")\n",
    "        while s != None:\n",
    "            print(s.data, end=\" \")\n",
    "            s = s.next\n",
    "        print()\n",
    "\n",
    "# Driver Code\n",
    "if __name__ == \"__main__\":\n",
    "\n",
    "    # Creating Object\n",
    "    s = Sparse()\n",
    "\n",
    "    # Assuming 4x5 Sparse Matrix\n",
    "    sparseMatric = [[0, 0, 3, 0, 4],\n",
    "                    [0, 0, 5, 7, 0],\n",
    "                    [0, 0, 0, 0, 0],\n",
    "                    [0, 2, 6, 0, 0]]\n",
    "    for i in range(4):\n",
    "        for j in range(5):\n",
    "\n",
    "            # Creating Linked List by only those\n",
    "            # elements which are non-zero\n",
    "            if sparseMatric[i][j] != 0:\n",
    "                s.create_new_node(i, j, sparseMatric[i][j])\n",
    "\n",
    "    # Printing the Linked List Representation\n",
    "    # of the sparse matrix\n",
    "    s.PrintList()\n",
    "\n",
    "    # This code is contributed by Naveen Rathore\n"
   ]
  },
  {
   "cell_type": "code",
   "execution_count": null,
   "metadata": {},
   "outputs": [],
   "source": [
    "from scipy.sparse import coo_matrix\n",
    "A = [[0, 0, 3, 0, 4],\n",
    "    [0, 0, 5, 7, 0],\n",
    "    [0, 0, 0, 0, 0],\n",
    "    [0, 2, 6, 0, 0]]\n",
    "A_coo = coo_matrix(A)\n",
    "print(A_coo.row)\n",
    "print(type(A_coo.row))\n",
    "print(A_coo.col)\n",
    "print(A_coo.data)"
   ]
  },
  {
   "cell_type": "code",
   "execution_count": null,
   "metadata": {},
   "outputs": [],
   "source": [
    "from scipy.sparse import csr_matrix\n",
    "\n",
    "A = np.array([[1, 2, 0], [0, 0, 3], [4, 0, 5]])\n",
    "A_csr = csr_matrix([[1, 2, 0], [0, 0, 3], [4, 0, 5]])\n",
    "v = np.array([1, 0, -1])\n",
    "\n",
    "print(A.dot(v))\n",
    "print(A_csr.dot(v))\n",
    "print(A @ v)\n",
    "print(A_csr @ v)"
   ]
  },
  {
   "cell_type": "code",
   "execution_count": null,
   "id": "81643eb5",
   "metadata": {},
   "outputs": [],
   "source": [
    "type(A_csr), A_csr.shape\n",
    "print(A_csr)"
   ]
  },
  {
   "cell_type": "code",
   "execution_count": null,
   "id": "b8fcc4a6",
   "metadata": {},
   "outputs": [],
   "source": [
    "import cupy as cp \n",
    "# from cupy.sparse import csr_matrix as cp_csr_matrix\n",
    "from cupyx.scipy.sparse import csr_matrix as cp_csr_matrix"
   ]
  },
  {
   "cell_type": "code",
   "execution_count": null,
   "id": "1b5a52ec",
   "metadata": {},
   "outputs": [],
   "source": [
    "cA = cp.array([[1, 2, 0], [0, 0, 3], [4, 0, 5]])\n",
    "cA_csr = cp_csr_matrix(cA)\n",
    "# v = cp.array([1, 0, -1])\n",
    "\n",
    "# print(A.dot(v))\n",
    "# print(A_csr.dot(v))\n",
    "# print(A @ v)\n",
    "# print(A_csr @ v)"
   ]
  },
  {
   "cell_type": "code",
   "execution_count": null,
   "id": "6c69f1a2",
   "metadata": {},
   "outputs": [],
   "source": [
    "A = cp.sparse.rand(200, 100, density=0.1)"
   ]
  },
  {
   "cell_type": "code",
   "execution_count": null,
   "id": "2c217bec",
   "metadata": {},
   "outputs": [],
   "source": [
    "from cupyx.scipy.sparse import csr_matrix\n",
    "csr_matrix(cp.array([[0, 0, 0], [0, 0, 0], [0, 0, 1]]))\n"
   ]
  },
  {
   "cell_type": "code",
   "execution_count": 31,
   "id": "44234cb9",
   "metadata": {},
   "outputs": [],
   "source": [
    "from cupyx.scipy.sparse import coo_matrix"
   ]
  },
  {
   "cell_type": "code",
   "execution_count": null,
   "id": "8e2b8d94",
   "metadata": {},
   "outputs": [],
   "source": [
    "coo_matrix(cp.array([[0, 0, 0], [0, 0, 0], [0, 0, 1]]))"
   ]
  },
  {
   "cell_type": "code",
   "execution_count": 30,
   "id": "32375003",
   "metadata": {},
   "outputs": [
    {
     "ename": "ValueError",
     "evalue": "Only float32, float64, complex64 and complex128 are supported",
     "output_type": "error",
     "traceback": [
      "\u001b[0;31m---------------------------------------------------------------------------\u001b[0m",
      "\u001b[0;31mValueError\u001b[0m                                Traceback (most recent call last)",
      "Input \u001b[0;32mIn [30]\u001b[0m, in \u001b[0;36m<cell line: 3>\u001b[0;34m()\u001b[0m\n\u001b[1;32m      1\u001b[0m a \u001b[39m=\u001b[39m cp\u001b[39m.\u001b[39marange(\u001b[39m3\u001b[39m)\n\u001b[0;32m----> 3\u001b[0m coo_matrix(a)\n",
      "File \u001b[0;32m~/anaconda3/envs/sbinmmsdev/lib/python3.9/site-packages/cupyx/scipy/sparse/coo.py:142\u001b[0m, in \u001b[0;36mcoo_matrix.__init__\u001b[0;34m(self, arg1, shape, dtype, copy)\u001b[0m\n\u001b[1;32m    <a href='file:///home/ziaee/anaconda3/envs/sbinmmsdev/lib/python3.9/site-packages/cupyx/scipy/sparse/coo.py?line=138'>139</a>\u001b[0m     dtype \u001b[39m=\u001b[39m numpy\u001b[39m.\u001b[39mdtype(dtype)\n\u001b[1;32m    <a href='file:///home/ziaee/anaconda3/envs/sbinmmsdev/lib/python3.9/site-packages/cupyx/scipy/sparse/coo.py?line=140'>141</a>\u001b[0m \u001b[39mif\u001b[39;00m dtype \u001b[39m!=\u001b[39m \u001b[39m'\u001b[39m\u001b[39mf\u001b[39m\u001b[39m'\u001b[39m \u001b[39mand\u001b[39;00m dtype \u001b[39m!=\u001b[39m \u001b[39m'\u001b[39m\u001b[39md\u001b[39m\u001b[39m'\u001b[39m \u001b[39mand\u001b[39;00m dtype \u001b[39m!=\u001b[39m \u001b[39m'\u001b[39m\u001b[39mF\u001b[39m\u001b[39m'\u001b[39m \u001b[39mand\u001b[39;00m dtype \u001b[39m!=\u001b[39m \u001b[39m'\u001b[39m\u001b[39mD\u001b[39m\u001b[39m'\u001b[39m:\n\u001b[0;32m--> <a href='file:///home/ziaee/anaconda3/envs/sbinmmsdev/lib/python3.9/site-packages/cupyx/scipy/sparse/coo.py?line=141'>142</a>\u001b[0m     \u001b[39mraise\u001b[39;00m \u001b[39mValueError\u001b[39;00m(\n\u001b[1;32m    <a href='file:///home/ziaee/anaconda3/envs/sbinmmsdev/lib/python3.9/site-packages/cupyx/scipy/sparse/coo.py?line=142'>143</a>\u001b[0m         \u001b[39m'\u001b[39m\u001b[39mOnly float32, float64, complex64 and complex128\u001b[39m\u001b[39m'\u001b[39m\n\u001b[1;32m    <a href='file:///home/ziaee/anaconda3/envs/sbinmmsdev/lib/python3.9/site-packages/cupyx/scipy/sparse/coo.py?line=143'>144</a>\u001b[0m         \u001b[39m'\u001b[39m\u001b[39m are supported\u001b[39m\u001b[39m'\u001b[39m)\n\u001b[1;32m    <a href='file:///home/ziaee/anaconda3/envs/sbinmmsdev/lib/python3.9/site-packages/cupyx/scipy/sparse/coo.py?line=145'>146</a>\u001b[0m data \u001b[39m=\u001b[39m data\u001b[39m.\u001b[39mastype(dtype, copy\u001b[39m=\u001b[39mcopy)\n\u001b[1;32m    <a href='file:///home/ziaee/anaconda3/envs/sbinmmsdev/lib/python3.9/site-packages/cupyx/scipy/sparse/coo.py?line=146'>147</a>\u001b[0m row \u001b[39m=\u001b[39m row\u001b[39m.\u001b[39mastype(\u001b[39m'\u001b[39m\u001b[39mi\u001b[39m\u001b[39m'\u001b[39m, copy\u001b[39m=\u001b[39mcopy)\n",
      "\u001b[0;31mValueError\u001b[0m: Only float32, float64, complex64 and complex128 are supported"
     ]
    }
   ],
   "source": [
    "a = cp.arange(3)\n",
    "coo_matrix(a)"
   ]
  },
  {
   "cell_type": "code",
   "execution_count": null,
   "id": "7ff91fa1",
   "metadata": {},
   "outputs": [],
   "source": [
    "# https://stackoverflow.com/questions/49019189/how-can-i-accelerate-a-sparse-matrix-by-dense-vector-product-currently-implemen"
   ]
  },
  {
   "cell_type": "code",
   "execution_count": 3,
   "id": "976a81d4",
   "metadata": {},
   "outputs": [
    {
     "ename": "ValueError",
     "evalue": "Only bool, float32, float64, complex64 and complex128 are supported",
     "output_type": "error",
     "traceback": [
      "\u001b[0;31m---------------------------------------------------------------------------\u001b[0m",
      "\u001b[0;31mValueError\u001b[0m                                Traceback (most recent call last)",
      "\u001b[1;32m/home/ziaee/git/workshops/workshop_python/codes/04_IO/sparse_matrix/sparse_matrix_representation.ipynb Cell 19'\u001b[0m in \u001b[0;36m<cell line: 10>\u001b[0;34m()\u001b[0m\n\u001b[1;32m      <a href='vscode-notebook-cell:/home/ziaee/git/workshops/workshop_python/codes/04_IO/sparse_matrix/sparse_matrix_representation.ipynb#ch0000018?line=6'>7</a>\u001b[0m A \u001b[39m=\u001b[39m csr_matrix(a) \n\u001b[1;32m      <a href='vscode-notebook-cell:/home/ziaee/git/workshops/workshop_python/codes/04_IO/sparse_matrix/sparse_matrix_representation.ipynb#ch0000018?line=7'>8</a>\u001b[0m x \u001b[39m=\u001b[39m np\u001b[39m.\u001b[39marray([\u001b[39m1\u001b[39m, \u001b[39m0\u001b[39m, \u001b[39m-\u001b[39m\u001b[39m1\u001b[39m])\n\u001b[0;32m---> <a href='vscode-notebook-cell:/home/ziaee/git/workshops/workshop_python/codes/04_IO/sparse_matrix/sparse_matrix_representation.ipynb#ch0000018?line=9'>10</a>\u001b[0m A_gpu \u001b[39m=\u001b[39m csr_gpu(A)\n",
      "File \u001b[0;32m~/anaconda3/envs/sbinmmsdev/lib/python3.9/site-packages/cupyx/scipy/sparse/compressed.py:278\u001b[0m, in \u001b[0;36m_compressed_sparse_matrix.__init__\u001b[0;34m(self, arg1, shape, dtype, copy)\u001b[0m\n\u001b[1;32m    <a href='file:///home/ziaee/anaconda3/envs/sbinmmsdev/lib/python3.9/site-packages/cupyx/scipy/sparse/compressed.py?line=274'>275</a>\u001b[0m     dtype \u001b[39m=\u001b[39m numpy\u001b[39m.\u001b[39mdtype(dtype)\n\u001b[1;32m    <a href='file:///home/ziaee/anaconda3/envs/sbinmmsdev/lib/python3.9/site-packages/cupyx/scipy/sparse/compressed.py?line=276'>277</a>\u001b[0m \u001b[39mif\u001b[39;00m dtype\u001b[39m.\u001b[39mchar \u001b[39mnot\u001b[39;00m \u001b[39min\u001b[39;00m \u001b[39m'\u001b[39m\u001b[39m?fdFD\u001b[39m\u001b[39m'\u001b[39m:\n\u001b[0;32m--> <a href='file:///home/ziaee/anaconda3/envs/sbinmmsdev/lib/python3.9/site-packages/cupyx/scipy/sparse/compressed.py?line=277'>278</a>\u001b[0m     \u001b[39mraise\u001b[39;00m \u001b[39mValueError\u001b[39;00m(\n\u001b[1;32m    <a href='file:///home/ziaee/anaconda3/envs/sbinmmsdev/lib/python3.9/site-packages/cupyx/scipy/sparse/compressed.py?line=278'>279</a>\u001b[0m         \u001b[39m'\u001b[39m\u001b[39mOnly bool, float32, float64, complex64 and complex128 \u001b[39m\u001b[39m'\u001b[39m\n\u001b[1;32m    <a href='file:///home/ziaee/anaconda3/envs/sbinmmsdev/lib/python3.9/site-packages/cupyx/scipy/sparse/compressed.py?line=279'>280</a>\u001b[0m         \u001b[39m'\u001b[39m\u001b[39mare supported\u001b[39m\u001b[39m'\u001b[39m)\n\u001b[1;32m    <a href='file:///home/ziaee/anaconda3/envs/sbinmmsdev/lib/python3.9/site-packages/cupyx/scipy/sparse/compressed.py?line=281'>282</a>\u001b[0m data \u001b[39m=\u001b[39m data\u001b[39m.\u001b[39mastype(dtype, copy\u001b[39m=\u001b[39mcopy)\n\u001b[1;32m    <a href='file:///home/ziaee/anaconda3/envs/sbinmmsdev/lib/python3.9/site-packages/cupyx/scipy/sparse/compressed.py?line=282'>283</a>\u001b[0m sparse_data\u001b[39m.\u001b[39m_data_matrix\u001b[39m.\u001b[39m\u001b[39m__init__\u001b[39m(\u001b[39mself\u001b[39m, data)\n",
      "\u001b[0;31mValueError\u001b[0m: Only bool, float32, float64, complex64 and complex128 are supported"
     ]
    }
   ],
   "source": [
    "import numpy as np \n",
    "import cupy as cp\n",
    "from scipy.sparse import csr_matrix\n",
    "from cupyx.scipy.sparse import csr_matrix as csr_gpu\n",
    "\n",
    "a = np.array([[1, 2, 0], [0, 0, 3], [4, 0, 5]])\n",
    "A = csr_matrix(a) \n",
    "x = np.array([1, 0, -1])\n",
    "\n",
    "A_gpu = csr_gpu(A)  #moving A to the gpu\n",
    "# x_gpu = cp.array(x) #moving x to the gpu\n",
    "\n",
    "# # for i in range(niter):\n",
    "# x_gpu = A_gpu.dot(x_gpu)\n",
    "# x = cp.asnumpy(x_gpu) #back to numpy object for fast indexing"
   ]
  },
  {
   "cell_type": "code",
   "execution_count": null,
   "id": "9a86e95c",
   "metadata": {},
   "outputs": [],
   "source": []
  }
 ],
 "metadata": {
  "kernelspec": {
   "display_name": "Python 3",
   "language": "python",
   "name": "python3"
  },
  "language_info": {
   "codemirror_mode": {
    "name": "ipython",
    "version": 3
   },
   "file_extension": ".py",
   "mimetype": "text/x-python",
   "name": "python",
   "nbconvert_exporter": "python",
   "pygments_lexer": "ipython3",
   "version": "3.9.7"
  }
 },
 "nbformat": 4,
 "nbformat_minor": 5
}

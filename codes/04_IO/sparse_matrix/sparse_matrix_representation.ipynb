{
 "cells": [
  {
   "cell_type": "markdown",
   "id": "duplicate-window",
   "metadata": {},
   "source": [
    "[Sparse Matrix and its representations](https://www.geeksforgeeks.org/sparse-matrix-representation/)"
   ]
  },
  {
   "cell_type": "markdown",
   "id": "disturbed-lloyd",
   "metadata": {},
   "source": [
    "### Method 1: Using Arrays:\n",
    "\n",
    "2D array is used to represent a sparse matrix in which there are three rows named as \n",
    "\n",
    "- Row: Index of row, where non-zero element is located\n",
    "- Column: Index of column, where non-zero element is located\n",
    "- Value: Value of the non zero element located at index – (row,column)\n"
   ]
  },
  {
   "cell_type": "code",
   "execution_count": 6,
   "id": "amazing-salvation",
   "metadata": {},
   "outputs": [
    {
     "output_type": "stream",
     "name": "stdout",
     "text": [
      "[0, 0, 1, 1, 3, 3]\n[2, 4, 2, 3, 1, 2]\n[3, 4, 5, 7, 2, 6]\n"
     ]
    }
   ],
   "source": [
    "# Python program for Sparse Matrix Representation\n",
    "# using arrays\n",
    " \n",
    "# assume a sparse matrix of order 4*5\n",
    "# let assume another matrix compactMatrix\n",
    "# now store the value,row,column of arr1 in sparse matrix compactMatrix\n",
    " \n",
    "sparseMatrix = [[0,0,3,0,4],\n",
    "                [0,0,5,7,0],\n",
    "                [0,0,0,0,0],\n",
    "                [0,2,6,0,0]]\n",
    " \n",
    "# initialize size as 0\n",
    "size = 0\n",
    " \n",
    "for i in range(4):\n",
    "    for j in range(5):\n",
    "        if (sparseMatrix[i][j] != 0):\n",
    "            size += 1\n",
    " \n",
    "# number of columns in compactMatrix(size) should\n",
    "# be equal to number of non-zero elements in sparseMatrix\n",
    "rows, cols = (3, size)\n",
    "compactMatrix = [[0 for i in range(cols)] for j in range(rows)]\n",
    " \n",
    "k = 0\n",
    "for i in range(4):\n",
    "    for j in range(5):\n",
    "        if (sparseMatrix[i][j] != 0):\n",
    "            compactMatrix[0][k] = i\n",
    "            compactMatrix[1][k] = j\n",
    "            compactMatrix[2][k] = sparseMatrix[i][j]\n",
    "            k += 1\n",
    " \n",
    "for i in compactMatrix:\n",
    "    print(i)\n",
    " \n",
    "# This code is contributed by MRINALWALIA"
   ]
  },
  {
   "cell_type": "code",
   "execution_count": 7,
   "metadata": {},
   "outputs": [],
   "source": [
    "import numpy as np \n",
    "sparseMatrix = [[0,0,3,0,4],\n",
    "                [0,0,5,7,0],\n",
    "                [0,0,0,0,0],\n",
    "                [0,2,6,0,0]]\n",
    "\n",
    "def to_ijv(A):\n",
    "    size=np.count_nonzero(A)\n",
    "    rows, cols = np.where(A)\n",
    "    # compactMatrix = np.zeros((3, size), dtype=dtype)\n",
    "    compactMatrix = np.zeros((size, 3))\n",
    "    for i in range(size):\n",
    "        row, col = rows[i], cols[i]\n",
    "        compactMatrix[i][0] = row\n",
    "        compactMatrix[i][1] = col\n",
    "        compactMatrix[i][2] = A[row][col]\n",
    "    \n",
    "    return compactMatrix\n",
    "\n",
    " \n",
    "compactMatrix = to_ijv(sparseMatrix)\n",
    "fmt = '%d', '%d', '%25.16f'\n",
    "np.savetxt(\"A.txt\", compactMatrix, fmt=fmt)"
   ]
  },
  {
   "cell_type": "code",
   "execution_count": 8,
   "metadata": {},
   "outputs": [
    {
     "output_type": "stream",
     "name": "stdout",
     "text": [
      "(6, 3)\n"
     ]
    }
   ],
   "source": [
    "import numpy as np \n",
    "from scipy.sparse import coo_matrix\n",
    "\n",
    "def to_ijv(A):\n",
    "\n",
    "    A_coo = coo_matrix(A)\n",
    "    size =A_coo.nnz\n",
    "    A_coo = np.hstack((A_coo.row.reshape(size,1),\n",
    "                       A_coo.col.reshape(size,1),\n",
    "                       A_coo.data.reshape(size,1)\n",
    "                      ))  \n",
    "    return A_coo\n",
    "\n",
    "\n",
    "sparseMatrix = [[0,0,3,0,4],\n",
    "                [0,0,5,7,0],\n",
    "                [0,0,0,0,0],\n",
    "                [0,2,6,0,0]]\n",
    "\n",
    "compactMatrix = to_ijv(sparseMatrix)\n",
    "print(compactMatrix.shape)\n",
    "fmt = '%d', '%d', '%25.16f'\n",
    "np.savetxt(\"A.txt\", compactMatrix, fmt=fmt)"
   ]
  },
  {
   "cell_type": "markdown",
   "id": "absent-trace",
   "metadata": {},
   "source": [
    "### Method 2: Using Linked Lists\n",
    "In linked list, each node has four fields. These four fields are defined as: \n",
    "\n",
    "- Row: Index of row, where non-zero element is located\n",
    "- Column: Index of column, where non-zero element is located\n",
    "- Value: Value of the non zero element located at index – (row,column)\n",
    "Next node: Address of the next node"
   ]
  },
  {
   "cell_type": "code",
   "execution_count": 9,
   "id": "junior-branch",
   "metadata": {},
   "outputs": [
    {
     "output_type": "stream",
     "name": "stdout",
     "text": [
      "row_position: 0 0 1 1 3 3 \ncolumn_postion: 2 4 2 3 1 2 \nValue: 3 4 5 7 2 6 \n"
     ]
    }
   ],
   "source": [
    "# Python Program for Representation of\n",
    "# Sparse Matrix into Linked List\n",
    "\n",
    "# Node Class to represent Linked List Node\n",
    "class Node:\n",
    "\n",
    "    # Making the slots for storing row,\n",
    "    # column, value, and address\n",
    "    __slots__ = \"row\", \"col\", \"data\", \"next\"\n",
    "\n",
    "    # Constructor to initialize the values\n",
    "    def __init__(self, row=0, col=0, data=0, next=None):\n",
    "\n",
    "        self.row = row\n",
    "        self.col = col\n",
    "        self.data = data\n",
    "        self.next = next\n",
    "\n",
    "\n",
    "# Class to convert Sparse Matrix\n",
    "# into Linked List\n",
    "class Sparse:\n",
    "\n",
    "    # Initialize Class Variables\n",
    "    def __init__(self):\n",
    "        self.head = None\n",
    "        self.temp = None\n",
    "        self.size = 0\n",
    "\n",
    "    # Function which returns the size\n",
    "    # of the Linked List\n",
    "    def __len__(self):\n",
    "        return self.size\n",
    "\n",
    "    # Check the Linked List is\n",
    "    # Empty or not\n",
    "    def isempty(self):\n",
    "        return self.size == 0\n",
    "\n",
    "    # Responsible function to create\n",
    "    # Linked List from Sparse Matrix\n",
    "    def create_new_node(self, row, col, data):\n",
    "\n",
    "        # Creating New Node\n",
    "        newNode = Node(row, col, data, None)\n",
    "\n",
    "        # Check whether the List is\n",
    "        # empty or not\n",
    "        if self.isempty():\n",
    "            self.head = newNode\n",
    "        else:\n",
    "            self.temp.next = newNode\n",
    "        self.temp = newNode\n",
    "\n",
    "        # Incrementing the size\n",
    "        self.size += 1\n",
    "\n",
    "    # Function display the contents of\n",
    "    # Linked List\n",
    "    def PrintList(self):\n",
    "        temp = r = s = self.head\n",
    "        print(\"row_position:\", end=\" \")\n",
    "        while temp != None:\n",
    "            print(temp.row, end=\" \")\n",
    "            temp = temp.next\n",
    "        print()\n",
    "        print(\"column_postion:\", end=\" \")\n",
    "        while r != None:\n",
    "            print(r.col, end=\" \")\n",
    "            r = r.next\n",
    "        print()\n",
    "        print(\"Value:\", end=\" \")\n",
    "        while s != None:\n",
    "            print(s.data, end=\" \")\n",
    "            s = s.next\n",
    "        print()\n",
    "\n",
    "# Driver Code\n",
    "if __name__ == \"__main__\":\n",
    "\n",
    "    # Creating Object\n",
    "    s = Sparse()\n",
    "\n",
    "    # Assuming 4x5 Sparse Matrix\n",
    "    sparseMatric = [[0, 0, 3, 0, 4],\n",
    "                    [0, 0, 5, 7, 0],\n",
    "                    [0, 0, 0, 0, 0],\n",
    "                    [0, 2, 6, 0, 0]]\n",
    "    for i in range(4):\n",
    "        for j in range(5):\n",
    "\n",
    "            # Creating Linked List by only those\n",
    "            # elements which are non-zero\n",
    "            if sparseMatric[i][j] != 0:\n",
    "                s.create_new_node(i, j, sparseMatric[i][j])\n",
    "\n",
    "    # Printing the Linked List Representation\n",
    "    # of the sparse matrix\n",
    "    s.PrintList()\n",
    "\n",
    "    # This code is contributed by Naveen Rathore\n"
   ]
  },
  {
   "cell_type": "code",
   "execution_count": 10,
   "metadata": {},
   "outputs": [
    {
     "output_type": "stream",
     "name": "stdout",
     "text": [
      "[0 0 1 1 3 3]\n<class 'numpy.ndarray'>\n[2 4 2 3 1 2]\n[3 4 5 7 2 6]\n"
     ]
    }
   ],
   "source": [
    "from scipy.sparse import coo_matrix\n",
    "A = [[0, 0, 3, 0, 4],\n",
    "    [0, 0, 5, 7, 0],\n",
    "    [0, 0, 0, 0, 0],\n",
    "    [0, 2, 6, 0, 0]]\n",
    "A_coo = coo_matrix(A)\n",
    "print(A_coo.row)\n",
    "print(type(A_coo.row))\n",
    "print(A_coo.col)\n",
    "print(A_coo.data)"
   ]
  },
  {
   "cell_type": "code",
   "execution_count": null,
   "metadata": {},
   "outputs": [],
   "source": []
  }
 ],
 "metadata": {
  "kernelspec": {
   "display_name": "Python 3",
   "language": "python",
   "name": "python3"
  },
  "language_info": {
   "codemirror_mode": {
    "name": "ipython",
    "version": 3
   },
   "file_extension": ".py",
   "mimetype": "text/x-python",
   "name": "python",
   "nbconvert_exporter": "python",
   "pygments_lexer": "ipython3",
   "version": "3.8.5"
  }
 },
 "nbformat": 4,
 "nbformat_minor": 5
}
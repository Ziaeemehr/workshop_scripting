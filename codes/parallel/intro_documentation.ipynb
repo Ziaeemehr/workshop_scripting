{
 "cells": [
  {
   "cell_type": "markdown",
   "metadata": {},
   "source": [
    "## [multiprocessing — Process-based parallelism](https://docs.python.org/dev/library/multiprocessing.html)"
   ]
  },
  {
   "cell_type": "code",
   "execution_count": 1,
   "metadata": {},
   "outputs": [
    {
     "name": "stdout",
     "output_type": "stream",
     "text": [
      "[1, 4, 9, 16, 25, 36, 49, 64]\n"
     ]
    }
   ],
   "source": [
    "import os\n",
    "import time\n",
    "from multiprocessing import Pool\n",
    "def f(x):\n",
    "    # time.sleep(0.5)\n",
    "    # print(os.getpid())\n",
    "    return x*x\n",
    "\n",
    "with Pool(4) as p:\n",
    "    print(p.map(f, [1,2,3,4,5,6,7,8]))\n",
    "    "
   ]
  },
  {
   "cell_type": "code",
   "execution_count": 3,
   "metadata": {},
   "outputs": [
    {
     "name": "stdout",
     "output_type": "stream",
     "text": [
      "0 4 1 16 25 9 49 64 81 36 "
     ]
    }
   ],
   "source": [
    "from multiprocessing import Pool\n",
    "\n",
    "def f(x):\n",
    "    return x*x\n",
    "    \n",
    "pool = Pool(processes=4)\n",
    "for i in pool.imap_unordered(f, range(10)):\n",
    "    print(i, end=' ')"
   ]
  },
  {
   "cell_type": "markdown",
   "metadata": {},
   "source": [
    "### The Process class"
   ]
  },
  {
   "cell_type": "code",
   "execution_count": 4,
   "metadata": {},
   "outputs": [
    {
     "name": "stdout",
     "output_type": "stream",
     "text": [
      "hello bob\n"
     ]
    }
   ],
   "source": [
    "from multiprocessing import Process\n",
    "def f(name):\n",
    "    print('hello', name)\n",
    "\n",
    "p = Process(target=f, args=('bob',))\n",
    "p.start()\n",
    "p.join()"
   ]
  },
  {
   "cell_type": "code",
   "execution_count": 5,
   "metadata": {},
   "outputs": [
    {
     "name": "stdout",
     "output_type": "stream",
     "text": [
      "main line\n",
      "module name: __main__\n",
      "parent process: 473180\n",
      "process id: 764687\n",
      "function f\n",
      "module name: __main__\n",
      "parent process: 764687\n",
      "process id: 764891\n",
      "hello bob\n"
     ]
    }
   ],
   "source": [
    "from multiprocessing import Process\n",
    "import os\n",
    "\n",
    "def info(title):\n",
    "    print(title)\n",
    "    print('module name:', __name__)\n",
    "    print('parent process:', os.getppid())\n",
    "    print('process id:', os.getpid())\n",
    "\n",
    "def f(name):\n",
    "    info('function f')\n",
    "    print('hello', name)\n",
    "\n",
    "if __name__ == '__main__':\n",
    "    info('main line')\n",
    "    p = Process(target=f, args=('bob',))\n",
    "    p.start()\n",
    "    p.join()"
   ]
  },
  {
   "cell_type": "markdown",
   "metadata": {},
   "source": [
    "## [An introduction to parallel programming using Python's multiprocessing module](https://sebastianraschka.com/Articles/2014_multiprocessing.html)\n",
    "\n",
    "- The Pool class"
   ]
  },
  {
   "cell_type": "code",
   "execution_count": 6,
   "metadata": {},
   "outputs": [],
   "source": [
    "import multiprocessing as mp\n",
    "def cube(x):\n",
    "    return x**3"
   ]
  },
  {
   "cell_type": "code",
   "execution_count": 7,
   "metadata": {},
   "outputs": [
    {
     "name": "stdout",
     "output_type": "stream",
     "text": [
      "[1, 8, 27, 64, 125, 216]\n"
     ]
    }
   ],
   "source": [
    "pool = mp.Pool(processes=4)\n",
    "results = pool.map(cube, range(1,7))\n",
    "print(results)"
   ]
  },
  {
   "cell_type": "code",
   "execution_count": 8,
   "metadata": {},
   "outputs": [
    {
     "name": "stdout",
     "output_type": "stream",
     "text": [
      "[1, 8, 27, 64, 125, 216]\n"
     ]
    }
   ],
   "source": [
    "pool = mp.Pool(processes=4)\n",
    "results = [pool.apply(cube, args=(x,)) for x in range(1,7)]\n",
    "print(results)"
   ]
  },
  {
   "cell_type": "code",
   "execution_count": 9,
   "metadata": {},
   "outputs": [
    {
     "name": "stdout",
     "output_type": "stream",
     "text": [
      "[[0, 10.0], [1, 10.0], [2, 10.0], [3, 10.0], [4, 10.0], [5, 10.0], [6, 10.0], [7, 10.0], [8, 10.0], [9, 10.0], [10, 10.0], [11, 10.0], [12, 10.0], [13, 10.0], [14, 10.0], [15, 10.0], [16, 10.0], [17, 10.0], [18, 10.0], [19, 10.0], [20, 10.0], [21, 10.0], [22, 10.0], [23, 10.0], [24, 10.0], [25, 10.0], [26, 10.0], [27, 10.0], [28, 10.0], [29, 10.0], [30, 10.0], [31, 10.0], [32, 10.0], [33, 10.0], [34, 10.0], [35, 10.0], [36, 10.0], [37, 10.0], [38, 10.0], [39, 10.0]]\n"
     ]
    }
   ],
   "source": [
    "from multiprocessing import Pool\n",
    "from time import sleep \n",
    "import numpy as np \n",
    "\n",
    "def sumj(i, arr): \n",
    "    # print(i, os.getpid())\n",
    "    s = np.sum(arr)\n",
    "\n",
    "    sleep(0.5)\n",
    "    return [i, s]\n",
    "    # return np.sum(arr)\n",
    "\n",
    "mat = np.ones((40, 10))\n",
    "pool = Pool(processes=10)\n",
    "results = [pool.apply_async(sumj, args=(i, mat[i,:])) for i in range(40)]\n",
    "data = [i.get() for i in results]\n",
    "print(data)\n",
    "\n",
    "\n",
    "# if __name__ == \"__main__\":\n",
    "\n"
   ]
  },
  {
   "cell_type": "code",
   "execution_count": 3,
   "metadata": {},
   "outputs": [
    {
     "name": "stdout",
     "output_type": "stream",
     "text": [
      "0\n",
      "1\n",
      "2\n",
      "3\n"
     ]
    },
    {
     "data": {
      "text/plain": [
       "[10.0, 10.0, 10.0, 10.0]"
      ]
     },
     "execution_count": 3,
     "metadata": {},
     "output_type": "execute_result"
    }
   ],
   "source": [
    "import multiprocessing as mp\n",
    "import numpy as np  \n",
    "\n",
    "\n",
    "def sumj(i, arr):\n",
    "    print(i)\n",
    "    return np.sum(arr)\n",
    "\n",
    "mat = np.ones((4, 10))\n",
    "\n",
    "pool = mp.Pool(processes=4)\n",
    "data = [pool.apply(sumj, args=(i, mat[i, :])) for i in range(mat.shape[0])]\n",
    "data"
   ]
  },
  {
   "cell_type": "code",
   "execution_count": 22,
   "metadata": {},
   "outputs": [
    {
     "name": "stdout",
     "output_type": "stream",
     "text": [
      "[1, 8, 27, 64, 125, 216]\n"
     ]
    }
   ],
   "source": [
    "pool = mp.Pool(processes=4)\n",
    "results = [pool.apply_async(cube, args=(x,))\n",
    "          for x in range(1,7)]\n",
    "output = [p.get() for p in results]\n",
    "print(output)"
   ]
  },
  {
   "cell_type": "markdown",
   "metadata": {},
   "source": [
    "[LINK](https://stackoverflow.com/questions/35908987/multiprocessing-map-vs-map-async)\n",
    "`map_async` is non-blocking where as `map` is blocking.\n"
   ]
  },
  {
   "cell_type": "code",
   "execution_count": 14,
   "metadata": {},
   "outputs": [
    {
     "name": "stdout",
     "output_type": "stream",
     "text": [
      "HERE\n",
      "MORE\n",
      "9410\n",
      "\n",
      "\n",
      "\n",
      "36251649\n",
      "\n",
      "\n",
      "\n",
      "8164\n",
      "\n",
      "DONE\n"
     ]
    }
   ],
   "source": [
    "from multiprocessing import Pool\n",
    "import time\n",
    "\n",
    "def f(x):\n",
    "    sleep(1)\n",
    "    print (x*x)\n",
    "\n",
    "if __name__ == '__main__':\n",
    "    pool = Pool(processes=4)\n",
    "    # pool.map(f, range(10))\n",
    "    r = pool.map_async(f, range(10))\n",
    "    # DO STUFF\n",
    "    print ('HERE')\n",
    "    print ('MORE')\n",
    "    r.wait()\n",
    "    print ('DONE')"
   ]
  },
  {
   "cell_type": "code",
   "execution_count": 1,
   "metadata": {},
   "outputs": [
    {
     "name": "stdout",
     "output_type": "stream",
     "text": [
      "0123\n",
      "\n",
      "\n",
      "\n",
      "4567\n",
      "\n",
      "\n",
      "\n",
      "89\n",
      "\n",
      "[0, 1, 4, 9, 16, 25, 36, 49, 64, 81]\n"
     ]
    }
   ],
   "source": [
    "from multiprocessing import Pool\n",
    "\n",
    "def f(x):\n",
    "    print(x)\n",
    "    return x*x\n",
    "\n",
    "n_job = 4\n",
    "with Pool(processes=n_job) as pool:\n",
    "    results = pool.map_async(f, range(10)).get()\n",
    "print(results)\n"
   ]
  },
  {
   "cell_type": "code",
   "execution_count": 8,
   "metadata": {},
   "outputs": [
    {
     "name": "stderr",
     "output_type": "stream",
     "text": [
      "100%|██████████| 10/10 [00:00<00:00, 143640.55it/s]"
     ]
    },
    {
     "name": "stdout",
     "output_type": "stream",
     "text": [
      "[0, 1, 4, 9, 16, 25, 36, 49, 64, 81]\n"
     ]
    },
    {
     "name": "stderr",
     "output_type": "stream",
     "text": [
      "\n"
     ]
    }
   ],
   "source": [
    "from multiprocessing import Pool\n",
    "import tqdm\n",
    "\n",
    "def f(x):\n",
    "    return x*x\n",
    "\n",
    "n_job = 4\n",
    "\n",
    "data = []\n",
    "with Pool(processes=10) as pool:\n",
    "        for d in tqdm.tqdm(\n",
    "                pool.map_async(f, range(10)).get(),\n",
    "                total=10):\n",
    "            data.append(d)\n",
    "print(data)"
   ]
  },
  {
   "cell_type": "markdown",
   "metadata": {},
   "source": [
    "`pool.map(f, range(10))` will wait for all 10 of those function calls to finish so we see all the prints in a row. `r = pool.map_async(f, range(10))` will execute them asynchronously and only block when `r.wait()` is called so we see HERE and MORE in between but DONE will always be at the end."
   ]
  },
  {
   "cell_type": "code",
   "execution_count": 26,
   "metadata": {},
   "outputs": [
    {
     "name": "stdout",
     "output_type": "stream",
     "text": [
      "[0.48483214810476705, 0.48483214810476705, 0.48483214810476705, 0.48483214810476705, 0.6231289329357997, 0.9102145697442755]\n"
     ]
    }
   ],
   "source": [
    "import numpy as np \n",
    "\n",
    "def f():\n",
    "    return np.random.rand()\n",
    "pool = mp.Pool(processes=4)\n",
    "results = [pool.apply_async(f) for _ in range(1,7)]\n",
    "output = [p.get() for p in results]\n",
    "print(output)"
   ]
  },
  {
   "cell_type": "code",
   "execution_count": 2,
   "metadata": {},
   "outputs": [
    {
     "name": "stdout",
     "output_type": "stream",
     "text": [
      "[1, 4, 9, 16, 25, 36]\n"
     ]
    }
   ],
   "source": [
    "import numpy as np\n",
    "import multiprocessing as mp\n",
    "\n",
    "def f(x, y):\n",
    "    return x*y\n",
    "\n",
    "pool = mp.Pool(processes=4)\n",
    "results = [pool.apply_async(f, args=(x, y)) for x, y in zip(range(1,7), range(1,7))]\n",
    "output = [p.get() for p in results]\n",
    "print(output)\n"
   ]
  },
  {
   "cell_type": "code",
   "execution_count": 1,
   "metadata": {},
   "outputs": [
    {
     "name": "stdout",
     "output_type": "stream",
     "text": [
      "[(6996, 1), (6997, 4), (6998, 9), (6999, 16), (6996, 25), (6997, 36)]\n"
     ]
    }
   ],
   "source": [
    "# multiprocessing with starmap\n",
    "import numpy as np\n",
    "import multiprocessing as mp\n",
    "\n",
    "def f(x, y):\n",
    "    PID = os.getpid()\n",
    "    return PID, x*y\n",
    "\n",
    "pool = mp.Pool(processes=4)\n",
    "results = pool.starmap(f, zip(range(1,7), range(1,7)))\n",
    "print(results)\n"
   ]
  },
  {
   "cell_type": "code",
   "execution_count": 2,
   "metadata": {},
   "outputs": [
    {
     "name": "stderr",
     "output_type": "stream",
     "text": [
      "100%|██████████| 6/6 [00:00<00:00, 53773.13it/s]"
     ]
    },
    {
     "name": "stdout",
     "output_type": "stream",
     "text": [
      "[1, 4, 9, 16, 25, 36]\n"
     ]
    },
    {
     "name": "stderr",
     "output_type": "stream",
     "text": [
      "\n"
     ]
    }
   ],
   "source": [
    "import numpy as np\n",
    "import multiprocessing as mp\n",
    "import tqdm\n",
    "\n",
    "def f(x, y):\n",
    "    return x*y\n",
    "\n",
    "pool = mp.Pool(processes=4)\n",
    "results = [pool.apply_async(f, args=(x, y)) for x, y in zip(range(1,7), range(1,7))]\n",
    "output = [p.get() for p in tqdm.tqdm(results, total=6)]\n",
    "print(output)\n"
   ]
  },
  {
   "cell_type": "code",
   "execution_count": null,
   "metadata": {},
   "outputs": [],
   "source": []
  }
 ],
 "metadata": {
  "kernelspec": {
   "display_name": "vbi",
   "language": "python",
   "name": "python3"
  },
  "language_info": {
   "codemirror_mode": {
    "name": "ipython",
    "version": 3
   },
   "file_extension": ".py",
   "mimetype": "text/x-python",
   "name": "python",
   "nbconvert_exporter": "python",
   "pygments_lexer": "ipython3",
   "version": "3.9.7"
  },
  "metadata": {
   "interpreter": {
    "hash": "31f2aee4e71d21fbe5cf8b01ff0e069b9275f58929596ceb00d14d90e3e16cd6"
   }
  },
  "vscode": {
   "interpreter": {
    "hash": "c6658fbeb11e9756b335e0a2275891bf44480ed23795317e1d3387270d95d796"
   }
  }
 },
 "nbformat": 4,
 "nbformat_minor": 4
}

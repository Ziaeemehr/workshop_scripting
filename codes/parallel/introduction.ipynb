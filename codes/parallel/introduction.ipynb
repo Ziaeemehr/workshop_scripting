{
 "cells": [
  {
   "cell_type": "markdown",
   "metadata": {},
   "source": [
    "### [Python multiprocessing tutorial](http://zetcode.com/python/multiprocessing/)"
   ]
  },
  {
   "cell_type": "code",
   "execution_count": 1,
   "metadata": {},
   "outputs": [],
   "source": [
    "import os\n",
    "import time\n",
    "import multiprocessing\n",
    "from multiprocessing import Process"
   ]
  },
  {
   "cell_type": "code",
   "execution_count": 2,
   "metadata": {},
   "outputs": [
    {
     "name": "stdout",
     "output_type": "stream",
     "text": [
      "hello Peter\n"
     ]
    }
   ],
   "source": [
    "def fun(name):\n",
    "    print(f\"hello {name}\")\n",
    "\n",
    "def main():\n",
    "    p = Process(target=fun, args=(\"Peter\",))\n",
    "    p.start()\n",
    "\n",
    "main()"
   ]
  },
  {
   "cell_type": "markdown",
   "metadata": {},
   "source": [
    "The `join` method blocks the execution of the `main` process until the process whose join method is called terminates. Without the join method, the main process won't wait until the process gets terminated."
   ]
  },
  {
   "cell_type": "code",
   "execution_count": 3,
   "metadata": {},
   "outputs": [
    {
     "name": "stdout",
     "output_type": "stream",
     "text": [
      "starting main\n",
      "starting fun\n",
      "finishing fun\n",
      "finishing main\n"
     ]
    }
   ],
   "source": [
    "def fun():\n",
    "\n",
    "    print('starting fun')\n",
    "    time.sleep(2)\n",
    "    print('finishing fun')\n",
    "\n",
    "def main():\n",
    "\n",
    "    p = Process(target=fun)\n",
    "    p.start()\n",
    "    p.join()\n",
    "\n",
    "print('starting main')\n",
    "main()\n",
    "print('finishing main')"
   ]
  },
  {
   "cell_type": "markdown",
   "metadata": {},
   "source": [
    "The `is_alive` method determines if the process is running."
   ]
  },
  {
   "cell_type": "code",
   "execution_count": 4,
   "metadata": {},
   "outputs": [
    {
     "name": "stdout",
     "output_type": "stream",
     "text": [
      "main fun\n",
      "calling fun\n",
      "Process p is alive: False\n"
     ]
    }
   ],
   "source": [
    "def fun():\n",
    "    print('calling fun')\n",
    "    time.sleep(2)\n",
    "\n",
    "def main():\n",
    "    print('main fun')\n",
    "    p = Process(target=fun)\n",
    "    p.start()\n",
    "    p.join()\n",
    "    print(f'Process p is alive: {p.is_alive()}')\n",
    "\n",
    "main()"
   ]
  },
  {
   "cell_type": "markdown",
   "metadata": {},
   "source": [
    "The `os.getpid` returns the current process Id, while the `os.getppid` returns the parent's process Id."
   ]
  },
  {
   "cell_type": "code",
   "execution_count": 5,
   "metadata": {},
   "outputs": [
    {
     "name": "stdout",
     "output_type": "stream",
     "text": [
      "main fun\n",
      "process id: 18684\n",
      "--------------------------\n",
      "calling fun\n",
      "parent process id: 18684\n",
      "process id: 18708\n",
      "--------------------------\n",
      "calling fun\n",
      "parent process id: 18684\n",
      "process id: 18717\n"
     ]
    }
   ],
   "source": [
    "def fun():\n",
    "\n",
    "    print('--------------------------')\n",
    "    print('calling fun')\n",
    "    print('parent process id:', os.getppid())\n",
    "    print('process id:', os.getpid())\n",
    "\n",
    "def main():\n",
    "\n",
    "    print('main fun')\n",
    "    print('process id:', os.getpid())\n",
    "\n",
    "    p1 = Process(target=fun)\n",
    "    p1.start()\n",
    "    p1.join()\n",
    "\n",
    "    p2 = Process(target=fun)\n",
    "    p2.start()\n",
    "    p2.join()\n",
    "main()"
   ]
  },
  {
   "cell_type": "markdown",
   "metadata": {},
   "source": [
    "#### Subclassing Process\n",
    "- When we subclass the Process, we override the run method."
   ]
  },
  {
   "cell_type": "code",
   "execution_count": 7,
   "metadata": {},
   "outputs": [
    {
     "name": "stdout",
     "output_type": "stream",
     "text": [
      "In Worker-9\n",
      "In Worker-10\n"
     ]
    }
   ],
   "source": [
    "class Worker(Process):\n",
    "\n",
    "    def run(self):\n",
    "        print(f'In {self.name}')\n",
    "        time.sleep(2)\n",
    "\n",
    "def main():\n",
    "\n",
    "    worker = Worker()\n",
    "    worker.start()\n",
    "\n",
    "    worker2 = Worker()\n",
    "    worker2.start()\n",
    "\n",
    "    worker.join()\n",
    "    worker2.join()\n",
    "\n",
    "main()"
   ]
  },
  {
   "cell_type": "markdown",
   "metadata": {},
   "source": [
    "### Python multiprocessing Pool\n",
    "- The management of the worker processes can be simplified with the Pool object. It controls a pool of worker processes to which jobs can be submitted. The pool's map method chops the given iterable into a number of chunks which it submits to the process pool as separate tasks. The pool's map is a parallel equivalent of the built-in map method. The map blocks the main execution until all computations finish.\n",
    "\n",
    "- The Pool can take the number of processes as a parameter. It is a value with which we can experiment. If we do not provide any value, then the number returned by `os.cpu_count()` is used."
   ]
  },
  {
   "cell_type": "markdown",
   "metadata": {},
   "source": [
    "### Python multiprocessing Pool\n"
   ]
  },
  {
   "cell_type": "code",
   "execution_count": 8,
   "metadata": {},
   "outputs": [],
   "source": [
    "from timeit import default_timer as timer\n",
    "from multiprocessing import Pool, cpu_count"
   ]
  },
  {
   "cell_type": "code",
   "execution_count": 9,
   "metadata": {},
   "outputs": [
    {
     "name": "stdout",
     "output_type": "stream",
     "text": [
      "starting computations on 8 cores\n",
      "[4, 16, 36, 64]\n",
      "elapsed time: 2.092155788999662\n"
     ]
    }
   ],
   "source": [
    "def square(n):\n",
    "\n",
    "    time.sleep(2)\n",
    "    return n * n\n",
    "\n",
    "def main():\n",
    "\n",
    "    start = timer()\n",
    "    print(f'starting computations on {cpu_count()} cores')\n",
    "    values = (2, 4, 6, 8)\n",
    "    with Pool() as pool:\n",
    "        res = pool.map(square, values)\n",
    "        print(res)\n",
    "\n",
    "    end = timer()\n",
    "    print(f'elapsed time: {end - start}')\n",
    "\n",
    "main()"
   ]
  },
  {
   "cell_type": "markdown",
   "metadata": {},
   "source": [
    "### Multiple arguments\n"
   ]
  },
  {
   "cell_type": "code",
   "execution_count": 10,
   "metadata": {},
   "outputs": [
    {
     "name": "stdout",
     "output_type": "stream",
     "text": [
      "[5, 1, 7]\n"
     ]
    }
   ],
   "source": [
    "from multiprocessing import Pool\n",
    "import functools\n",
    "\n",
    "def inc(x):\n",
    "    return x + 1\n",
    "\n",
    "def dec(x):\n",
    "    return x - 1\n",
    "\n",
    "def add(x, y):\n",
    "    return x + y\n",
    "\n",
    "def smap(f):\n",
    "    return f()\n",
    "\n",
    "def main():\n",
    "\n",
    "    f_inc = functools.partial(inc, 4)\n",
    "    f_dec = functools.partial(dec, 2)\n",
    "    f_add = functools.partial(add, 3, 4)\n",
    "\n",
    "    with Pool() as pool:\n",
    "        res = pool.map(smap, [f_inc, f_dec, f_add])\n",
    "        print(res)\n",
    "\n",
    "main()"
   ]
  },
  {
   "cell_type": "markdown",
   "metadata": {},
   "source": [
    "### Python multiprocessing π calculation"
   ]
  },
  {
   "cell_type": "code",
   "execution_count": 12,
   "metadata": {},
   "outputs": [
    {
     "name": "stdout",
     "output_type": "stream",
     "text": [
      "sequentially: 0.4356065590000071\n"
     ]
    }
   ],
   "source": [
    "from decimal import Decimal, getcontext\n",
    "from timeit import default_timer as timer\n",
    "\n",
    "def pi(precision):\n",
    "\n",
    "    getcontext().prec = precision\n",
    "\n",
    "    return sum(1/Decimal(16)**k *\n",
    "        (Decimal(4)/(8*k+1) -\n",
    "         Decimal(2)/(8*k+4) -\n",
    "         Decimal(1)/(8*k+5) -\n",
    "         Decimal(1)/(8*k+6)) for k in range (precision))\n",
    "\n",
    "\n",
    "start = timer()\n",
    "values = (1000, 1500, 2000)\n",
    "data = list(map(pi, values))\n",
    "# print(data)\n",
    "\n",
    "end = timer()\n",
    "print(f'sequentially: {end - start}')"
   ]
  },
  {
   "cell_type": "code",
   "execution_count": 14,
   "metadata": {},
   "outputs": [
    {
     "name": "stdout",
     "output_type": "stream",
     "text": [
      "paralelly: 0.3123783029986953\n"
     ]
    }
   ],
   "source": [
    "from decimal import Decimal, getcontext\n",
    "from timeit import default_timer as timer\n",
    "from multiprocessing import Pool, current_process\n",
    "import time\n",
    "\n",
    "\n",
    "def pi(precision):\n",
    "\n",
    "    getcontext().prec=precision\n",
    "\n",
    "    return sum(1/Decimal(16)**k *\n",
    "        (Decimal(4)/(8*k+1) -\n",
    "         Decimal(2)/(8*k+4) -\n",
    "         Decimal(1)/(8*k+5) -\n",
    "         Decimal(1)/(8*k+6)) for k in range (precision))\n",
    "\n",
    "\n",
    "def main():\n",
    "\n",
    "    start = timer()\n",
    "\n",
    "    with Pool(3) as pool:\n",
    "\n",
    "        values = (1000, 1500, 2000)\n",
    "        data = pool.map(pi, values)\n",
    "#         print(data)\n",
    "\n",
    "    end = timer()\n",
    "    print(f'paralelly: {end - start}')\n",
    "\n",
    "main()"
   ]
  },
  {
   "cell_type": "markdown",
   "metadata": {},
   "source": [
    "### Separate memory in a process\n"
   ]
  },
  {
   "cell_type": "code",
   "execution_count": 15,
   "metadata": {},
   "outputs": [
    {
     "name": "stdout",
     "output_type": "stream",
     "text": [
      "Result in Process-33: [1, 2, 3, 4, 5]\n",
      "Result in main: [1, 2]\n"
     ]
    }
   ],
   "source": [
    "from multiprocessing import Process, current_process\n",
    "\n",
    "data = [1, 2]\n",
    "\n",
    "def fun():\n",
    "\n",
    "    global data\n",
    "    data.extend((3, 4, 5))\n",
    "    print(f'Result in {current_process().name}: {data}')\n",
    "\n",
    "def main():\n",
    "    worker = Process(target=fun)\n",
    "    worker.start()\n",
    "    worker.join()\n",
    "\n",
    "    print(f'Result in main: {data}')\n",
    "\n",
    "main()"
   ]
  },
  {
   "cell_type": "code",
   "execution_count": null,
   "metadata": {},
   "outputs": [],
   "source": []
  }
 ],
 "metadata": {
  "kernelspec": {
   "display_name": "Python 3.6.9 64-bit",
   "language": "python",
   "name": "python36964bit3ec0dbbd46ae448585f9bbd63312a519"
  },
  "language_info": {
   "codemirror_mode": {
    "name": "ipython",
    "version": 3
   },
   "file_extension": ".py",
   "mimetype": "text/x-python",
   "name": "python",
   "nbconvert_exporter": "python",
   "pygments_lexer": "ipython3",
   "version": "3.6.9"
  }
 },
 "nbformat": 4,
 "nbformat_minor": 4
}

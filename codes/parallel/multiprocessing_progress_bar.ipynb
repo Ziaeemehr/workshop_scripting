{
 "cells": [
  {
   "cell_type": "markdown",
   "metadata": {},
   "source": [
    "- [Link](https://clay-atlas.com/us/blog/2021/08/02/python-en-use-multi-processing-pool-progress-bar/)"
   ]
  },
  {
   "cell_type": "code",
   "execution_count": 1,
   "metadata": {},
   "outputs": [
    {
     "name": "stdout",
     "output_type": "stream",
     "text": [
      "[0, 1, 2, 3, 4, 5, 6, 7, 8, 9]\n"
     ]
    }
   ],
   "source": [
    "import multiprocessing as mp\n",
    "import tqdm\n",
    "\n",
    "def task(item):\n",
    "    return item % 10\n",
    "\n",
    "inputs = range(10)\n",
    "\n",
    "# without progress bar\n",
    "with mp.Pool(processes=4) as pool:\n",
    "    results = pool.map(task, inputs)\n",
    "    \n",
    "print(results)"
   ]
  },
  {
   "cell_type": "code",
   "execution_count": 2,
   "metadata": {},
   "outputs": [
    {
     "name": "stderr",
     "output_type": "stream",
     "text": [
      "100%|██████████| 10/10 [00:00<00:00, 127875.12it/s]"
     ]
    },
    {
     "name": "stdout",
     "output_type": "stream",
     "text": [
      "[0, 1, 4, 2, 3, 6, 7, 8, 9, 5]\n"
     ]
    },
    {
     "name": "stderr",
     "output_type": "stream",
     "text": [
      "\n"
     ]
    }
   ],
   "source": [
    "# with progress bar\n",
    "with mp.Pool(processes=4) as pool:\n",
    "    results = []\n",
    "    for result in tqdm.tqdm(pool.imap_unordered(task, inputs),\n",
    "                            total=len(inputs)):\n",
    "        results.append(result)\n",
    "\n",
    "print(results)\n"
   ]
  },
  {
   "cell_type": "code",
   "execution_count": 3,
   "metadata": {},
   "outputs": [
    {
     "data": {
      "text/plain": [
       "[0, 1, 4, 2, 3, 6, 7, 8, 9, 5]"
      ]
     },
     "execution_count": 3,
     "metadata": {},
     "output_type": "execute_result"
    }
   ],
   "source": [
    "results"
   ]
  },
  {
   "cell_type": "code",
   "execution_count": 7,
   "metadata": {},
   "outputs": [
    {
     "name": "stderr",
     "output_type": "stream",
     "text": [
      "100%|██████████| 10/10 [00:00<00:00, 7328.86it/s]\n"
     ]
    },
    {
     "data": {
      "text/plain": [
       "[[0, 1, 2, 3, 4], [5, 6, 7, 8, 9]]"
      ]
     },
     "execution_count": 7,
     "metadata": {},
     "output_type": "execute_result"
    }
   ],
   "source": [
    "n = 10\n",
    "def update_bar(_):\n",
    "    pbar.update()\n",
    "\n",
    "# I want to store all the results in a list and then save them to disk\n",
    "# but I am ran out of memory, so I need to save them in batches\n",
    "A = []\n",
    "with mp.Pool(processes=mp.cpu_count()) as pool:\n",
    "    with tqdm.tqdm(total=n) as pbar:\n",
    "        async_results = [pool.apply_async(task,\n",
    "                                            args=(i,),\n",
    "                                            callback=update_bar)\n",
    "                            for i in range(n)]\n",
    "        for i in range(0, n, 5):\n",
    "            a = [async_results[j].get() for j in range(i, i+5)]\n",
    "            A.append(a)\n",
    "            \n",
    "        # data = [async_result.get() for async_result in async_results]\n",
    "\n",
    "A"
   ]
  },
  {
   "cell_type": "code",
   "execution_count": null,
   "metadata": {},
   "outputs": [],
   "source": []
  }
 ],
 "metadata": {
  "kernelspec": {
   "display_name": "vbi",
   "language": "python",
   "name": "python3"
  },
  "language_info": {
   "codemirror_mode": {
    "name": "ipython",
    "version": 3
   },
   "file_extension": ".py",
   "mimetype": "text/x-python",
   "name": "python",
   "nbconvert_exporter": "python",
   "pygments_lexer": "ipython3",
   "version": "3.8.13"
  },
  "orig_nbformat": 4,
  "vscode": {
   "interpreter": {
    "hash": "c6658fbeb11e9756b335e0a2275891bf44480ed23795317e1d3387270d95d796"
   }
  }
 },
 "nbformat": 4,
 "nbformat_minor": 2
}

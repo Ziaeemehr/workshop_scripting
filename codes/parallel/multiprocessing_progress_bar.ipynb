{
 "cells": [
  {
   "cell_type": "markdown",
   "metadata": {},
   "source": [
    "- [Link](https://clay-atlas.com/us/blog/2021/08/02/python-en-use-multi-processing-pool-progress-bar/)"
   ]
  },
  {
   "cell_type": "code",
   "execution_count": 6,
   "metadata": {},
   "outputs": [
    {
     "name": "stdout",
     "output_type": "stream",
     "text": [
      "[0, 1, 2, 3, 4, 5, 6, 7, 8, 9]\n"
     ]
    }
   ],
   "source": [
    "import multiprocessing as mp\n",
    "import tqdm\n",
    "\n",
    "def task(item):\n",
    "    return item % 10\n",
    "\n",
    "inputs = range(10)\n",
    "\n",
    "# without progress bar\n",
    "with mp.Pool(processes=4) as pool:\n",
    "    results = pool.map(task, inputs)\n",
    "    \n",
    "print(results)"
   ]
  },
  {
   "cell_type": "code",
   "execution_count": 7,
   "metadata": {},
   "outputs": [
    {
     "name": "stderr",
     "output_type": "stream",
     "text": [
      "100%|██████████| 10/10 [00:00<00:00, 115545.56it/s]"
     ]
    },
    {
     "name": "stdout",
     "output_type": "stream",
     "text": [
      "[0, 1, 2, 3, 4, 5, 6, 7, 8, 9]\n"
     ]
    },
    {
     "name": "stderr",
     "output_type": "stream",
     "text": [
      "\n"
     ]
    }
   ],
   "source": [
    "# with progress bar\n",
    "with mp.Pool(processes=4) as pool:\n",
    "    results = []\n",
    "    for result in tqdm.tqdm(pool.imap_unordered(task, inputs),\n",
    "                            total=len(inputs)):\n",
    "        results.append(result)\n",
    "\n",
    "print(results)\n"
   ]
  },
  {
   "cell_type": "code",
   "execution_count": null,
   "metadata": {},
   "outputs": [],
   "source": []
  }
 ],
 "metadata": {
  "interpreter": {
   "hash": "08b9f2e5dd807b28a275353f411c448c6b9add6cfc06b23776fed090f5c44a65"
  },
  "kernelspec": {
   "display_name": "Python 3.9.7 ('sbi')",
   "language": "python",
   "name": "python3"
  },
  "language_info": {
   "codemirror_mode": {
    "name": "ipython",
    "version": 3
   },
   "file_extension": ".py",
   "mimetype": "text/x-python",
   "name": "python",
   "nbconvert_exporter": "python",
   "pygments_lexer": "ipython3",
   "version": "3.9.7"
  },
  "orig_nbformat": 4
 },
 "nbformat": 4,
 "nbformat_minor": 2
}

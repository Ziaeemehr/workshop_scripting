{
 "cells": [
  {
   "cell_type": "markdown",
   "metadata": {},
   "source": [
    "# [An Intro to Threading in Python](https://realpython.com/intro-to-python-threading/)"
   ]
  },
  {
   "cell_type": "code",
   "execution_count": 1,
   "metadata": {},
   "outputs": [
    {
     "name": "stderr",
     "output_type": "stream",
     "text": [
      "20:19:20: Main    : before creating thread\n",
      "20:19:20: Main    : before running thread\n",
      "20:19:20: Thread 1: starting\n",
      "20:19:20: Main    : wait for the thread to finish\n",
      "20:19:22: Thread 1: finishing\n",
      "20:19:22: Main    : all done\n"
     ]
    }
   ],
   "source": [
    "import logging\n",
    "import threading\n",
    "import time\n",
    "\n",
    "def thread_function(name):\n",
    "    logging.info(\"Thread %s: starting\", name)\n",
    "    time.sleep(2)\n",
    "    logging.info(\"Thread %s: finishing\", name)\n",
    "\n",
    "format = \"%(asctime)s: %(message)s\"\n",
    "logging.basicConfig(format=format, level=logging.INFO,\n",
    "                    datefmt=\"%H:%M:%S\")\n",
    "\n",
    "logging.info(\"Main    : before creating thread\")\n",
    "x = threading.Thread(target=thread_function, args=(1,))\n",
    "logging.info(\"Main    : before running thread\")\n",
    "x.start()\n",
    "logging.info(\"Main    : wait for the thread to finish\")\n",
    "x.join()\n",
    "logging.info(\"Main    : all done\")"
   ]
  },
  {
   "cell_type": "markdown",
   "metadata": {},
   "source": [
    "### Working With Many Threads"
   ]
  },
  {
   "cell_type": "code",
   "execution_count": 2,
   "metadata": {},
   "outputs": [
    {
     "name": "stderr",
     "output_type": "stream",
     "text": [
      "20:19:22: Main    : create and start thread 0.\n",
      "20:19:22: Thread 0: starting\n",
      "20:19:22: Main    : create and start thread 1.\n",
      "20:19:22: Thread 1: starting\n",
      "20:19:22: Main    : create and start thread 2.\n",
      "20:19:22: Thread 2: starting\n",
      "20:19:22: Main    : before joining thread 0.\n",
      "20:19:24: Thread 0: finishing\n",
      "20:19:24: Thread 1: finishing\n",
      "20:19:24: Main    : thread 0 done\n",
      "20:19:24: Main    : before joining thread 1.\n",
      "20:19:24: Main    : thread 1 done\n",
      "20:19:24: Main    : before joining thread 2.\n",
      "20:19:24: Thread 2: finishing\n",
      "20:19:24: Main    : thread 2 done\n"
     ]
    }
   ],
   "source": [
    "import logging\n",
    "import threading\n",
    "import time\n",
    "\n",
    "def thread_function(name):\n",
    "    logging.info(\"Thread %s: starting\", name)\n",
    "    time.sleep(2)\n",
    "    logging.info(\"Thread %s: finishing\", name)\n",
    "\n",
    "format = \"%(asctime)s: %(message)s\"\n",
    "logging.basicConfig(format=format, \n",
    "                    level=logging.INFO,\n",
    "                    datefmt=\"%H:%M:%S\")\n",
    "threads = list()\n",
    "for index in range(3):\n",
    "    logging.info(\"Main    : create and start thread %d.\", index)\n",
    "    x = threading.Thread(target=thread_function, args=(index,))\n",
    "    threads.append(x)\n",
    "    x.start() \n",
    "    \n",
    "for index, thread in enumerate(threads):\n",
    "    logging.info(\"Main    : before joining thread %d.\", index)\n",
    "    thread.join()\n",
    "    logging.info(\"Main    : thread %d done\", index)"
   ]
  },
  {
   "cell_type": "code",
   "execution_count": 5,
   "metadata": {},
   "outputs": [
    {
     "name": "stderr",
     "output_type": "stream",
     "text": [
      "20:21:23: Thread 0: starting\n",
      "20:21:23: Thread 1: starting\n",
      "20:21:23: Thread 2: starting\n",
      "20:21:23: Thread 3: starting\n",
      "20:21:25: Thread 1: finishing\n",
      "20:21:25: Thread 4: starting\n",
      "20:21:25: Thread 0: finishing\n",
      "20:21:25: Thread 5: starting\n",
      "20:21:25: Thread 2: finishing\n",
      "20:21:25: Thread 6: starting\n",
      "20:21:25: Thread 3: finishing\n",
      "20:21:25: Thread 7: starting\n",
      "20:21:27: Thread 4: finishing\n",
      "20:21:27: Thread 7: finishing\n",
      "20:21:27: Thread 5: finishing\n",
      "20:21:27: Thread 6: finishing\n"
     ]
    },
    {
     "name": "stdout",
     "output_type": "stream",
     "text": [
      "[1, 0, 2, 3, 4, 7, 5, 6]\n"
     ]
    }
   ],
   "source": [
    "import time\n",
    "import logging\n",
    "from concurrent.futures import ThreadPoolExecutor\n",
    "\n",
    "a = []\n",
    "\n",
    "def thread_function(name):\n",
    "    logging.info(\"Thread %s: starting\", name)\n",
    "    time.sleep(2)\n",
    "    logging.info(\"Thread %s: finishing\", name)\n",
    "    a.append(name)\n",
    "\n",
    "\n",
    "format = \"%(asctime)s: %(message)s\"\n",
    "logging.basicConfig(format=format, level=logging.INFO,\n",
    "                    datefmt=\"%H:%M:%S\")\n",
    "\n",
    "with ThreadPoolExecutor(max_workers=4) as executor:\n",
    "    executor.map(thread_function, range(8))\n",
    "\n",
    "print(a)"
   ]
  },
  {
   "cell_type": "code",
   "execution_count": null,
   "metadata": {},
   "outputs": [],
   "source": []
  }
 ],
 "metadata": {
  "kernelspec": {
   "display_name": "Python 3.6.9 64-bit",
   "language": "python",
   "name": "python36964bit3ec0dbbd46ae448585f9bbd63312a519"
  },
  "language_info": {
   "codemirror_mode": {
    "name": "ipython",
    "version": 3
   },
   "file_extension": ".py",
   "mimetype": "text/x-python",
   "name": "python",
   "nbconvert_exporter": "python",
   "pygments_lexer": "ipython3",
   "version": "3.6.9"
  }
 },
 "nbformat": 4,
 "nbformat_minor": 4
}

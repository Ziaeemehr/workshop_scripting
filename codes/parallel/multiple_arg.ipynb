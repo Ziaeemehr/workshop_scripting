{
 "cells": [
  {
   "cell_type": "markdown",
   "metadata": {},
   "source": [
    "## [pool.map - multiple arguments](http://python.omics.wiki/multiprocessing_map/multiprocessing_partial_function_multiple_arguments)"
   ]
  },
  {
   "cell_type": "markdown",
   "metadata": {},
   "source": [
    "Example 1:  List of lists"
   ]
  },
  {
   "cell_type": "code",
   "execution_count": 1,
   "metadata": {},
   "outputs": [
    {
     "name": "stdout",
     "output_type": "stream",
     "text": [
      "[15, 12, 21, 6]\n"
     ]
    }
   ],
   "source": [
    "import multiprocessing\n",
    "import numpy as np\n",
    "\n",
    "data_pairs = [ [3,5], [4,3], [7,3], [1,6] ]\n",
    "\n",
    "# define what to do with each data pair ( p=[3,5] ), example: calculate product\n",
    "def myfunc(p):\n",
    "    product_of_list = np.prod(p)\n",
    "    return product_of_list\n",
    "\n",
    "if __name__ == '__main__':\n",
    "    pool = multiprocessing.Pool(processes=4)\n",
    "    result_list = pool.map(myfunc, data_pairs)\n",
    "    print(result_list)\n"
   ]
  },
  {
   "cell_type": "markdown",
   "metadata": {},
   "source": [
    "Example 2: using `partial()`\n",
    "\n",
    "To use pool.map for functions with multiple arguments, partial can be used to set constant values to all arguments which are not changed during parallel processing, such that only the first argument remains for iterating. (The variable input needs to be always the first argument of a function, not second or later arguments)."
   ]
  },
  {
   "cell_type": "code",
   "execution_count": 1,
   "metadata": {
    "tags": []
   },
   "outputs": [
    {
     "output_type": "stream",
     "name": "stdout",
     "text": "[10, 20, 30, 40]\n"
    }
   ],
   "source": [
    "import multiprocessing\n",
    "from functools import partial\n",
    "\n",
    "data_list = [1, 2, 3, 4]\n",
    "\n",
    "def prod_xy(x,y):\n",
    "    return x * y\n",
    "\n",
    "def parallel_runs(data_list):\n",
    "    pool = multiprocessing.Pool(processes=4)\n",
    "    prod_x=partial(prod_xy, y=10) # prod_x has only one argument x (y is fixed to 10)\n",
    "    result_list = pool.map(prod_x, data_list)\n",
    "    print(result_list)\n",
    "\n",
    "if __name__ == '__main__':\n",
    "    parallel_runs(data_list)\n"
   ]
  },
  {
   "cell_type": "code",
   "execution_count": null,
   "metadata": {},
   "outputs": [],
   "source": []
  }
 ],
 "metadata": {
  "kernelspec": {
   "display_name": "Python 3.6.9 64-bit",
   "language": "python",
   "name": "python36964bit3ec0dbbd46ae448585f9bbd63312a519"
  },
  "language_info": {
   "codemirror_mode": {
    "name": "ipython",
    "version": 3
   },
   "file_extension": ".py",
   "mimetype": "text/x-python",
   "name": "python",
   "nbconvert_exporter": "python",
   "pygments_lexer": "ipython3",
   "version": "3.6.9-final"
  }
 },
 "nbformat": 4,
 "nbformat_minor": 4
}
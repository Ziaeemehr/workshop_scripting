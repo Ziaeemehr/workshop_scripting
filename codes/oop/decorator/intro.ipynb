{
 "cells": [
  {
   "cell_type": "markdown",
   "metadata": {},
   "source": [
    "# Decorator\n",
    "\n",
    "[TEL](https://t.me/scientific_programming)"
   ]
  },
  {
   "cell_type": "markdown",
   "metadata": {},
   "source": [
    "In Python, a decorator is a way to modify the behavior of a function or a class without changing its source code. Decorators are implemented as functions that take a function or a class as an argument and return a new function or class. The new function or class can be used in place of the original one, with the added behavior provided by the decorator."
   ]
  },
  {
   "cell_type": "code",
   "execution_count": 1,
   "metadata": {},
   "outputs": [
    {
     "name": "stdout",
     "output_type": "stream",
     "text": [
      "Time taken: 1.00 seconds\n"
     ]
    }
   ],
   "source": [
    "import time\n",
    "\n",
    "def timer(func):\n",
    "    def wrapper(*args, **kwargs):\n",
    "        start_time = time.time()\n",
    "        result = func(*args, **kwargs)\n",
    "        end_time = time.time()\n",
    "        print(f\"Time taken: {end_time - start_time:.2f} seconds\")\n",
    "        return result\n",
    "    return wrapper\n",
    "\n",
    "@timer\n",
    "def my_function():\n",
    "    # do some work here\n",
    "    time.sleep(1)\n",
    "\n",
    "my_function() # this will print \"Time taken: 1.00 seconds\"\n"
   ]
  },
  {
   "cell_type": "code",
   "execution_count": 2,
   "metadata": {},
   "outputs": [
    {
     "name": "stdout",
     "output_type": "stream",
     "text": [
      "Calling function my_function with args (1, 2) and kwargs {}\n",
      "Function my_function returned 3\n"
     ]
    },
    {
     "data": {
      "text/plain": [
       "3"
      ]
     },
     "execution_count": 2,
     "metadata": {},
     "output_type": "execute_result"
    }
   ],
   "source": [
    "def log_function(func):\n",
    "    def wrapper(*args, **kwargs):\n",
    "        print(f\"Calling function {func.__name__} with args {args} and kwargs {kwargs}\")\n",
    "        result = func(*args, **kwargs)\n",
    "        print(f\"Function {func.__name__} returned {result}\")\n",
    "        return result\n",
    "    return wrapper\n",
    "\n",
    "@log_function\n",
    "def my_function(x, y):\n",
    "    return x + y\n",
    "\n",
    "my_function(1, 2)  # Output: Calling function my_function with args (1, 2) and kwargs {}; Function my_function returned 3\n"
   ]
  },
  {
   "cell_type": "markdown",
   "metadata": {},
   "source": [
    "Memoization decorator\n",
    "\n",
    "This decorator can be used to cache the return values of any function. It checks whether the function has already been called with the same arguments, and if so, returns the cached value instead of calling the function again."
   ]
  },
  {
   "cell_type": "code",
   "execution_count": 6,
   "metadata": {},
   "outputs": [
    {
     "data": {
      "text/plain": [
       "55"
      ]
     },
     "execution_count": 6,
     "metadata": {},
     "output_type": "execute_result"
    }
   ],
   "source": [
    "def memoize(func):\n",
    "    cache = {}\n",
    "    def wrapper(*args):\n",
    "        if args in cache:\n",
    "            return cache[args]\n",
    "        else:\n",
    "            result = func(*args)\n",
    "            cache[args] = result\n",
    "            return result\n",
    "    return wrapper\n",
    "\n",
    "@memoize\n",
    "def fib(n):\n",
    "    if n < 2:\n",
    "        return n\n",
    "    else:\n",
    "        return fib(n-1) + fib(n-2)\n",
    "\n",
    "fib(10)  # Output: 55 (the result is cached after the first call, so subsequent calls are much faster)\n"
   ]
  },
  {
   "cell_type": "code",
   "execution_count": 7,
   "metadata": {},
   "outputs": [
    {
     "data": {
      "text/plain": [
       "89"
      ]
     },
     "execution_count": 7,
     "metadata": {},
     "output_type": "execute_result"
    }
   ],
   "source": [
    "fib(11)"
   ]
  },
  {
   "cell_type": "markdown",
   "metadata": {},
   "source": [
    "Plotting decorator for visualizing data \n",
    "\n",
    "In scientific computing, it is often necessary to visualize data to gain insights into the underlying patterns and relationships. A plotting decorator can be used to automatically generate plots of the data produced by a function. Here is an example of a plotting decorator:\n"
   ]
  },
  {
   "cell_type": "code",
   "execution_count": 11,
   "metadata": {},
   "outputs": [
    {
     "data": {
      "image/png": "[encoded data removed]",
      "text/plain": [
       "<Figure size 432x288 with 1 Axes>"
      ]
     },
     "metadata": {
      "needs_background": "light"
     },
     "output_type": "display_data"
    }
   ],
   "source": [
    "import matplotlib.pyplot as plt\n",
    "\n",
    "def plot(func):\n",
    "    def wrapper(*args, **kwargs):\n",
    "        result = func(*args, **kwargs)\n",
    "        plt.plot(result)\n",
    "        plt.margins(0.02)\n",
    "        plt.show()\n",
    "        return result\n",
    "    return wrapper\n",
    "\n",
    "@plot\n",
    "def sin_wave():\n",
    "    import numpy as np\n",
    "    x = np.linspace(0, 2*np.pi, 100)\n",
    "    y = np.sin(x)\n",
    "    return y\n",
    "\n",
    "y = sin_wave()"
   ]
  },
  {
   "cell_type": "code",
   "execution_count": 19,
   "metadata": {},
   "outputs": [
    {
     "data": {
      "text/plain": [
       "((7,), (1, 7), (7,))"
      ]
     },
     "execution_count": 19,
     "metadata": {},
     "output_type": "execute_result"
    }
   ],
   "source": [
    "t.shape, y.shape, y[0].shape"
   ]
  },
  {
   "cell_type": "code",
   "execution_count": 23,
   "metadata": {},
   "outputs": [
    {
     "data": {
      "image/png": "[encoded data removed]",
      "text/plain": [
       "<Figure size 432x288 with 1 Axes>"
      ]
     },
     "metadata": {
      "needs_background": "light"
     },
     "output_type": "display_data"
    }
   ],
   "source": [
    "import numpy as np\n",
    "import matplotlib.pyplot as plt\n",
    "from scipy.integrate import solve_ivp\n",
    "\n",
    "def ode_solver(func):\n",
    "    def wrapper(t_span, y0, args=(), **kwargs):\n",
    "        sol = solve_ivp(func, t_span, y0, args=args, **kwargs)\n",
    "        return sol.t, sol.y\n",
    "    return wrapper\n",
    "\n",
    "@ode_solver\n",
    "def exponential_growth(t, y, k):\n",
    "    return k*y\n",
    "\n",
    "t_span = [0, 10]\n",
    "y0 = [1]\n",
    "k = 0.5\n",
    "\n",
    "t, y = exponential_growth(t_span, y0, args=(k,), method='RK45')\n",
    "\n",
    "plt.plot(t, y[0])\n",
    "plt.xlabel('Time')\n",
    "plt.ylabel('Population size')\n",
    "plt.show()\n"
   ]
  }
 ],
 "metadata": {
  "kernelspec": {
   "display_name": "Python 3 (ipykernel)",
   "language": "python",
   "name": "python3"
  },
  "language_info": {
   "codemirror_mode": {
    "name": "ipython",
    "version": 3
   },
   "file_extension": ".py",
   "mimetype": "text/x-python",
   "name": "python",
   "nbconvert_exporter": "python",
   "pygments_lexer": "ipython3",
   "version": "3.9.7"
  }
 },
 "nbformat": 4,
 "nbformat_minor": 4
}

{
 "cells": [
  {
   "cell_type": "code",
   "execution_count": 52,
   "metadata": {},
   "outputs": [],
   "source": [
    "from typing import Any\n",
    "\n",
    "\n",
    "class Vector2D:\n",
    "    def __init__(self, x, y):\n",
    "        self.x = x\n",
    "        self.y = y\n",
    "    def __repr__(self):\n",
    "        return f'Vector2D(x={self.x}, y={self.y})'\n",
    "    def __str__(self):\n",
    "        return f'Vector2D (x={self.x}, y={self.y})'\n",
    "    def __eq__(self, other: object) -> bool:\n",
    "        return self.x == other.x and self.y == other.y\n",
    "    def __len__(self) -> int:\n",
    "        return 2\n",
    "    def __add__(self, other: object) -> object:\n",
    "        return Vector2D(self.x + other.x, self.y + other.y)\n",
    "    def __mul__(self, other):\n",
    "        if isinstance(other, (int, float)):\n",
    "            return Vector2D(self.x * other, self.y * other)\n",
    "        elif isinstance(other, Vector2D):\n",
    "            return self.x * other.x + self.y * other.y\n",
    "        else:\n",
    "            raise TypeError(f'unsupported operand type(s) for *: {type(self)} and {type(other)}')\n",
    "    def __getitem__(self, key):\n",
    "        if key == 0:\n",
    "            return self.x\n",
    "        elif key == 1:\n",
    "            return self.y\n",
    "        else:\n",
    "            raise IndexError('index out of range')\n",
    "    def __call__(self, scalar):\n",
    "        return Vector2D(self.x * scalar, self.y * scalar)\n",
    "    def __getattr__(self, name: str) -> Any:\n",
    "        if name == \"magnitude\":\n",
    "            return (self.x ** 2 + self.y ** 2) ** 0.5\n",
    "        else:\n",
    "            raise AttributeError(f'\\'Vector2D\\' object has no attribute \\'{name}\\'')\n"
   ]
  },
  {
   "cell_type": "code",
   "execution_count": 53,
   "metadata": {},
   "outputs": [
    {
     "name": "stdout",
     "output_type": "stream",
     "text": [
      "Vector2D (x=3, y=5)\n",
      "2\n"
     ]
    }
   ],
   "source": [
    "v = Vector2D(3, 5)\n",
    "print(v)\n",
    "print(len(v))"
   ]
  },
  {
   "cell_type": "code",
   "execution_count": 54,
   "metadata": {},
   "outputs": [
    {
     "name": "stdout",
     "output_type": "stream",
     "text": [
      "True\n"
     ]
    }
   ],
   "source": [
    "v1 = Vector2D(3,5)\n",
    "v2 = Vector2D(3,5)\n",
    "print(v1 == v2)"
   ]
  },
  {
   "cell_type": "code",
   "execution_count": 55,
   "metadata": {},
   "outputs": [
    {
     "name": "stdout",
     "output_type": "stream",
     "text": [
      "Vector2D (x=4, y=7)\n",
      "Vector2D (x=6, y=10)\n",
      "13\n"
     ]
    }
   ],
   "source": [
    "v1 = Vector2D(3,5)\n",
    "v2 = Vector2D(1,2)\n",
    "\n",
    "result = v1 + v2\n",
    "print(result)\n",
    "result = v1 * 2\n",
    "print(result)\n",
    "result = v1 * v2\n",
    "print(result)"
   ]
  },
  {
   "cell_type": "code",
   "execution_count": 56,
   "metadata": {},
   "outputs": [
    {
     "name": "stdout",
     "output_type": "stream",
     "text": [
      "3\n",
      "5\n"
     ]
    }
   ],
   "source": [
    "v = Vector2D(3, 5)\n",
    "print(v[0])\n",
    "print(v[1])"
   ]
  },
  {
   "cell_type": "code",
   "execution_count": 57,
   "metadata": {},
   "outputs": [
    {
     "name": "stdout",
     "output_type": "stream",
     "text": [
      "Vector2D (x=9, y=15)\n"
     ]
    }
   ],
   "source": [
    "v = Vector2D(3, 5)\n",
    "result = v(3)\n",
    "print(result)"
   ]
  },
  {
   "cell_type": "code",
   "execution_count": 61,
   "metadata": {},
   "outputs": [
    {
     "name": "stdout",
     "output_type": "stream",
     "text": [
      "5.0\n"
     ]
    }
   ],
   "source": [
    "v = Vector2D(3, 4)\n",
    "print(v.magnitude)\n",
    "# print(v.altitude)"
   ]
  },
  {
   "cell_type": "code",
   "execution_count": null,
   "metadata": {},
   "outputs": [],
   "source": []
  }
 ],
 "metadata": {
  "kernelspec": {
   "display_name": "base",
   "language": "python",
   "name": "python3"
  },
  "language_info": {
   "codemirror_mode": {
    "name": "ipython",
    "version": 3
   },
   "file_extension": ".py",
   "mimetype": "text/x-python",
   "name": "python",
   "nbconvert_exporter": "python",
   "pygments_lexer": "ipython3",
   "version": "3.8.8"
  },
  "orig_nbformat": 4,
  "vscode": {
   "interpreter": {
    "hash": "5003a91cc4bf8fa418ee80ddf8f12cd1e19c2efaca4fcb8cdf67dbec0acd2436"
   }
  }
 },
 "nbformat": 4,
 "nbformat_minor": 2
}

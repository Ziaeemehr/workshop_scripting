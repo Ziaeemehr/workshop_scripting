{
 "cells": [
  {
   "cell_type": "markdown",
   "metadata": {},
   "source": [
    "### Class Integration"
   ]
  },
  {
   "cell_type": "code",
   "execution_count": 1,
   "metadata": {
    "collapsed": false
   },
   "outputs": [
    {
     "name": "stdout",
     "output_type": "stream",
     "text": [
      "0.0\n"
     ]
    }
   ],
   "source": [
    "class Trapezoidal:\n",
    "    \"\"\"The Trapezoidal rule for integrals on [-1,1].\"\"\"\n",
    "    def __init__(self):\n",
    "        self.setup()\n",
    "    def setup(self):\n",
    "        self.points = (-1, 1)\n",
    "        self.weights = (1, 1)\n",
    "    def eval(self, f):\n",
    "        sum = 0.0\n",
    "        for i in range(len(self.points)):\n",
    "            sum += self.weights[i]*f(self.points[i])\n",
    "        return sum\n",
    "# usage:\n",
    "rule = Trapezoidal()\n",
    "integral = rule.eval(lambda x: x**3)\n",
    "print integral"
   ]
  },
  {
   "cell_type": "code",
   "execution_count": 2,
   "metadata": {
    "collapsed": false
   },
   "outputs": [
    {
     "name": "stdout",
     "output_type": "stream",
     "text": [
      "0.560980656539\n"
     ]
    }
   ],
   "source": [
    "import math\n",
    "\n",
    "class Integrate:\n",
    "    def __init__(self):\n",
    "        self.setup()\n",
    "\n",
    "    def setup(self):\n",
    "        # to be overridden in subclasses:\n",
    "        self.weights = None\n",
    "        self.points = None \n",
    "\n",
    "    def eval(self, f):\n",
    "        sum = 0.0\n",
    "        for i in range(len(self.points)):\n",
    "            sum += self.weights[i]*f(self.points[i])\n",
    "        return sum\n",
    "\n",
    "class Trapezoidal(Integrate):\n",
    "    def setup(self):\n",
    "        self.points = (-1, 1)\n",
    "        self.weights = (1, 1)\n",
    "\n",
    "class Simpson(Integrate):\n",
    "    def setup(self):\n",
    "        self.points = (-1,0,1)\n",
    "        self.weights= (1/3.,4/3.,1/3.)\n",
    "\n",
    "class GaussLegendre2(Integrate):\n",
    "    def setup(self):\n",
    "        p = 1/math.sqrt(3)\n",
    "        self.points = (-p, p)\n",
    "        self.weights = (1, 1)\n",
    "\n",
    "\n",
    "# usage:\n",
    "s = Simpson()\n",
    "v = s.eval(lambda x: math.sin(x)*x)\n",
    "\n",
    "print v"
   ]
  },
  {
   "cell_type": "code",
   "execution_count": 3,
   "metadata": {
    "collapsed": false
   },
   "outputs": [
    {
     "ename": "ValueError",
     "evalue": "math domain error",
     "output_type": "error",
     "traceback": [
      "\u001b[0;31m---------------------------------------------------------------------------\u001b[0m",
      "\u001b[0;31mValueError\u001b[0m                                Traceback (most recent call last)",
      "\u001b[0;32m<ipython-input-3-fe61dac62a9e>\u001b[0m in \u001b[0;36m<module>\u001b[0;34m()\u001b[0m\n\u001b[1;32m     28\u001b[0m \u001b[0;34m\u001b[0m\u001b[0m\n\u001b[1;32m     29\u001b[0m \u001b[0ms\u001b[0m \u001b[0;34m=\u001b[0m \u001b[0mTrapezoidal\u001b[0m\u001b[0;34m(\u001b[0m\u001b[0;34m)\u001b[0m\u001b[0;34m\u001b[0m\u001b[0m\n\u001b[0;32m---> 30\u001b[0;31m \u001b[0mv\u001b[0m \u001b[0;34m=\u001b[0m \u001b[0ms\u001b[0m\u001b[0;34m.\u001b[0m\u001b[0meval\u001b[0m\u001b[0;34m(\u001b[0m\u001b[0;32mlambda\u001b[0m \u001b[0mx\u001b[0m\u001b[0;34m:\u001b[0m \u001b[0;36m2.0\u001b[0m \u001b[0;34m+\u001b[0m \u001b[0mmath\u001b[0m\u001b[0;34m.\u001b[0m\u001b[0msin\u001b[0m\u001b[0;34m(\u001b[0m\u001b[0;36m2.0\u001b[0m \u001b[0;34m*\u001b[0m \u001b[0mmath\u001b[0m\u001b[0;34m.\u001b[0m\u001b[0msqrt\u001b[0m\u001b[0;34m(\u001b[0m\u001b[0mx\u001b[0m\u001b[0;34m)\u001b[0m\u001b[0;34m)\u001b[0m\u001b[0;34m)\u001b[0m\u001b[0;34m\u001b[0m\u001b[0m\n\u001b[0m\u001b[1;32m     31\u001b[0m \u001b[0;34m\u001b[0m\u001b[0m\n\u001b[1;32m     32\u001b[0m \u001b[0;32mprint\u001b[0m \u001b[0mv\u001b[0m\u001b[0;34m\u001b[0m\u001b[0m\n",
      "\u001b[0;32m<ipython-input-3-fe61dac62a9e>\u001b[0m in \u001b[0;36meval\u001b[0;34m(self, f)\u001b[0m\n\u001b[1;32m     24\u001b[0m         \u001b[0msum\u001b[0m \u001b[0;34m=\u001b[0m \u001b[0;36m0.0\u001b[0m\u001b[0;34m\u001b[0m\u001b[0m\n\u001b[1;32m     25\u001b[0m         \u001b[0;32mfor\u001b[0m \u001b[0mi\u001b[0m \u001b[0;32min\u001b[0m \u001b[0mrange\u001b[0m\u001b[0;34m(\u001b[0m\u001b[0mlen\u001b[0m\u001b[0;34m(\u001b[0m\u001b[0mself\u001b[0m\u001b[0;34m.\u001b[0m\u001b[0mpoints\u001b[0m\u001b[0;34m)\u001b[0m\u001b[0;34m)\u001b[0m\u001b[0;34m:\u001b[0m\u001b[0;34m\u001b[0m\u001b[0m\n\u001b[0;32m---> 26\u001b[0;31m             \u001b[0msum\u001b[0m \u001b[0;34m+=\u001b[0m \u001b[0mself\u001b[0m\u001b[0;34m.\u001b[0m\u001b[0mweights\u001b[0m\u001b[0;34m[\u001b[0m\u001b[0mi\u001b[0m\u001b[0;34m]\u001b[0m\u001b[0;34m*\u001b[0m\u001b[0mf\u001b[0m\u001b[0;34m(\u001b[0m\u001b[0mself\u001b[0m\u001b[0;34m.\u001b[0m\u001b[0mpoints\u001b[0m\u001b[0;34m[\u001b[0m\u001b[0mi\u001b[0m\u001b[0;34m]\u001b[0m\u001b[0;34m)\u001b[0m\u001b[0;34m\u001b[0m\u001b[0m\n\u001b[0m\u001b[1;32m     27\u001b[0m         \u001b[0;32mreturn\u001b[0m \u001b[0msum\u001b[0m\u001b[0;34m\u001b[0m\u001b[0m\n\u001b[1;32m     28\u001b[0m \u001b[0;34m\u001b[0m\u001b[0m\n",
      "\u001b[0;32m<ipython-input-3-fe61dac62a9e>\u001b[0m in \u001b[0;36m<lambda>\u001b[0;34m(x)\u001b[0m\n\u001b[1;32m     28\u001b[0m \u001b[0;34m\u001b[0m\u001b[0m\n\u001b[1;32m     29\u001b[0m \u001b[0ms\u001b[0m \u001b[0;34m=\u001b[0m \u001b[0mTrapezoidal\u001b[0m\u001b[0;34m(\u001b[0m\u001b[0;34m)\u001b[0m\u001b[0;34m\u001b[0m\u001b[0m\n\u001b[0;32m---> 30\u001b[0;31m \u001b[0mv\u001b[0m \u001b[0;34m=\u001b[0m \u001b[0ms\u001b[0m\u001b[0;34m.\u001b[0m\u001b[0meval\u001b[0m\u001b[0;34m(\u001b[0m\u001b[0;32mlambda\u001b[0m \u001b[0mx\u001b[0m\u001b[0;34m:\u001b[0m \u001b[0;36m2.0\u001b[0m \u001b[0;34m+\u001b[0m \u001b[0mmath\u001b[0m\u001b[0;34m.\u001b[0m\u001b[0msin\u001b[0m\u001b[0;34m(\u001b[0m\u001b[0;36m2.0\u001b[0m \u001b[0;34m*\u001b[0m \u001b[0mmath\u001b[0m\u001b[0;34m.\u001b[0m\u001b[0msqrt\u001b[0m\u001b[0;34m(\u001b[0m\u001b[0mx\u001b[0m\u001b[0;34m)\u001b[0m\u001b[0;34m)\u001b[0m\u001b[0;34m)\u001b[0m\u001b[0;34m\u001b[0m\u001b[0m\n\u001b[0m\u001b[1;32m     31\u001b[0m \u001b[0;34m\u001b[0m\u001b[0m\n\u001b[1;32m     32\u001b[0m \u001b[0;32mprint\u001b[0m \u001b[0mv\u001b[0m\u001b[0;34m\u001b[0m\u001b[0m\n",
      "\u001b[0;31mValueError\u001b[0m: math domain error"
     ]
    }
   ],
   "source": [
    "import math\n",
    "\n",
    "class Integrate:\n",
    "    def __init__(self):\n",
    "        self.setup()\n",
    "\n",
    "    def setup(self):\n",
    "        # to be overridden in subclasses:\n",
    "        self.weights = None\n",
    "        self.points = None \n",
    "\n",
    "    def eval(self, f):\n",
    "        sum = 0.0\n",
    "        for i in range(len(self.points)):\n",
    "            sum += self.weights[i]*f(self.points[i])\n",
    "        return sum\n",
    "    \n",
    "class Trapezoidal(Integrate):\n",
    "    def setup(self):\n",
    "        self.points = (-1, 1)\n",
    "        self.weights = (1, 1)\n",
    "        \n",
    "    def eval(self, f):\n",
    "        sum = 0.0\n",
    "        for i in range(len(self.points)):\n",
    "            sum += self.weights[i]*f(self.points[i])\n",
    "        return sum\n",
    "\n",
    "s = Trapezoidal()\n",
    "v = s.eval(lambda x: 2.0 + math.sin(2.0 * math.sqrt(x)))\n",
    "\n",
    "print v\n",
    "  "
   ]
  },
  {
   "cell_type": "code",
   "execution_count": 4,
   "metadata": {
    "collapsed": true
   },
   "outputs": [],
   "source": [
    "class TransFunc:\n",
    "    def __init__(self, f, h):\n",
    "        self.f = f;  self.h = h\n",
    "\n",
    "    def coor_mapping(self, xi):\n",
    "        \"\"\"Map local xi in (-1,1) in interval j to global x.\"\"\"\n",
    "        return (self.j-0.5)*self.h + 0.5*self.h*xi\n",
    "\n",
    "    def __call__(self, xi):\n",
    "        x = self.coor_mapping(xi)\n",
    "        return self.f(x)\n",
    "        \n",
    "\n",
    "def integrate(integrator, a, b, f, n):\n",
    "    # integrator is an instance of a subclass of Integrator\n",
    "    sum = 0.0\n",
    "    h = (b-a)/float(n)\n",
    "    g = TransFunc(f, h)\n",
    "    for j in range(1, n+1):\n",
    "        g.j = j\n",
    "        sum += integrator.eval(g)\n",
    "    return 0.5*h*sum "
   ]
  },
  {
   "cell_type": "code",
   "execution_count": null,
   "metadata": {
    "collapsed": true
   },
   "outputs": [],
   "source": []
  }
 ],
 "metadata": {
  "kernelspec": {
   "display_name": "Python 2",
   "language": "python",
   "name": "python2"
  },
  "language_info": {
   "codemirror_mode": {
    "name": "ipython",
    "version": 2
   },
   "file_extension": ".py",
   "mimetype": "text/x-python",
   "name": "python",
   "nbconvert_exporter": "python",
   "pygments_lexer": "ipython2",
   "version": "2.7.12"
  }
 },
 "nbformat": 4,
 "nbformat_minor": 2
}

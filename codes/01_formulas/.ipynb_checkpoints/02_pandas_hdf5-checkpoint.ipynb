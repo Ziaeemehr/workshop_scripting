{
 "cells": [
  {
   "cell_type": "markdown",
   "metadata": {},
   "source": [
    "# Input/Output"
   ]
  },
  {
   "cell_type": "markdown",
   "metadata": {},
   "source": [
    "## Pandas, Hdf5"
   ]
  },
  {
   "cell_type": "raw",
   "metadata": {},
   "source": [
    "Pandas (high-level data structures) https://pandas.pydata.org/pandas-docs/stable/tutorials.html\n",
    "HDF5 (data model, library, and file format for storing and managing data) https://support.hdfgroup.org/HDF5/"
   ]
  },
  {
   "cell_type": "markdown",
   "metadata": {},
   "source": [
    "## Pandas"
   ]
  },
  {
   "cell_type": "raw",
   "metadata": {},
   "source": [
    "Pandas is an open-source, BSD-licensed Python library providing high-performance, easy-to-use data structures and data analysis tools for the Python programming language. "
   ]
  },
  {
   "cell_type": "code",
   "execution_count": 5,
   "metadata": {},
   "outputs": [],
   "source": [
    "from pandas import DataFrame, read_csv\n",
    "import matplotlib.pyplot as plt\n",
    "import pandas as pd \n",
    "import numpy as np\n",
    "%matplotlib inline"
   ]
  },
  {
   "cell_type": "code",
   "execution_count": 6,
   "metadata": {},
   "outputs": [
    {
     "name": "stdout",
     "output_type": "stream",
     "text": [
      "   Names  Highscore  Unnamed: 2\n",
      "0    Mel          8         NaN\n",
      "1   Jack          5         NaN\n",
      "2  David          3         NaN\n",
      "3  Peter          6         NaN\n",
      "4  Maria          5         NaN\n",
      "5   Ryan          9         NaN\n"
     ]
    }
   ],
   "source": [
    "file = r'highscore.csv'\n",
    "df = pd.read_csv(file)\n",
    "print(df)"
   ]
  },
  {
   "cell_type": "code",
   "execution_count": 7,
   "metadata": {},
   "outputs": [
    {
     "name": "stdout",
     "output_type": "stream",
     "text": [
      "Max 9\n",
      "Min 3\n"
     ]
    }
   ],
   "source": [
    "print'Max', df['Highscore'].max()\n",
    "print'Min', df['Highscore'].min()"
   ]
  },
  {
   "cell_type": "code",
   "execution_count": 8,
   "metadata": {},
   "outputs": [
    {
     "name": "stdout",
     "output_type": "stream",
     "text": [
      "   A          B  C  D      E    F\n",
      "0  1 2013-01-02  1  3   test  foo\n",
      "1  1 2013-01-02  1  3  train  foo\n",
      "2  1 2013-01-02  1  3   test  foo\n",
      "3  1 2013-01-02  1  3  train  foo\n",
      "A           float64\n",
      "B    datetime64[ns]\n",
      "C           float32\n",
      "D             int32\n",
      "E          category\n",
      "F            object\n",
      "dtype: object\n",
      "       A  C  D\n",
      "count  4  4  4\n",
      "mean   1  1  3\n",
      "std    0  0  0\n",
      "min    1  1  3\n",
      "25%    1  1  3\n",
      "50%    1  1  3\n",
      "75%    1  1  3\n",
      "max    1  1  3\n"
     ]
    }
   ],
   "source": [
    "df2 = pd.DataFrame({ 'A' : 1.,\n",
    "                     'B' : pd.Timestamp('20130102'),\n",
    "                     'C' : pd.Series(1,index=list(range(4)),dtype='float32'),\n",
    "                     'D' : np.array([3] * 4,dtype='int32'),\n",
    "                     'E' : pd.Categorical([\"test\",\"train\",\"test\",\"train\"]),\n",
    "                     'F' : 'foo' })\n",
    "\n",
    "print df2\n",
    "print df2.dtypes\n",
    "print df2.describe()\n"
   ]
  },
  {
   "cell_type": "code",
   "execution_count": 9,
   "metadata": {},
   "outputs": [],
   "source": [
    "df2.to_csv('foo.csv')"
   ]
  },
  {
   "cell_type": "markdown",
   "metadata": {},
   "source": [
    "## HDF5"
   ]
  },
  {
   "cell_type": "code",
   "execution_count": 10,
   "metadata": {},
   "outputs": [],
   "source": [
    "import h5py\n",
    "from timeit import timeit\n",
    "from time import time\n",
    "# https://www.youtube.com/watch?v=OqoLv1TCR9w&list=PLea0WJq13cnB_ORdGzEkPlZEN20TSt6Lx&index=5\n",
    "# http://docs.h5py.org/en/latest/quick.html"
   ]
  },
  {
   "cell_type": "code",
   "execution_count": 20,
   "metadata": {},
   "outputs": [
    {
     "name": "stdout",
     "output_type": "stream",
     "text": [
      "0.0113561153412\n",
      "0.912786960602\n"
     ]
    }
   ],
   "source": [
    "\n",
    "matrix1 = np.random.random(size = (1000,1000))\n",
    "\n",
    "start = time()\n",
    "hdf = h5py.File('./hdf5_data.h5', 'w')\n",
    "hdf.create_dataset('dataset1', data=matrix1)\n",
    "hdf.close()\n",
    "print time()-start\n",
    "\n",
    "start = time()\n",
    "np.savetxt('data.txt', matrix1, fmt='%20.16f')\n",
    "print time()-start"
   ]
  },
  {
   "cell_type": "code",
   "execution_count": 21,
   "metadata": {},
   "outputs": [
    {
     "name": "stdout",
     "output_type": "stream",
     "text": [
      "List of datasets in this file: \n",
      "[u'dataset1']\n",
      "Shape of dataset1 (1000, 1000)\n"
     ]
    }
   ],
   "source": [
    "hdf = h5py.File('hdf5_data.h5','r')\n",
    "ls = list(hdf.keys())\n",
    "print \"List of datasets in this file: \\n\", ls\n",
    "data = hdf.get('dataset1')\n",
    "dataset1 = np.array(data)\n",
    "print 'Shape of dataset1', dataset1.shape"
   ]
  },
  {
   "cell_type": "code",
   "execution_count": null,
   "metadata": {},
   "outputs": [],
   "source": []
  }
 ],
 "metadata": {
  "kernelspec": {
   "display_name": "Python 2",
   "language": "python",
   "name": "python2"
  },
  "language_info": {
   "codemirror_mode": {
    "name": "ipython",
    "version": 2
   },
   "file_extension": ".py",
   "mimetype": "text/x-python",
   "name": "python",
   "nbconvert_exporter": "python",
   "pygments_lexer": "ipython2",
   "version": "2.7.12"
  }
 },
 "nbformat": 4,
 "nbformat_minor": 2
}

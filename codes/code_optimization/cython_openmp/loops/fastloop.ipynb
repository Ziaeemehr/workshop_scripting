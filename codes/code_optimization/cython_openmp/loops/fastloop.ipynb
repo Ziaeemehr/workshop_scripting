{
 "cells": [
  {
   "cell_type": "code",
   "execution_count": 1,
   "metadata": {
    "collapsed": true
   },
   "outputs": [],
   "source": [
    "from math import exp\n",
    "import numpy as np\n",
    "\n",
    "def rbf_network(X, beta, theta):\n",
    "\n",
    "    N = X.shape[0]\n",
    "    D = X.shape[1]\n",
    "    Y = np.zeros(N)\n",
    "\n",
    "    for i in range(N):\n",
    "        for j in range(N):\n",
    "            r = 0\n",
    "            for d in range(D):\n",
    "                r += (X[j, d] - X[i, d]) ** 2\n",
    "            r = r**0.5\n",
    "            Y[i] += beta[j] * exp(-(r * theta)**2)\n",
    "\n",
    "    return Y"
   ]
  },
  {
   "cell_type": "code",
   "execution_count": 2,
   "metadata": {
    "collapsed": true
   },
   "outputs": [],
   "source": [
    "import numpy as np\n",
    "D = 5\n",
    "N = 1000\n",
    "X = np.array([np.random.rand(N) for d in range(D)]).T\n",
    "beta = np.random.rand(N)\n",
    "theta = 10"
   ]
  },
  {
   "cell_type": "code",
   "execution_count": 3,
   "metadata": {
    "collapsed": false
   },
   "outputs": [
    {
     "name": "stdout",
     "output_type": "stream",
     "text": [
      "1 loop, best of 3: 8.04 s per loop\n"
     ]
    }
   ],
   "source": [
    "%timeit rbf_network(X,beta,theta)"
   ]
  },
  {
   "cell_type": "code",
   "execution_count": 4,
   "metadata": {
    "collapsed": true
   },
   "outputs": [],
   "source": [
    "from scipy.interpolate import Rbf\n",
    "rbf = Rbf(X[:,0], X[:,1], X[:,2], X[:,3], X[:, 4], np.random.rand(N))\n",
    "Xtuple = tuple([X[:, i] for i in range(D)])"
   ]
  },
  {
   "cell_type": "code",
   "execution_count": 6,
   "metadata": {
    "collapsed": false
   },
   "outputs": [
    {
     "name": "stdout",
     "output_type": "stream",
     "text": [
      "1 loop, best of 3: 881 ms per loop\n"
     ]
    }
   ],
   "source": [
    "%timeit rbf(Xtuple)"
   ]
  },
  {
   "cell_type": "code",
   "execution_count": null,
   "metadata": {
    "collapsed": true
   },
   "outputs": [],
   "source": []
  }
 ],
 "metadata": {
  "kernelspec": {
   "display_name": "Python 2",
   "language": "python",
   "name": "python2"
  },
  "language_info": {
   "codemirror_mode": {
    "name": "ipython",
    "version": 2
   },
   "file_extension": ".py",
   "mimetype": "text/x-python",
   "name": "python",
   "nbconvert_exporter": "python",
   "pygments_lexer": "ipython2",
   "version": "2.7.12"
  }
 },
 "nbformat": 4,
 "nbformat_minor": 2
}

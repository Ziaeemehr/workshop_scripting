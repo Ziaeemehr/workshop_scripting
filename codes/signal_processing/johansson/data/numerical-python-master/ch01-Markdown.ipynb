{
 "cells": [
  {
   "cell_type": "markdown",
   "metadata": {},
   "source": [
    "# IPython notebook Markdown summary"
   ]
  },
  {
   "cell_type": "markdown",
   "metadata": {},
   "source": [
    "Robert Johansson\n",
    "\n",
    "Source code listings for [Numerical Python - A Practical Techniques Approach for Industry](http://www.apress.com/9781484205549) (ISBN 978-1-484205-54-9).\n",
    "\n",
    "The source code listings can be downloaded from http://www.apress.com/9781484205549"
   ]
  },
  {
   "cell_type": "markdown",
   "metadata": {},
   "source": [
    "Test notebook for Markdown table in Chapter 1."
   ]
  },
  {
   "cell_type": "markdown",
   "metadata": {},
   "source": [
    "## Italics"
   ]
  },
  {
   "cell_type": "markdown",
   "metadata": {},
   "source": [
    "Text that is surrounded by asterisks `*text*` is displayed as italics: *text*"
   ]
  },
  {
   "cell_type": "markdown",
   "metadata": {},
   "source": [
    "## Bold"
   ]
  },
  {
   "cell_type": "markdown",
   "metadata": {},
   "source": [
    "Text that is surrounded by double asterisks `**text**` is displayed as bold: **text**"
   ]
  },
  {
   "cell_type": "markdown",
   "metadata": {},
   "source": [
    "## Strike-through"
   ]
  },
  {
   "cell_type": "markdown",
   "metadata": {},
   "source": [
    "Text that is surrounded by double tidle `~~text~~` is displayed as strike-through: ~~text~~"
   ]
  },
  {
   "cell_type": "markdown",
   "metadata": {},
   "source": [
    "## Fixed-width font"
   ]
  },
  {
   "cell_type": "markdown",
   "metadata": {},
   "source": [
    "Text that is quoted with ` characters are displayed as fixed-width font:\n",
    "\n",
    "`text`"
   ]
  },
  {
   "cell_type": "markdown",
   "metadata": {},
   "source": [
    "## URLs"
   ]
  },
  {
   "cell_type": "markdown",
   "metadata": {},
   "source": [
    "URLs are written as\t`[URL text](http://www.example.com)`: [URL text](http://www.example.com) "
   ]
  },
  {
   "cell_type": "markdown",
   "metadata": {},
   "source": [
    "## New paragraph"
   ]
  },
  {
   "cell_type": "markdown",
   "metadata": {},
   "source": [
    "Separate the text of two paragraphs with an empty line.\n",
    "\n",
    "This is a new paragraph."
   ]
  },
  {
   "cell_type": "markdown",
   "metadata": {},
   "source": [
    "## Verbatim"
   ]
  },
  {
   "cell_type": "markdown",
   "metadata": {},
   "source": [
    "Text that start with four spaces is displayed as verbatim:\n",
    "\n",
    "    def func(x):\n",
    "        return x ** 2"
   ]
  },
  {
   "cell_type": "markdown",
   "metadata": {},
   "source": [
    "## Table"
   ]
  },
  {
   "cell_type": "markdown",
   "metadata": {},
   "source": [
    "The format for tables are as follows:\n",
    "\n",
    "    | A | B | C |\n",
    "    |---|---|---|\n",
    "    | 1 | 2 | 3 |\n",
    "    | 4 | 5 | 6 |\n",
    "\n",
    "| A | B | C |\n",
    "|---|---|---|\n",
    "| 1 | 2 | 3 |\n",
    "| 4 | 5 | 6 |"
   ]
  },
  {
   "cell_type": "markdown",
   "metadata": {},
   "source": [
    "## Horizontal line"
   ]
  },
  {
   "cell_type": "markdown",
   "metadata": {},
   "source": [
    "A line with three dashes `---` is shown as a horizontal line:\n",
    "\n",
    "---"
   ]
  },
  {
   "cell_type": "markdown",
   "metadata": {},
   "source": [
    "## Headings"
   ]
  },
  {
   "cell_type": "markdown",
   "metadata": {},
   "source": [
    "Lines starting with one `#` is a heading level 1, `##` is heading level 2, `###` is heading level 3, etc.\n",
    "\n",
    "# Level 1 heading\n",
    "## Level 2 heading\n",
    "### Level 3 heading"
   ]
  },
  {
   "cell_type": "markdown",
   "metadata": {},
   "source": [
    "## Block quote"
   ]
  },
  {
   "cell_type": "markdown",
   "metadata": {},
   "source": [
    "Lines that start with `>` are displayed as a block quote:\n",
    "\n",
    "> Text here is indented and offset\n",
    "> from the main text body."
   ]
  },
  {
   "cell_type": "markdown",
   "metadata": {},
   "source": [
    "## Unordered list"
   ]
  },
  {
   "cell_type": "markdown",
   "metadata": {},
   "source": [
    "Unordered lists are created by starting lines with `*`\n",
    "\n",
    "* Item one\n",
    "* Item two\n",
    "* Item three"
   ]
  },
  {
   "cell_type": "markdown",
   "metadata": {},
   "source": [
    "## Ordered list"
   ]
  },
  {
   "cell_type": "markdown",
   "metadata": {},
   "source": [
    "Ordered lists are created by simply enumerating lines with numbers followed a period: 1. ..., 2. ..., etc.\n",
    "1. Item one\n",
    "2. Item two\n",
    "3. Item three"
   ]
  },
  {
   "cell_type": "markdown",
   "metadata": {},
   "source": [
    "## Image"
   ]
  },
  {
   "cell_type": "markdown",
   "metadata": {},
   "source": [
    "Images can be included using `![Alternative text](image-file.png)` or `![Alternative text](http://www.example.com/image.png)`:\n",
    "\n",
    "![Alternative text](image-file.png)\n",
    "\n",
    "![Alternative text](http://www.example.com/image.png)"
   ]
  },
  {
   "cell_type": "markdown",
   "metadata": {},
   "source": [
    "## LaTeX"
   ]
  },
  {
   "cell_type": "markdown",
   "metadata": {},
   "source": [
    "Inline LaTeX equations can be included using `$\\LaTeX$`: $\\LaTeX$\n",
    "\n",
    "Displayed LaTeX equations (centered, and on a new line): `$$\\LaTeX$$`\n",
    "\n",
    "$$\\LaTeX$$ \n",
    "\n",
    "It is also possible to use latex environments like equation, eqnarray, align:\n",
    "\n",
    "`\\begin{equation} x = 1 \\end{equation}`\n",
    "\n",
    "\\begin{equation} x = 1 \\end{equation}\n",
    "\n",
    "`\\begin{eqnarray} x = 2 \\end{eqnarray}`\n",
    "\n",
    "\\begin{eqnarray} x = 2 \\end{eqnarray}\n",
    "\n",
    "`\\begin{align} x = 3 \\end{align}`\n",
    "\n",
    "\\begin{align} x = 3 \\end{align}\n"
   ]
  },
  {
   "cell_type": "markdown",
   "metadata": {},
   "source": [
    "## Versions"
   ]
  },
  {
   "cell_type": "code",
   "execution_count": 1,
   "metadata": {
    "collapsed": false
   },
   "outputs": [],
   "source": [
    "%reload_ext version_information"
   ]
  },
  {
   "cell_type": "code",
   "execution_count": 2,
   "metadata": {
    "collapsed": false
   },
   "outputs": [
    {
     "data": {
      "application/json": {
       "Software versions": [
        {
         "module": "Python",
         "version": "2.7.10 64bit [GCC 4.2.1 (Apple Inc. build 5577)]"
        },
        {
         "module": "IPython",
         "version": "4.0.0"
        },
        {
         "module": "OS",
         "version": "Darwin 14.5.0 x86_64 i386 64bit"
        }
       ]
      },
      "text/html": [
       "<table><tr><th>Software</th><th>Version</th></tr><tr><td>Python</td><td>2.7.10 64bit [GCC 4.2.1 (Apple Inc. build 5577)]</td></tr><tr><td>IPython</td><td>4.0.0</td></tr><tr><td>OS</td><td>Darwin 14.5.0 x86_64 i386 64bit</td></tr></table>"
      ],
      "text/latex": [
       "\\begin{tabular}{|l|l|}\\hline\n",
       "{\\bf Software} & {\\bf Version} \\\\ \\hline\\hline\n",
       "Python & 2.7.10 64bit [GCC 4.2.1 (Apple Inc. build 5577)] \\\\ \\hline\n",
       "IPython & 4.0.0 \\\\ \\hline\n",
       "OS & Darwin 14.5.0 x86\\_64 i386 64bit \\\\ \\hline\n",
       "\\end{tabular}\n"
      ],
      "text/plain": [
       "Software versions\n",
       "Python 2.7.10 64bit [GCC 4.2.1 (Apple Inc. build 5577)]\n",
       "IPython 4.0.0\n",
       "OS Darwin 14.5.0 x86_64 i386 64bit\n"
      ]
     },
     "execution_count": 2,
     "metadata": {},
     "output_type": "execute_result"
    }
   ],
   "source": [
    "%version_information"
   ]
  }
 ],
 "metadata": {
  "kernelspec": {
   "display_name": "Python 2",
   "language": "python",
   "name": "python2"
  },
  "language_info": {
   "codemirror_mode": {
    "name": "ipython",
    "version": 2
   },
   "file_extension": ".py",
   "mimetype": "text/x-python",
   "name": "python",
   "nbconvert_exporter": "python",
   "pygments_lexer": "ipython2",
   "version": "2.7.10"
  }
 },
 "nbformat": 4,
 "nbformat_minor": 0
}

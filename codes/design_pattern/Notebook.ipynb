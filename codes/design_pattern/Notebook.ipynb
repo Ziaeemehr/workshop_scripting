{
 "cells": [
  {
   "attachments": {},
   "cell_type": "markdown",
   "metadata": {},
   "source": [
    "Getting Started with Design Patterns in Python\n",
    "==============================================\n",
    "A Practical Tutorial\n",
    "By: Waleed Mousa"
   ]
  },
  {
   "attachments": {},
   "cell_type": "markdown",
   "metadata": {},
   "source": [
    "## Creational Patterns"
   ]
  },
  {
   "attachments": {},
   "cell_type": "markdown",
   "metadata": {},
   "source": [
    "1. Singleton Pattern\n",
    "\n",
    "The Singleton pattern ensures that only one instance of a class is created and provides a global\n",
    "point of access to that instance. The Singleton pattern is useful when we need to ensure that there\n",
    "is only one instance of a class, such as a database connection.\n",
    "To implement the Singleton pattern in Python, we can use a metaclass. Here’s an example:"
   ]
  },
  {
   "cell_type": "code",
   "execution_count": 8,
   "metadata": {},
   "outputs": [
    {
     "name": "stdout",
     "output_type": "stream",
     "text": [
      "True\n"
     ]
    }
   ],
   "source": [
    "class Singleton(type):\n",
    "    _instances = {}\n",
    "    def __call__(cls, *args, **kwargs):\n",
    "        if cls not in cls._instances:\n",
    "            cls._instances[cls] = super().__call__(*args, **kwargs)\n",
    "        return cls._instances[cls]\n",
    "    \n",
    "class MyClass(metaclass=Singleton):\n",
    "    pass\n",
    "\n",
    "a1 = MyClass()\n",
    "a2 = MyClass()\n",
    "print(a1 is a2)"
   ]
  },
  {
   "attachments": {},
   "cell_type": "markdown",
   "metadata": {},
   "source": [
    "In this example, we define a metaclass called Singleton that keeps track of instances of classes that\n",
    "use it. We then define a class called MyClass that uses the Singleton metaclass. When we create an\n",
    "instance of MyClass, the Singleton metaclass ensures that only one instance of MyClass is created."
   ]
  },
  {
   "attachments": {},
   "cell_type": "markdown",
   "metadata": {},
   "source": [
    "2. Factory Pattern\n",
    "\n",
    "The Factory pattern is used to create objects without specifying the exact class of object that will\n",
    "be created. This pattern is useful when we need to create many objects of different classes that all\n",
    "share a common interface.\n",
    "To implement the Factory pattern in Python, we can define a class that creates objects based on a\n",
    "string argument. Here’s an example:"
   ]
  },
  {
   "cell_type": "code",
   "execution_count": 7,
   "metadata": {},
   "outputs": [
    {
     "name": "stdout",
     "output_type": "stream",
     "text": [
      "Woof!\n",
      "Meow!\n"
     ]
    }
   ],
   "source": [
    "class Dog:\n",
    "    def speak(self):\n",
    "        return \"Woof!\"\n",
    "    \n",
    "class Cat:\n",
    "    def speak(self):\n",
    "        return \"Meow!\"\n",
    "\n",
    "def get_pet(pet=\"dog\"):\n",
    "    \"\"\"The factory method\"\"\"\n",
    "    pets = dict(dog=Dog(), cat=Cat())\n",
    "    return pets[pet]\n",
    "\n",
    "d = get_pet(\"dog\")\n",
    "print(d.speak())\n",
    "c = get_pet(\"cat\")\n",
    "print(c.speak())"
   ]
  },
  {
   "attachments": {},
   "cell_type": "markdown",
   "metadata": {},
   "source": [
    "In this example, we define two classes, Dog and Cat, that both have a method called `speak()`. We\n",
    "then define a function called `get_pet()` that returns an instance of either the Dog or Cat class based\n",
    "on the string argument passed to it."
   ]
  },
  {
   "attachments": {},
   "cell_type": "markdown",
   "metadata": {},
   "source": [
    "3. Abstract Factory Pattern\n",
    "\n",
    "The Abstract Factory pattern provides an interface for creating families of related objects without\n",
    "specifying their concrete classes. This pattern is useful when we need to create objects that are\n",
    "related, but not necessarily of the same type.\n",
    "To implement the Abstract Factory pattern in Python, we can define a factory class that has\n",
    "methods for creating different types of objects. Here’s an example:"
   ]
  },
  {
   "cell_type": "code",
   "execution_count": 6,
   "metadata": {},
   "outputs": [
    {
     "name": "stdout",
     "output_type": "stream",
     "text": [
      "Woof!\n",
      "Dog Food!\n",
      "Meow!\n",
      "Cat Food!\n"
     ]
    }
   ],
   "source": [
    "class Dog:\n",
    "    def speak(self):\n",
    "        return \"Woof!\"\n",
    "class Cat:\n",
    "    def speak(self):\n",
    "        return \"Meow!\"\n",
    "\n",
    "class DogFactory:\n",
    "    def create_pet(self):\n",
    "        return Dog()\n",
    "    def create_food(self):\n",
    "        return \"Dog Food!\"\n",
    "\n",
    "class CatFactory:\n",
    "    def create_pet(self):\n",
    "        return Cat()\n",
    "    def create_food(self):\n",
    "        return \"Cat Food!\"\n",
    "\n",
    "def get_factory(pet=\"dog\"):\n",
    "    \"\"\"The factory method\"\"\"\n",
    "    factories = dict(dog=DogFactory(), cat=CatFactory())\n",
    "    return factories[pet]\n",
    "\n",
    "factory = get_factory(\"dog\")\n",
    "pet = factory.create_pet()\n",
    "food = factory.create_food()\n",
    "print(pet.speak())\n",
    "print(food)\n",
    "\n",
    "factory = get_factory(\"cat\")\n",
    "pet = factory.create_pet()\n",
    "food = factory.create_food()\n",
    "print(pet.speak())\n",
    "print(food)"
   ]
  },
  {
   "attachments": {},
   "cell_type": "markdown",
   "metadata": {},
   "source": [
    "In this example, we define two classes, Dog and Cat, that both have a method called speak(). We\n",
    "then define two factory classes, DogFactory and CatFactory, that have methods for creating pets\n",
    "and food for their respective animals. We then define a function called get_factory() that returns\n",
    "an instance of either the DogFactory or CatFactory based on the string argument passed to it.\n",
    "Finally, we create an instance of the factory and use it to create a pet and food for a dog."
   ]
  },
  {
   "attachments": {},
   "cell_type": "markdown",
   "metadata": {},
   "source": [
    "4. Builder Pattern\n",
    "\n",
    "The Builder pattern separates the construction of a complex object from its representation, allowing\n",
    "the same construction process to create different representations. This pattern is useful when we\n",
    "need to create objects that have multiple parts and can be constructed in different ways.\n",
    "To implement the Builder pattern in Python, we can define a class that has methods for building\n",
    "different parts of an object, and a separate director class that uses the builder to construct the\n",
    "object. Here’s an example:"
   ]
  },
  {
   "cell_type": "code",
   "execution_count": 5,
   "metadata": {},
   "outputs": [
    {
     "name": "stdout",
     "output_type": "stream",
     "text": [
      "V8, Michelin, Garmin\n"
     ]
    }
   ],
   "source": [
    "class Car:\n",
    "    def __init__(self):\n",
    "        self.engine = None\n",
    "        self.tires = None\n",
    "        self.gps = None\n",
    "    def __str__(self) -> str:\n",
    "        return f\"{self.engine}, {self.tires}, {self.gps}\"\n",
    "    \n",
    "class Builder:\n",
    "    def build_engine(self):\n",
    "        pass\n",
    "    def build_tires(self):\n",
    "        pass\n",
    "    def build_gps(self):\n",
    "        pass\n",
    "    def get_result(self):\n",
    "        pass\n",
    "\n",
    "class Director:\n",
    "    def __init__(self, builder):\n",
    "        self.builder = builder\n",
    "\n",
    "    def construct_car(self):\n",
    "        self.builder.build_engine()\n",
    "        self.builder.build_tires()\n",
    "        self.builder.build_gps()\n",
    "    def get_car(self):\n",
    "        return self.builder.get_result()\n",
    "\n",
    "class CarBuilder(Builder):\n",
    "    def __init__(self):\n",
    "        self.car = Car()\n",
    "    def build_engine(self):\n",
    "        self.car.engine = \"V8\"\n",
    "    def build_tires(self):\n",
    "        self.car.tires = \"Michelin\"\n",
    "    def build_gps(self):\n",
    "        self.car.gps = \"Garmin\"\n",
    "    def get_result(self):\n",
    "        return self.car\n",
    "\n",
    "builder = CarBuilder()\n",
    "director = Director(builder)\n",
    "director.construct_car()\n",
    "car = director.get_car()\n",
    "print(car)\n"
   ]
  },
  {
   "attachments": {},
   "cell_type": "markdown",
   "metadata": {},
   "source": [
    "In this example, we define a Car class that has three parts: an engine, tires, and GPS. We then\n",
    "define a Builder class that has methods for building each part, and a Director class that uses the\n",
    "builder to construct the car. Finally, we define a CarBuilder class that implements the Builder\n",
    "interface and provides methods for building each part of the car. We then create an instance of the\n",
    "CarBuilder and use it to construct a car."
   ]
  },
  {
   "attachments": {},
   "cell_type": "markdown",
   "metadata": {},
   "source": [
    "5. Prototype Pattern\n",
    "\n",
    "The Prototype pattern allows us to create new objects by cloning existing ones, rather than creating\n",
    "them from scratch. This pattern is useful when creating new objects is expensive or complex.\n",
    "To implement the Prototype pattern in Python, we can define a prototype class that has a clone()\n",
    "method that creates a new object with the same properties as the original. Here’s an example:"
   ]
  },
  {
   "cell_type": "code",
   "execution_count": 9,
   "metadata": {},
   "outputs": [
    {
     "name": "stdout",
     "output_type": "stream",
     "text": [
      "V8, Michelin, Garmin\n"
     ]
    }
   ],
   "source": [
    "import copy\n",
    "\n",
    "class Prototype:\n",
    "    def clone(self):\n",
    "        return copy.deepcopy(self)\n",
    "    \n",
    "class Car(Prototype):\n",
    "    def __init__(self):\n",
    "        self.engine = None\n",
    "        self.tires = None\n",
    "        self.gps = None\n",
    "    def __str__(self) -> str:\n",
    "        return f\"{self.engine}, {self.tires}, {self.gps}\"\n",
    "    \n",
    "car = Car()\n",
    "car.engine = \"V8\"\n",
    "car.tires = \"Michelin\"\n",
    "car.gps = \"Garmin\"\n",
    "\n",
    "new_car = car.clone()\n",
    "print(new_car)\n"
   ]
  },
  {
   "attachments": {},
   "cell_type": "markdown",
   "metadata": {},
   "source": [
    "In this example, we define a Prototype class that has a clone() method that creates a new object\n",
    "using the deepcopy() function from the copy module. We then define a Car class that inherits from\n",
    "Prototype and has three parts: an engine, tires, and GPS. We create an instance of the Car class\n",
    "and set its properties, and then use the clone() method to create a new Car object with the same\n",
    "properties."
   ]
  },
  {
   "attachments": {},
   "cell_type": "markdown",
   "metadata": {},
   "source": [
    "## Structural Patterns\n",
    "\n",
    "Structural patterns are used to organize and structure classes and objects in a way that is flexible\n",
    "and easy to maintain. There are seven structural patterns:"
   ]
  },
  {
   "attachments": {},
   "cell_type": "markdown",
   "metadata": {},
   "source": [
    "1. Adapter Pattern\n",
    "\n",
    "The Adapter pattern converts the interface of a class into another interface that clients expect.\n",
    "This pattern is useful when we need to use a class that has a different interface than what our code\n",
    "expects. To implement the Adapter pattern in Python, we can define a class that adapts the interface of\n",
    "one class to another. Here’s an example:"
   ]
  },
  {
   "cell_type": "code",
   "execution_count": null,
   "metadata": {},
   "outputs": [],
   "source": []
  }
 ],
 "metadata": {
  "kernelspec": {
   "display_name": "adaptive_sync",
   "language": "python",
   "name": "python3"
  },
  "language_info": {
   "codemirror_mode": {
    "name": "ipython",
    "version": 3
   },
   "file_extension": ".py",
   "mimetype": "text/x-python",
   "name": "python",
   "nbconvert_exporter": "python",
   "pygments_lexer": "ipython3",
   "version": "3.8.13"
  },
  "orig_nbformat": 4
 },
 "nbformat": 4,
 "nbformat_minor": 2
}

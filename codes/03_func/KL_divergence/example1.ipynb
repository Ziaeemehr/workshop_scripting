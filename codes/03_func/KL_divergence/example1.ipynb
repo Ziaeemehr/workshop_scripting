{
 "cells": [
  {
   "cell_type": "markdown",
   "metadata": {},
   "source": [
    "- [How to Calculate KL Divergence in Python](https://www.statology.org/kl-divergence-python/#:~:text=In%20statistics%2C%20the%20Kullback%E2%80%93Leibler,%E2%80%9CP's%20divergence%20from%20Q.%E2%80%9D)"
   ]
  },
  {
   "cell_type": "code",
   "execution_count": 1,
   "metadata": {},
   "outputs": [],
   "source": [
    "from scipy.special import rel_entr\n",
    "import numpy as np"
   ]
  },
  {
   "cell_type": "code",
   "execution_count": 2,
   "metadata": {},
   "outputs": [],
   "source": [
    "def natstobits(n):\n",
    "    \"\"\"\n",
    "    Convert nats to bits\n",
    "    \"\"\"\n",
    "    return np.log2(np.e) * n"
   ]
  },
  {
   "cell_type": "code",
   "execution_count": 3,
   "metadata": {},
   "outputs": [
    {
     "name": "stdout",
     "output_type": "stream",
     "text": [
      "0.589885181619163 nats = 0.8510244262158521 bits\n"
     ]
    }
   ],
   "source": [
    "#define two probability distributions\n",
    "P = [.05, .1, .2, .05, .15, .25, .08, .12]\n",
    "Q = [.3, .1, .2, .1, .1, .02, .08, .1]\n",
    "\n",
    "\n",
    "#calculate (P || Q)\n",
    "x = sum(rel_entr(P, Q))\n",
    "print(\"{} nats = {} bits\".format(x, natstobits(x)))\n",
    "\n",
    "# 0.589885181619163 nats"
   ]
  },
  {
   "cell_type": "markdown",
   "metadata": {},
   "source": [
    "Also note that the KL divergence is not a symmetric metric"
   ]
  },
  {
   "cell_type": "code",
   "execution_count": 4,
   "metadata": {},
   "outputs": [
    {
     "name": "stdout",
     "output_type": "stream",
     "text": [
      "0.497549319448034 nats = 0.7178119357653573 bits\n"
     ]
    }
   ],
   "source": [
    "x = sum(rel_entr(Q, P))\n",
    "print(\"{} nats = {} bits\".format(x, natstobits(x)))\n",
    "\n",
    "# 0.497549319448034 nats"
   ]
  },
  {
   "cell_type": "code",
   "execution_count": 5,
   "metadata": {},
   "outputs": [
    {
     "name": "stdout",
     "output_type": "stream",
     "text": [
      "tensor(0.5899) tensor(0.5899) tensor(0.4975)\n"
     ]
    }
   ],
   "source": [
    "import torch\n",
    "import torch.nn.functional as F\n",
    "\n",
    "Pt = torch.tensor(P)\n",
    "Qt = torch.tensor(Q)\n",
    "out0 = (Pt * (Pt / Qt).log()).sum()\n",
    "out1 = F.kl_div(Qt.log(), Pt, None, None, 'sum')\n",
    "out2 = F.kl_div(Pt.log(), Qt, None, None, 'sum')\n",
    "\n",
    "print(out0, out1, out2)"
   ]
  },
  {
   "cell_type": "code",
   "execution_count": 6,
   "metadata": {},
   "outputs": [
    {
     "data": {
      "text/plain": [
       "0.589885181619163"
      ]
     },
     "execution_count": 6,
     "metadata": {},
     "output_type": "execute_result"
    }
   ],
   "source": [
    "Pr = np.array(P)\n",
    "Qr = np.array(Q)\n",
    "(Pr * np.log(Pr / Qr)).sum()"
   ]
  },
  {
   "cell_type": "code",
   "execution_count": 7,
   "metadata": {},
   "outputs": [
    {
     "data": {
      "text/plain": [
       "tensor([[ 1.0000, -0.3855],\n",
       "        [-0.3855,  1.0000]])"
      ]
     },
     "execution_count": 7,
     "metadata": {},
     "output_type": "execute_result"
    }
   ],
   "source": [
    "# correlation between P and Q\n",
    "torch.corrcoef(torch.stack([Pt, Qt]))"
   ]
  },
  {
   "cell_type": "markdown",
   "metadata": {},
   "source": [
    "- Kolmogorov-Smirnov test "
   ]
  },
  {
   "cell_type": "code",
   "execution_count": 14,
   "metadata": {},
   "outputs": [
    {
     "data": {
      "text/plain": [
       "(0.25, 0.25)"
      ]
     },
     "execution_count": 14,
     "metadata": {},
     "output_type": "execute_result"
    }
   ],
   "source": [
    "from scipy import stats\n",
    "\n",
    "stats.kstest(Pr, Qr)[0], stats.kstest(Qr, Pr)[0]"
   ]
  },
  {
   "cell_type": "code",
   "execution_count": null,
   "metadata": {},
   "outputs": [],
   "source": []
  }
 ],
 "metadata": {
  "kernelspec": {
   "display_name": "Python 3.9.7 ('sbinmmsdev')",
   "language": "python",
   "name": "python3"
  },
  "language_info": {
   "codemirror_mode": {
    "name": "ipython",
    "version": 3
   },
   "file_extension": ".py",
   "mimetype": "text/x-python",
   "name": "python",
   "nbconvert_exporter": "python",
   "pygments_lexer": "ipython3",
   "version": "3.9.7"
  },
  "orig_nbformat": 4,
  "vscode": {
   "interpreter": {
    "hash": "e8aa551332a282c2d8e778371ca6666d58e68a3e281513064edc0e1577bea52a"
   }
  }
 },
 "nbformat": 4,
 "nbformat_minor": 2
}

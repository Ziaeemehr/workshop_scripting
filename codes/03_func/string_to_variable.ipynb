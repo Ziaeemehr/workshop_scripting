{
 "cells": [
  {
   "cell_type": "markdown",
   "metadata": {},
   "source": [
    "- [3 Ways to Convert String to Variable Name in Python](https://www.pythonpool.com/python-string-to-variable-name/)"
   ]
  },
  {
   "cell_type": "code",
   "execution_count": 1,
   "metadata": {},
   "outputs": [
    {
     "name": "stdout",
     "output_type": "stream",
     "text": [
      "output :  5000\n"
     ]
    }
   ],
   "source": [
    "#input String\n",
    "str = \"pythonpool\"\n",
    " \n",
    "#apply exec() method\n",
    "exec(\"%s = %d\" % (str,5000))\n",
    " \n",
    "#print string\n",
    "print(\"output : \", pythonpool) "
   ]
  },
  {
   "cell_type": "code",
   "execution_count": 2,
   "metadata": {},
   "outputs": [
    {
     "name": "stdout",
     "output_type": "stream",
     "text": [
      "5000\n"
     ]
    }
   ],
   "source": [
    "#taking input as a string\n",
    "str = \"pythonpool\"\n",
    " \n",
    "locals()[str] = 5000\n",
    "print(pythonpool)"
   ]
  },
  {
   "cell_type": "code",
   "execution_count": 3,
   "metadata": {},
   "outputs": [
    {
     "name": "stdout",
     "output_type": "stream",
     "text": [
      "5000\n"
     ]
    }
   ],
   "source": [
    "#taking input as a string\n",
    "str = \"pythonpool\"\n",
    " \n",
    "globals()[str] = 5000\n",
    "print(pythonpool)"
   ]
  },
  {
   "cell_type": "code",
   "execution_count": null,
   "metadata": {},
   "outputs": [],
   "source": []
  }
 ],
 "metadata": {
  "interpreter": {
   "hash": "08b9f2e5dd807b28a275353f411c448c6b9add6cfc06b23776fed090f5c44a65"
  },
  "kernelspec": {
   "display_name": "Python 3.9.7 ('sbi')",
   "language": "python",
   "name": "python3"
  },
  "language_info": {
   "codemirror_mode": {
    "name": "ipython",
    "version": 3
   },
   "file_extension": ".py",
   "mimetype": "text/x-python",
   "name": "python",
   "nbconvert_exporter": "python",
   "pygments_lexer": "ipython3",
   "version": "3.9.7"
  },
  "orig_nbformat": 4
 },
 "nbformat": 4,
 "nbformat_minor": 2
}

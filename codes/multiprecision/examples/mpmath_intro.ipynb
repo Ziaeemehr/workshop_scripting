{
 "cells": [
  {
   "cell_type": "code",
   "execution_count": 99,
   "id": "mature-mainstream",
   "metadata": {},
   "outputs": [],
   "source": [
    "import mpmath\n",
    "import numpy as np\n",
    "import pandas as pd\n",
    "import pylab as plt\n",
    "from mpmath import mp, mpf\n",
    "from mpmath import sin, cos\n",
    "from mpmath import mpmathify"
   ]
  },
  {
   "cell_type": "code",
   "execution_count": 2,
   "id": "quick-appointment",
   "metadata": {},
   "outputs": [
    {
     "name": "stdout",
     "output_type": "stream",
     "text": [
      "0.841470984807897\n"
     ]
    },
    {
     "data": {
      "text/plain": [
       "mpf('0.54030230586813977')"
      ]
     },
     "execution_count": 2,
     "metadata": {},
     "output_type": "execute_result"
    }
   ],
   "source": [
    "print(sin(1))\n",
    "cos(1)"
   ]
  },
  {
   "cell_type": "code",
   "execution_count": 3,
   "id": "capital-handling",
   "metadata": {},
   "outputs": [
    {
     "data": {
      "text/plain": [
       "mpf('0.8414709848078965')"
      ]
     },
     "execution_count": 3,
     "metadata": {},
     "output_type": "execute_result"
    }
   ],
   "source": [
    "mp.sin(1)"
   ]
  },
  {
   "cell_type": "code",
   "execution_count": 4,
   "id": "stupid-measurement",
   "metadata": {},
   "outputs": [
    {
     "data": {
      "text/plain": [
       "mpf('4.0')"
      ]
     },
     "execution_count": 4,
     "metadata": {},
     "output_type": "execute_result"
    }
   ],
   "source": [
    "mpf(4)"
   ]
  },
  {
   "cell_type": "code",
   "execution_count": 5,
   "id": "convenient-apparatus",
   "metadata": {},
   "outputs": [
    {
     "data": {
      "text/plain": [
       "mpf('2.5')"
      ]
     },
     "execution_count": 5,
     "metadata": {},
     "output_type": "execute_result"
    }
   ],
   "source": [
    "mpf(2.5)"
   ]
  },
  {
   "cell_type": "code",
   "execution_count": 6,
   "id": "grand-burke",
   "metadata": {},
   "outputs": [
    {
     "data": {
      "text/plain": [
       "mpf('1250000.0')"
      ]
     },
     "execution_count": 6,
     "metadata": {},
     "output_type": "execute_result"
    }
   ],
   "source": [
    "mpf(\"1.25e6\")"
   ]
  },
  {
   "cell_type": "code",
   "execution_count": 7,
   "id": "voluntary-wallace",
   "metadata": {},
   "outputs": [
    {
     "data": {
      "text/plain": [
       "mpf('2.0')"
      ]
     },
     "execution_count": 7,
     "metadata": {},
     "output_type": "execute_result"
    }
   ],
   "source": [
    "mpf(mpf(2.0))"
   ]
  },
  {
   "cell_type": "code",
   "execution_count": 8,
   "id": "geological-entity",
   "metadata": {},
   "outputs": [
    {
     "data": {
      "text/plain": [
       "mpf('+inf')"
      ]
     },
     "execution_count": 8,
     "metadata": {},
     "output_type": "execute_result"
    }
   ],
   "source": [
    "mpf(\"inf\")"
   ]
  },
  {
   "cell_type": "code",
   "execution_count": 9,
   "id": "organizational-inspiration",
   "metadata": {},
   "outputs": [
    {
     "data": {
      "text/plain": [
       "mpf('4.0')"
      ]
     },
     "execution_count": 9,
     "metadata": {},
     "output_type": "execute_result"
    }
   ],
   "source": [
    "mpf(3)+1"
   ]
  },
  {
   "cell_type": "code",
   "execution_count": 10,
   "id": "vital-collect",
   "metadata": {},
   "outputs": [
    {
     "name": "stdout",
     "output_type": "stream",
     "text": [
      "Mpmath settings:\n",
      "  mp.prec = 53                [default: 53]\n",
      "  mp.dps = 15                 [default: 15]\n",
      "  mp.trap_complex = False     [default: False]\n"
     ]
    }
   ],
   "source": [
    "mp.dps = 15 # Set precision\n",
    "print(mp)"
   ]
  },
  {
   "cell_type": "code",
   "execution_count": 11,
   "id": "vertical-marking",
   "metadata": {},
   "outputs": [
    {
     "name": "stdout",
     "output_type": "stream",
     "text": [
      "Mpmath settings:\n",
      "  mp.prec = 106               [default: 53]\n",
      "  mp.dps = 31                 [default: 15]\n",
      "  mp.trap_complex = False     [default: False]\n"
     ]
    }
   ],
   "source": [
    "mp.dps = 31 # Set precision\n",
    "print(mp)"
   ]
  },
  {
   "cell_type": "code",
   "execution_count": 12,
   "id": "productive-forwarding",
   "metadata": {},
   "outputs": [
    {
     "name": "stdout",
     "output_type": "stream",
     "text": [
      "0.3333333333\n",
      "0.33333333333333333333\n"
     ]
    }
   ],
   "source": [
    "mp2 = mp.clone()\n",
    "mp.dps=10\n",
    "mp2.dps=20\n",
    "print(mp.mpf(1)/3)\n",
    "print(mp2.mpf(1)/3)"
   ]
  },
  {
   "cell_type": "code",
   "execution_count": 15,
   "id": "confirmed-affect",
   "metadata": {},
   "outputs": [
    {
     "name": "stdout",
     "output_type": "stream",
     "text": [
      "10.9000000000000003552713678801\n",
      "10.9\n",
      "10.9\n"
     ]
    }
   ],
   "source": [
    "mp.dps= 30\n",
    "print(mpf(10.9))           # bad\n",
    "print(mpf(\"10.9\"))         # good\n",
    "print(mpf(109)/mpf(10))    # good"
   ]
  },
  {
   "cell_type": "code",
   "execution_count": 17,
   "id": "opponent-milan",
   "metadata": {},
   "outputs": [
    {
     "data": {
      "text/plain": [
       "mpf('2.5')"
      ]
     },
     "execution_count": 17,
     "metadata": {},
     "output_type": "execute_result"
    }
   ],
   "source": [
    "eval(repr(mpf(2.5)))"
   ]
  },
  {
   "cell_type": "code",
   "execution_count": 24,
   "id": "angry-equity",
   "metadata": {},
   "outputs": [
    {
     "data": {
      "text/plain": [
       "0.59999999999999998"
      ]
     },
     "execution_count": 24,
     "metadata": {},
     "output_type": "execute_result"
    }
   ],
   "source": [
    "mp.dps = 17\n",
    "mp.pretty = True\n",
    "mpf(0.6)"
   ]
  },
  {
   "cell_type": "markdown",
   "id": "suspended-hamilton",
   "metadata": {},
   "source": [
    "The number of digits with which numbers are printed by default is determined by the working precision. To specify the number of digits to show without changing the working precision, use `mpmath.nstr()` and `mpmath.nprint()`:"
   ]
  },
  {
   "cell_type": "code",
   "execution_count": 28,
   "id": "golden-factory",
   "metadata": {},
   "outputs": [
    {
     "name": "stdout",
     "output_type": "stream",
     "text": [
      "0.16666666666666667\n",
      "0.16666667\n",
      "0.166666666666666666738946811499\n"
     ]
    }
   ],
   "source": [
    "a = mpf(1)/6\n",
    "print(a)\n",
    "print(mpmath.nstr(a, 8))\n",
    "print(mpmath.nstr(a, 30))"
   ]
  },
  {
   "cell_type": "code",
   "execution_count": 29,
   "id": "assumed-nomination",
   "metadata": {},
   "outputs": [
    {
     "name": "stdout",
     "output_type": "stream",
     "text": [
      "Help on method fsum in module mpmath.ctx_mp_python:\n",
      "\n",
      "fsum(terms, absolute=False, squared=False) method of mpmath.ctx_mp.MPContext instance\n",
      "    Calculates a sum containing a finite number of terms (for infinite\n",
      "    series, see :func:`~mpmath.nsum`). The terms will be converted to\n",
      "    mpmath numbers. For len(terms) > 2, this function is generally\n",
      "    faster and produces more accurate results than the builtin\n",
      "    Python function :func:`sum`.\n",
      "    \n",
      "        >>> from mpmath import *\n",
      "        >>> mp.dps = 15; mp.pretty = False\n",
      "        >>> fsum([1, 2, 0.5, 7])\n",
      "        mpf('10.5')\n",
      "    \n",
      "    With squared=True each term is squared, and with absolute=True\n",
      "    the absolute value of each term is used.\n",
      "\n"
     ]
    }
   ],
   "source": [
    "help(mpmath.fsum) "
   ]
  },
  {
   "cell_type": "code",
   "execution_count": 30,
   "id": "equipped-opera",
   "metadata": {},
   "outputs": [
    {
     "data": {
      "text/plain": [
       "mpf('6.0')"
      ]
     },
     "execution_count": 30,
     "metadata": {},
     "output_type": "execute_result"
    }
   ],
   "source": [
    "mpmath.mp.dps = 15; mpmath.mp.pretty = False\n",
    "mpmath.fsum([1,2,3])"
   ]
  },
  {
   "cell_type": "code",
   "execution_count": 31,
   "id": "specialized-trail",
   "metadata": {},
   "outputs": [
    {
     "data": {
      "text/plain": [
       "mpf('6.0')"
      ]
     },
     "execution_count": 31,
     "metadata": {},
     "output_type": "execute_result"
    }
   ],
   "source": [
    "mpmath.mp.fsum([1,2,3])"
   ]
  },
  {
   "cell_type": "code",
   "execution_count": 32,
   "id": "geological-evolution",
   "metadata": {},
   "outputs": [
    {
     "data": {
      "text/plain": [
       "6.0"
      ]
     },
     "execution_count": 32,
     "metadata": {},
     "output_type": "execute_result"
    }
   ],
   "source": [
    "mpmath.fp.fsum([1,2,3])"
   ]
  },
  {
   "cell_type": "code",
   "execution_count": 35,
   "id": "different-discipline",
   "metadata": {},
   "outputs": [
    {
     "name": "stdout",
     "output_type": "stream",
     "text": [
      "3.0\n"
     ]
    },
    {
     "data": {
      "text/plain": [
       "mpf('3.0')"
      ]
     },
     "execution_count": 35,
     "metadata": {},
     "output_type": "execute_result"
    }
   ],
   "source": [
    "from mpmath import mp, fp\n",
    "print(fp.mpf(3))\n",
    "mp.mpf(3)"
   ]
  },
  {
   "cell_type": "code",
   "execution_count": 39,
   "id": "modular-heading",
   "metadata": {},
   "outputs": [
    {
     "name": "stdout",
     "output_type": "stream",
     "text": [
      "<class 'mpmath.ctx_mp_python.mpf'>\n"
     ]
    }
   ],
   "source": [
    "a = mp.matrix([[1,0],[0,1]])\n",
    "print(type(a[0,0]))"
   ]
  },
  {
   "cell_type": "code",
   "execution_count": 40,
   "id": "acute-hospital",
   "metadata": {},
   "outputs": [
    {
     "name": "stdout",
     "output_type": "stream",
     "text": [
      "<class 'float'>\n"
     ]
    }
   ],
   "source": [
    "b = fp.matrix([[1,0],[0,1]])\n",
    "print(type(b[0,0]))"
   ]
  },
  {
   "cell_type": "code",
   "execution_count": 44,
   "id": "latter-notebook",
   "metadata": {},
   "outputs": [
    {
     "name": "stdout",
     "output_type": "stream",
     "text": [
      "103\n",
      "53\n"
     ]
    }
   ],
   "source": [
    "mp.dps = 30\n",
    "print(mp.prec)\n",
    "print(fp.prec)"
   ]
  },
  {
   "cell_type": "markdown",
   "id": "macro-medium",
   "metadata": {},
   "source": [
    "### Conversion and printing"
   ]
  },
  {
   "cell_type": "code",
   "execution_count": 49,
   "id": "boxed-recommendation",
   "metadata": {},
   "outputs": [
    {
     "data": {
      "text/plain": [
       "mpf('3.5')"
      ]
     },
     "execution_count": 49,
     "metadata": {},
     "output_type": "execute_result"
    }
   ],
   "source": [
    "mp.dps= 17\n",
    "mpmathify(3.5)"
   ]
  },
  {
   "cell_type": "code",
   "execution_count": 50,
   "id": "latter-industry",
   "metadata": {},
   "outputs": [
    {
     "data": {
      "text/plain": [
       "mpf('2.0999999999999999986')"
      ]
     },
     "execution_count": 50,
     "metadata": {},
     "output_type": "execute_result"
    }
   ],
   "source": [
    "mpmathify(\"2.1\")"
   ]
  },
  {
   "cell_type": "code",
   "execution_count": 51,
   "id": "elder-warrior",
   "metadata": {},
   "outputs": [
    {
     "data": {
      "text/plain": [
       "mpf('0.75')"
      ]
     },
     "execution_count": 51,
     "metadata": {},
     "output_type": "execute_result"
    }
   ],
   "source": [
    "mpmathify(\"3/4\")"
   ]
  },
  {
   "cell_type": "code",
   "execution_count": 53,
   "id": "authentic-character",
   "metadata": {},
   "outputs": [
    {
     "data": {
      "text/plain": [
       "mpf('2.0')"
      ]
     },
     "execution_count": 53,
     "metadata": {},
     "output_type": "execute_result"
    }
   ],
   "source": [
    "mp.dps=15\n",
    "mp.pretty=False\n",
    "mpmath.fadd(2,1e-20)"
   ]
  },
  {
   "cell_type": "code",
   "execution_count": 56,
   "id": "adolescent-grace",
   "metadata": {},
   "outputs": [
    {
     "name": "stdout",
     "output_type": "stream",
     "text": [
      "2.00000000000000000001\n"
     ]
    }
   ],
   "source": [
    "# Using fadd() with precision and rounding control:\n",
    "\n",
    "mpmath.nprint(mpmath.fadd(2,1e-20, dps=30), 25)"
   ]
  },
  {
   "cell_type": "code",
   "execution_count": 57,
   "id": "uniform-honey",
   "metadata": {},
   "outputs": [
    {
     "name": "stdout",
     "output_type": "stream",
     "text": [
      "1.99999999999999999999\n"
     ]
    }
   ],
   "source": [
    "mpmath.nprint(mpmath.fsub(2,1e-20, dps=30), 25)"
   ]
  },
  {
   "cell_type": "code",
   "execution_count": 60,
   "id": "fabulous-calibration",
   "metadata": {},
   "outputs": [
    {
     "name": "stdout",
     "output_type": "stream",
     "text": [
      "1.0000000001e+25\n",
      "10000000001000010000000001.0\n"
     ]
    }
   ],
   "source": [
    "mp.dps=15\n",
    "x, y = 10**10+1, 10**15+1\n",
    "print(mpf(x) * mpf(y))\n",
    "mp.dps=30\n",
    "x, y = 10**10+1, 10**15+1\n",
    "print(mpf(x) * mpf(y))"
   ]
  },
  {
   "cell_type": "code",
   "execution_count": 63,
   "id": "appropriate-madness",
   "metadata": {},
   "outputs": [
    {
     "name": "stdout",
     "output_type": "stream",
     "text": [
      "-3.70074341541719e-17\n"
     ]
    }
   ],
   "source": [
    "mp.dps = 15\n",
    "mpmath.nprint(mpmath.fdiv(2, 3)-mpmath.fdiv(2, 3, dps=30), 15)"
   ]
  },
  {
   "cell_type": "code",
   "execution_count": 65,
   "id": "unavailable-oriental",
   "metadata": {},
   "outputs": [
    {
     "data": {
      "text/plain": [
       "mpf('10.5')"
      ]
     },
     "execution_count": 65,
     "metadata": {},
     "output_type": "execute_result"
    }
   ],
   "source": [
    "mp.dps = 15; mp.pretty = False\n",
    "mpmath.fsum([1, 2, 0.5, 7])"
   ]
  },
  {
   "cell_type": "code",
   "execution_count": 66,
   "id": "guilty-semester",
   "metadata": {},
   "outputs": [
    {
     "data": {
      "text/plain": [
       "mpf('7.0')"
      ]
     },
     "execution_count": 66,
     "metadata": {},
     "output_type": "execute_result"
    }
   ],
   "source": [
    "mpmath.fprod([1, 2, 0.5, 7])"
   ]
  },
  {
   "cell_type": "code",
   "execution_count": 72,
   "id": "direct-gallery",
   "metadata": {},
   "outputs": [
    {
     "data": {
      "text/plain": [
       "mpf('6.5')"
      ]
     },
     "execution_count": 72,
     "metadata": {},
     "output_type": "execute_result"
    }
   ],
   "source": [
    "A = [2, 1.5, 3]\n",
    "B = [1, -1, 2]\n",
    "mpmath.fdot(A, B)"
   ]
  },
  {
   "cell_type": "code",
   "execution_count": 77,
   "id": "afraid-texas",
   "metadata": {},
   "outputs": [
    {
     "name": "stdout",
     "output_type": "stream",
     "text": [
      "6.5 <class 'mpmath.ctx_mp_python.mpf'>\n"
     ]
    }
   ],
   "source": [
    "mp.dps=30\n",
    "Amp = [mpf(i) for i in A]\n",
    "Bmp = [mpf(i) for i in B]\n",
    "p = mpmath.fdot(Amp, Bmp)\n",
    "print(p, type(p))"
   ]
  },
  {
   "cell_type": "code",
   "execution_count": 69,
   "id": "protective-accessory",
   "metadata": {},
   "outputs": [
    {
     "data": {
      "text/plain": [
       "mpf('3.1000000000000001')"
      ]
     },
     "execution_count": 69,
     "metadata": {},
     "output_type": "execute_result"
    }
   ],
   "source": [
    "mpmath.fabs(\"-3.1\")"
   ]
  },
  {
   "cell_type": "code",
   "execution_count": 70,
   "id": "color-iraqi",
   "metadata": {},
   "outputs": [
    {
     "data": {
      "text/plain": [
       "mpf('3.0')"
      ]
     },
     "execution_count": 70,
     "metadata": {},
     "output_type": "execute_result"
    }
   ],
   "source": [
    "mpmath.floor(3.5)"
   ]
  },
  {
   "cell_type": "code",
   "execution_count": 71,
   "id": "considerable-harrison",
   "metadata": {},
   "outputs": [
    {
     "data": {
      "text/plain": [
       "mpf('4.0')"
      ]
     },
     "execution_count": 71,
     "metadata": {},
     "output_type": "execute_result"
    }
   ],
   "source": [
    "mpmath.nint(4.5)"
   ]
  },
  {
   "cell_type": "markdown",
   "id": "numerical-future",
   "metadata": {},
   "source": [
    "### isinf, isnan"
   ]
  },
  {
   "cell_type": "code",
   "execution_count": 78,
   "id": "adverse-letters",
   "metadata": {},
   "outputs": [],
   "source": [
    "from mpmath import isinf, isnan"
   ]
  },
  {
   "cell_type": "code",
   "execution_count": 85,
   "id": "serial-corrections",
   "metadata": {},
   "outputs": [
    {
     "name": "stdout",
     "output_type": "stream",
     "text": [
      "True\n",
      "True\n"
     ]
    }
   ],
   "source": [
    "print(isinf(mp.inf))\n",
    "print(isnan(mp.nan))"
   ]
  },
  {
   "cell_type": "code",
   "execution_count": 83,
   "id": "individual-clearing",
   "metadata": {},
   "outputs": [
    {
     "name": "stdout",
     "output_type": "stream",
     "text": [
      "+inf\n",
      "+inf\n",
      "nan\n"
     ]
    }
   ],
   "source": [
    "print(mp.inf)\n",
    "print(mpmath.inf)\n",
    "print(mp.nan)"
   ]
  },
  {
   "cell_type": "code",
   "execution_count": 87,
   "id": "choice-requirement",
   "metadata": {},
   "outputs": [
    {
     "name": "stdout",
     "output_type": "stream",
     "text": [
      "0.649769615537466235\n"
     ]
    }
   ],
   "source": [
    "mp.dps=18\n",
    "print(mpmath.rand())"
   ]
  },
  {
   "cell_type": "code",
   "execution_count": 88,
   "id": "hazardous-coordinator",
   "metadata": {},
   "outputs": [
    {
     "data": {
      "text/plain": [
       "[mpf('0.0'),\n",
       " mpf('1.0'),\n",
       " mpf('2.0'),\n",
       " mpf('3.0'),\n",
       " mpf('4.0'),\n",
       " mpf('5.0'),\n",
       " mpf('6.0'),\n",
       " mpf('7.0'),\n",
       " mpf('8.0'),\n",
       " mpf('9.0')]"
      ]
     },
     "execution_count": 88,
     "metadata": {},
     "output_type": "execute_result"
    }
   ],
   "source": [
    "mpmath.arange(0,10)"
   ]
  },
  {
   "cell_type": "code",
   "execution_count": 89,
   "id": "lesser-technology",
   "metadata": {},
   "outputs": [
    {
     "data": {
      "text/plain": [
       "[mpf('2.0'),\n",
       " mpf('2.10000000000000000555'),\n",
       " mpf('2.2000000000000000111'),\n",
       " mpf('2.30000000000000001665'),\n",
       " mpf('2.4000000000000000222'),\n",
       " mpf('2.50000000000000002776'),\n",
       " mpf('2.60000000000000003331'),\n",
       " mpf('2.70000000000000003886'),\n",
       " mpf('2.80000000000000004441'),\n",
       " mpf('2.90000000000000004996')]"
      ]
     },
     "execution_count": 89,
     "metadata": {},
     "output_type": "execute_result"
    }
   ],
   "source": [
    "mpmath.arange(2,3, 0.1)"
   ]
  },
  {
   "cell_type": "code",
   "execution_count": 91,
   "id": "accepting-canada",
   "metadata": {},
   "outputs": [
    {
     "name": "stdout",
     "output_type": "stream",
     "text": [
      "[mpf('0.0'), mpf('1.0'), mpf('2.0'), mpf('3.0'), mpf('4.0')]\n",
      "<class 'list'>\n"
     ]
    }
   ],
   "source": [
    "a = mpmath.linspace(0,4,5)\n",
    "print(a)\n",
    "print(type(a))"
   ]
  },
  {
   "cell_type": "code",
   "execution_count": 94,
   "id": "amended-beauty",
   "metadata": {},
   "outputs": [
    {
     "data": {
      "text/plain": [
       "array([mpf('0.0'), mpf('1.0'), mpf('2.0'), mpf('3.0'), mpf('4.0')],\n",
       "      dtype=object)"
      ]
     },
     "execution_count": 94,
     "metadata": {},
     "output_type": "execute_result"
    }
   ],
   "source": [
    "np.array(a)"
   ]
  },
  {
   "cell_type": "code",
   "execution_count": 96,
   "id": "eastern-stewart",
   "metadata": {},
   "outputs": [],
   "source": [
    "df = pd.DataFrame({\"a\": a})"
   ]
  },
  {
   "cell_type": "code",
   "execution_count": 97,
   "id": "large-commonwealth",
   "metadata": {},
   "outputs": [
    {
     "data": {
      "text/html": [
       "<div>\n",
       "<style scoped>\n",
       "    .dataframe tbody tr th:only-of-type {\n",
       "        vertical-align: middle;\n",
       "    }\n",
       "\n",
       "    .dataframe tbody tr th {\n",
       "        vertical-align: top;\n",
       "    }\n",
       "\n",
       "    .dataframe thead th {\n",
       "        text-align: right;\n",
       "    }\n",
       "</style>\n",
       "<table border=\"1\" class=\"dataframe\">\n",
       "  <thead>\n",
       "    <tr style=\"text-align: right;\">\n",
       "      <th></th>\n",
       "      <th>a</th>\n",
       "    </tr>\n",
       "  </thead>\n",
       "  <tbody>\n",
       "    <tr>\n",
       "      <th>0</th>\n",
       "      <td>0.0</td>\n",
       "    </tr>\n",
       "    <tr>\n",
       "      <th>1</th>\n",
       "      <td>1.0</td>\n",
       "    </tr>\n",
       "    <tr>\n",
       "      <th>2</th>\n",
       "      <td>2.0</td>\n",
       "    </tr>\n",
       "    <tr>\n",
       "      <th>3</th>\n",
       "      <td>3.0</td>\n",
       "    </tr>\n",
       "    <tr>\n",
       "      <th>4</th>\n",
       "      <td>4.0</td>\n",
       "    </tr>\n",
       "  </tbody>\n",
       "</table>\n",
       "</div>"
      ],
      "text/plain": [
       "     a\n",
       "0  0.0\n",
       "1  1.0\n",
       "2  2.0\n",
       "3  3.0\n",
       "4  4.0"
      ]
     },
     "execution_count": 97,
     "metadata": {},
     "output_type": "execute_result"
    }
   ],
   "source": [
    "df"
   ]
  },
  {
   "cell_type": "code",
   "execution_count": 98,
   "id": "recreational-cooper",
   "metadata": {},
   "outputs": [
    {
     "name": "stdout",
     "output_type": "stream",
     "text": [
      "<class 'mpmath.ctx_mp_python.mpf'>\n"
     ]
    }
   ],
   "source": [
    "print(type(df['a'][0]))"
   ]
  },
  {
   "cell_type": "code",
   "execution_count": 102,
   "id": "acute-cyprus",
   "metadata": {},
   "outputs": [
    {
     "data": {
      "image/png": "[encoded data removed]",
      "text/plain": [
       "<Figure size 432x288 with 1 Axes>"
      ]
     },
     "metadata": {
      "needs_background": "light"
     },
     "output_type": "display_data"
    }
   ],
   "source": [
    "plt.plot(a, marker=\"o\");"
   ]
  },
  {
   "cell_type": "code",
   "execution_count": 105,
   "id": "saving-plaza",
   "metadata": {},
   "outputs": [
    {
     "data": {
      "image/png": "[encoded data removed]",
      "text/plain": [
       "<Figure size 432x288 with 1 Axes>"
      ]
     },
     "metadata": {
      "needs_background": "light"
     },
     "output_type": "display_data"
    }
   ],
   "source": [
    "mpmath.plot(lambda x: mpmath.exp(x)*mpmath.li(x), [1, 4])"
   ]
  },
  {
   "cell_type": "code",
   "execution_count": 118,
   "id": "informal-marsh",
   "metadata": {},
   "outputs": [
    {
     "name": "stdout",
     "output_type": "stream",
     "text": [
      "<class 'mpmath.matrices.matrices.matrix'>\n"
     ]
    }
   ],
   "source": [
    "a = mpmath.zeros(2)\n",
    "print(type(a))"
   ]
  },
  {
   "cell_type": "code",
   "execution_count": 117,
   "id": "supported-denial",
   "metadata": {},
   "outputs": [
    {
     "data": {
      "text/plain": [
       "array([[1, 0],\n",
       "       [0, 1]])"
      ]
     },
     "execution_count": 117,
     "metadata": {},
     "output_type": "execute_result"
    }
   ],
   "source": [
    "a = np.diag([1,1])"
   ]
  },
  {
   "cell_type": "code",
   "execution_count": 129,
   "id": "associate-topic",
   "metadata": {},
   "outputs": [
    {
     "data": {
      "text/plain": [
       "matrix(\n",
       "[['1.0', '0.0'],\n",
       " ['0.0', '2.0']])"
      ]
     },
     "execution_count": 129,
     "metadata": {},
     "output_type": "execute_result"
    }
   ],
   "source": [
    "mp.dps=30\n",
    "a = mpmath.diag([1,2])\n",
    "a[0,0]\n",
    "mp.dps"
   ]
  },
  {
   "cell_type": "code",
   "execution_count": 130,
   "id": "linear-child",
   "metadata": {},
   "outputs": [
    {
     "data": {
      "text/plain": [
       "matrix(\n",
       "[['1.0', '0.0'],\n",
       " ['0.0', '1.0']])"
      ]
     },
     "execution_count": 130,
     "metadata": {},
     "output_type": "execute_result"
    }
   ],
   "source": [
    "mpmath.diag([1]*2)"
   ]
  },
  {
   "cell_type": "code",
   "execution_count": 154,
   "id": "french-cisco",
   "metadata": {},
   "outputs": [
    {
     "data": {
      "text/plain": [
       "matrix(\n",
       "[['0.0'],\n",
       " ['0.0']])"
      ]
     },
     "execution_count": 154,
     "metadata": {},
     "output_type": "execute_result"
    }
   ],
   "source": [
    "z = mpmath.zeros(2, 1)\n",
    "z"
   ]
  },
  {
   "cell_type": "code",
   "execution_count": 143,
   "id": "creative-regression",
   "metadata": {},
   "outputs": [
    {
     "data": {
      "text/plain": [
       "matrix(\n",
       "[['0.0'],\n",
       " ['-1.0']])"
      ]
     },
     "execution_count": 143,
     "metadata": {},
     "output_type": "execute_result"
    }
   ],
   "source": [
    "z[1] = -mpf(1)\n",
    "z"
   ]
  },
  {
   "cell_type": "code",
   "execution_count": 145,
   "id": "cloudy-delaware",
   "metadata": {},
   "outputs": [
    {
     "data": {
      "text/plain": [
       "mpf('1.5')"
      ]
     },
     "execution_count": 145,
     "metadata": {},
     "output_type": "execute_result"
    }
   ],
   "source": [
    "a = mpf(1.5)\n",
    "a"
   ]
  },
  {
   "cell_type": "code",
   "execution_count": 149,
   "id": "brutal-pakistan",
   "metadata": {},
   "outputs": [
    {
     "data": {
      "text/plain": [
       "(1.5, numpy.float64)"
      ]
     },
     "execution_count": 149,
     "metadata": {},
     "output_type": "execute_result"
    }
   ],
   "source": [
    "b = np.float64(a)\n",
    "b, type(b)"
   ]
  },
  {
   "cell_type": "markdown",
   "id": "brief-margin",
   "metadata": {},
   "source": [
    "### cast mpmath matrix to numpy ndarray "
   ]
  },
  {
   "cell_type": "code",
   "execution_count": 157,
   "id": "conscious-power",
   "metadata": {},
   "outputs": [
    {
     "name": "stdout",
     "output_type": "stream",
     "text": [
      "[[0. 0. 0. 0. 0.]\n",
      " [0. 0. 0. 0. 0.]\n",
      " [0. 0. 0. 0. 0.]\n",
      " [0. 0. 0. 0. 0.]\n",
      " [0. 0. 0. 0. 0.]]\n"
     ]
    }
   ],
   "source": [
    "mat = mpmath.zeros(5)\n",
    "Z = np.array(mat.tolist(), dtype=float)\n",
    "print(Z)"
   ]
  },
  {
   "cell_type": "code",
   "execution_count": 158,
   "id": "intended-gambling",
   "metadata": {},
   "outputs": [
    {
     "name": "stdout",
     "output_type": "stream",
     "text": [
      "[[0. 0. 0. 0. 0.]\n",
      " [0. 0. 0. 0. 0.]\n",
      " [0. 0. 0. 0. 0.]\n",
      " [0. 0. 0. 0. 0.]\n",
      " [0. 0. 0. 0. 0.]]\n"
     ]
    }
   ],
   "source": [
    "mat = mpmath.zeros(5)\n",
    "Z = np.matrix(mat.tolist(), dtype=float)\n",
    "print(Z)\n"
   ]
  },
  {
   "cell_type": "code",
   "execution_count": null,
   "id": "korean-charity",
   "metadata": {},
   "outputs": [],
   "source": []
  }
 ],
 "metadata": {
  "kernelspec": {
   "display_name": "Python 3",
   "language": "python",
   "name": "python3"
  },
  "language_info": {
   "codemirror_mode": {
    "name": "ipython",
    "version": 3
   },
   "file_extension": ".py",
   "mimetype": "text/x-python",
   "name": "python",
   "nbconvert_exporter": "python",
   "pygments_lexer": "ipython3",
   "version": "3.8.10"
  }
 },
 "nbformat": 4,
 "nbformat_minor": 5
}

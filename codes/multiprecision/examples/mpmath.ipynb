{
 "cells": [
  {
   "cell_type": "markdown",
   "id": "limited-parish",
   "metadata": {},
   "source": [
    "# [mpmath](https://mpmath.org/)"
   ]
  },
  {
   "cell_type": "code",
   "execution_count": 1,
   "id": "documentary-reform",
   "metadata": {},
   "outputs": [
    {
     "name": "stdout",
     "output_type": "stream",
     "text": [
      "3.1415926535897932384626433832795028841971693993751\n"
     ]
    }
   ],
   "source": [
    "import numpy as np \n",
    "import pandas as pd\n",
    "from mpmath import mp\n",
    "mp.dps = 50\n",
    "print(mp.quad(lambda x: mp.exp(-x**2), [-mp.inf, mp.inf]) ** 2)"
   ]
  },
  {
   "cell_type": "markdown",
   "id": "plain-saturn",
   "metadata": {},
   "source": [
    "[documentation](https://mpmath.org/doc/current/contexts.html)"
   ]
  },
  {
   "cell_type": "code",
   "execution_count": 2,
   "id": "broad-coordinator",
   "metadata": {},
   "outputs": [
    {
     "data": {
      "text/plain": [
       "'python'"
      ]
     },
     "execution_count": 2,
     "metadata": {},
     "output_type": "execute_result"
    }
   ],
   "source": [
    "import mpmath.libmp\n",
    "mpmath.libmp.BACKEND "
   ]
  },
  {
   "cell_type": "code",
   "execution_count": 3,
   "id": "demonstrated-orleans",
   "metadata": {},
   "outputs": [
    {
     "data": {
      "text/plain": [
       "mpf('3.0')"
      ]
     },
     "execution_count": 3,
     "metadata": {},
     "output_type": "execute_result"
    }
   ],
   "source": [
    "from mpmath import mp, fp\n",
    "mp.mpf(3)"
   ]
  },
  {
   "cell_type": "code",
   "execution_count": 4,
   "id": "saving-ecuador",
   "metadata": {},
   "outputs": [
    {
     "data": {
      "text/plain": [
       "3.0"
      ]
     },
     "execution_count": 4,
     "metadata": {},
     "output_type": "execute_result"
    }
   ],
   "source": [
    "fp.mpf(3)"
   ]
  },
  {
   "cell_type": "code",
   "execution_count": 5,
   "id": "bacterial-noise",
   "metadata": {},
   "outputs": [
    {
     "data": {
      "text/plain": [
       "matrix(\n",
       "[['1.0', '0.0'],\n",
       " ['0.0', '1.0']])"
      ]
     },
     "execution_count": 5,
     "metadata": {},
     "output_type": "execute_result"
    }
   ],
   "source": [
    "mp.matrix([[1,0],[0,1]])"
   ]
  },
  {
   "cell_type": "code",
   "execution_count": 6,
   "id": "flush-yeast",
   "metadata": {},
   "outputs": [
    {
     "data": {
      "text/plain": [
       "matrix(\n",
       "[['1.0', '0.0'],\n",
       " ['0.0', '1.0']])"
      ]
     },
     "execution_count": 6,
     "metadata": {},
     "output_type": "execute_result"
    }
   ],
   "source": [
    "fp.matrix([[1,0],[0,1]])"
   ]
  },
  {
   "cell_type": "code",
   "execution_count": 11,
   "id": "valued-redhead",
   "metadata": {},
   "outputs": [
    {
     "name": "stdout",
     "output_type": "stream",
     "text": [
      "0.75\n"
     ]
    },
    {
     "data": {
      "text/plain": [
       "mpf('2.1000000000000001')"
      ]
     },
     "execution_count": 11,
     "metadata": {},
     "output_type": "execute_result"
    }
   ],
   "source": [
    "mp.dps = 15; mp.pretty = False\n",
    "print(mp.mpmathify('3/4'))\n",
    "mp.mpmathify(2.1)"
   ]
  },
  {
   "cell_type": "code",
   "execution_count": 14,
   "id": "offensive-klein",
   "metadata": {},
   "outputs": [
    {
     "name": "stdout",
     "output_type": "stream",
     "text": [
      "2.00000000000000000001\n",
      "2.00000000000000000001\n"
     ]
    }
   ],
   "source": [
    "from mpmath import *\n",
    "nprint(fadd(2, 1e-20, prec=100), 25)\n",
    "nprint(fadd(2, 1e-20, dps=25), 25)"
   ]
  },
  {
   "cell_type": "code",
   "execution_count": 21,
   "id": "emerging-understanding",
   "metadata": {},
   "outputs": [
    {
     "data": {
      "text/plain": [
       "mpf('6.0')"
      ]
     },
     "execution_count": 21,
     "metadata": {},
     "output_type": "execute_result"
    }
   ],
   "source": [
    "mpmath.mp.dps = 50\n",
    "mpmath.mp.pretty = False\n",
    "a = mp.mpf(3.)\n",
    "a*2\n"
   ]
  },
  {
   "cell_type": "code",
   "execution_count": 23,
   "id": "logical-federal",
   "metadata": {},
   "outputs": [
    {
     "data": {
      "text/plain": [
       "array([mpf('3.0'), mpf('4.0')], dtype=object)"
      ]
     },
     "execution_count": 23,
     "metadata": {},
     "output_type": "execute_result"
    }
   ],
   "source": [
    "np.array([mp.mpf(3), mp.mpf(4)])"
   ]
  },
  {
   "cell_type": "code",
   "execution_count": 28,
   "id": "assigned-toolbox",
   "metadata": {},
   "outputs": [
    {
     "data": {
      "text/html": [
       "<div>\n",
       "<style scoped>\n",
       "    .dataframe tbody tr th:only-of-type {\n",
       "        vertical-align: middle;\n",
       "    }\n",
       "\n",
       "    .dataframe tbody tr th {\n",
       "        vertical-align: top;\n",
       "    }\n",
       "\n",
       "    .dataframe thead th {\n",
       "        text-align: right;\n",
       "    }\n",
       "</style>\n",
       "<table border=\"1\" class=\"dataframe\">\n",
       "  <thead>\n",
       "    <tr style=\"text-align: right;\">\n",
       "      <th></th>\n",
       "      <th>a</th>\n",
       "    </tr>\n",
       "  </thead>\n",
       "  <tbody>\n",
       "    <tr>\n",
       "      <th>0</th>\n",
       "      <td>3.0</td>\n",
       "    </tr>\n",
       "    <tr>\n",
       "      <th>1</th>\n",
       "      <td>4.0</td>\n",
       "    </tr>\n",
       "  </tbody>\n",
       "</table>\n",
       "</div>"
      ],
      "text/plain": [
       "     a\n",
       "0  3.0\n",
       "1  4.0"
      ]
     },
     "execution_count": 28,
     "metadata": {},
     "output_type": "execute_result"
    }
   ],
   "source": [
    "df= pd.DataFrame({\"a\": np.array([mp.mpf(3), mp.mpf(4)])})\n",
    "df"
   ]
  },
  {
   "cell_type": "code",
   "execution_count": 29,
   "id": "accompanied-right",
   "metadata": {},
   "outputs": [
    {
     "data": {
      "text/plain": [
       "mpmath.ctx_mp_python.mpf"
      ]
     },
     "execution_count": 29,
     "metadata": {},
     "output_type": "execute_result"
    }
   ],
   "source": [
    "type(df.a[0])"
   ]
  },
  {
   "cell_type": "code",
   "execution_count": null,
   "id": "objective-james",
   "metadata": {},
   "outputs": [],
   "source": []
  }
 ],
 "metadata": {
  "kernelspec": {
   "display_name": "Python 3",
   "language": "python",
   "name": "python3"
  },
  "language_info": {
   "codemirror_mode": {
    "name": "ipython",
    "version": 3
   },
   "file_extension": ".py",
   "mimetype": "text/x-python",
   "name": "python",
   "nbconvert_exporter": "python",
   "pygments_lexer": "ipython3",
   "version": "3.8.10"
  }
 },
 "nbformat": 4,
 "nbformat_minor": 5
}

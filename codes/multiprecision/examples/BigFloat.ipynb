{
 "cells": [
  {
   "cell_type": "markdown",
   "id": "consolidated-innocent",
   "metadata": {},
   "source": [
    "# BigFloat\n",
    "- [LINK](https://pythonhosted.org/bigfloat/tutorial/index.html)"
   ]
  },
  {
   "cell_type": "code",
   "execution_count": 11,
   "id": "greater-anaheim",
   "metadata": {},
   "outputs": [],
   "source": [
    "from bigfloat import *\n",
    "import numpy as np \n",
    "import pandas as pd"
   ]
  },
  {
   "cell_type": "code",
   "execution_count": 2,
   "id": "official-telescope",
   "metadata": {},
   "outputs": [
    {
     "data": {
      "text/plain": [
       "BigFloat.exact('123.000000000000000000000000000000000', precision=113)"
      ]
     },
     "execution_count": 2,
     "metadata": {},
     "output_type": "execute_result"
    }
   ],
   "source": [
    "BigFloat(123)"
   ]
  },
  {
   "cell_type": "code",
   "execution_count": 3,
   "id": "furnished-bumper",
   "metadata": {},
   "outputs": [
    {
     "data": {
      "text/plain": [
       "BigFloat.exact('-4.55999999999999960920149533194489777', precision=113)"
      ]
     },
     "execution_count": 3,
     "metadata": {},
     "output_type": "execute_result"
    }
   ],
   "source": [
    "BigFloat(-4.56)"
   ]
  },
  {
   "cell_type": "code",
   "execution_count": 4,
   "id": "separated-advertiser",
   "metadata": {},
   "outputs": [
    {
     "data": {
      "text/plain": [
       "BigFloat.exact('-4.55999994', precision=24)"
      ]
     },
     "execution_count": 4,
     "metadata": {},
     "output_type": "execute_result"
    }
   ],
   "source": [
    "BigFloat(-4.56, context=precision(24))"
   ]
  },
  {
   "cell_type": "code",
   "execution_count": 5,
   "id": "weighted-apartment",
   "metadata": {},
   "outputs": [
    {
     "data": {
      "text/plain": [
       "BigFloat.exact('3.14000000000000000000000000000000011', precision=113)"
      ]
     },
     "execution_count": 5,
     "metadata": {},
     "output_type": "execute_result"
    }
   ],
   "source": [
    "BigFloat('3.14')"
   ]
  },
  {
   "cell_type": "code",
   "execution_count": 6,
   "id": "billion-protein",
   "metadata": {},
   "outputs": [
    {
     "data": {
      "text/plain": [
       "Context(precision=113, emax=16384, emin=-16493, subnormalize=True)"
      ]
     },
     "execution_count": 6,
     "metadata": {},
     "output_type": "execute_result"
    }
   ],
   "source": [
    "quadruple_precision"
   ]
  },
  {
   "cell_type": "code",
   "execution_count": 7,
   "id": "superior-nutrition",
   "metadata": {},
   "outputs": [
    {
     "data": {
      "text/plain": [
       "BigFloat.exact('1.10000000000000000000000000000000008', precision=113)"
      ]
     },
     "execution_count": 7,
     "metadata": {},
     "output_type": "execute_result"
    }
   ],
   "source": [
    "BigFloat('1.1', quadruple_precision)"
   ]
  },
  {
   "cell_type": "code",
   "execution_count": 8,
   "id": "instant-township",
   "metadata": {},
   "outputs": [
    {
     "data": {
      "text/plain": [
       "Context(precision=113, emax=16384, emin=-16493, subnormalize=True, rounding=ROUND_TIES_TO_EVEN)"
      ]
     },
     "execution_count": 8,
     "metadata": {},
     "output_type": "execute_result"
    }
   ],
   "source": [
    "getcontext()"
   ]
  },
  {
   "cell_type": "code",
   "execution_count": 9,
   "id": "excess-jimmy",
   "metadata": {
    "scrolled": true
   },
   "outputs": [
    {
     "data": {
      "text/plain": [
       "BigFloat.exact('411.333333333333333333333333333333317', precision=113)"
      ]
     },
     "execution_count": 9,
     "metadata": {},
     "output_type": "execute_result"
    }
   ],
   "source": [
    "BigFloat(1234)/3"
   ]
  },
  {
   "cell_type": "code",
   "execution_count": 10,
   "id": "numerous-polymer",
   "metadata": {},
   "outputs": [
    {
     "data": {
      "text/plain": [
       "BigFloat.exact('1.41421356237309504880168872420969798', precision=113)"
      ]
     },
     "execution_count": 10,
     "metadata": {},
     "output_type": "execute_result"
    }
   ],
   "source": [
    "sqrt(2)"
   ]
  },
  {
   "cell_type": "code",
   "execution_count": 14,
   "id": "eleven-effects",
   "metadata": {},
   "outputs": [
    {
     "data": {
      "text/plain": [
       "array([BigFloat.exact('1.50000000000000000000000000000000000', precision=113),\n",
       "       BigFloat.exact('2.10000000000000008881784197001252323', precision=113)],\n",
       "      dtype=object)"
      ]
     },
     "execution_count": 14,
     "metadata": {},
     "output_type": "execute_result"
    }
   ],
   "source": [
    "a = np.array([BigFloat(1.5), BigFloat(2.1)])\n",
    "a"
   ]
  },
  {
   "cell_type": "code",
   "execution_count": 16,
   "id": "unavailable-riding",
   "metadata": {},
   "outputs": [
    {
     "data": {
      "text/html": [
       "<div>\n",
       "<style scoped>\n",
       "    .dataframe tbody tr th:only-of-type {\n",
       "        vertical-align: middle;\n",
       "    }\n",
       "\n",
       "    .dataframe tbody tr th {\n",
       "        vertical-align: top;\n",
       "    }\n",
       "\n",
       "    .dataframe thead th {\n",
       "        text-align: right;\n",
       "    }\n",
       "</style>\n",
       "<table border=\"1\" class=\"dataframe\">\n",
       "  <thead>\n",
       "    <tr style=\"text-align: right;\">\n",
       "      <th></th>\n",
       "      <th>a</th>\n",
       "    </tr>\n",
       "  </thead>\n",
       "  <tbody>\n",
       "    <tr>\n",
       "      <th>0</th>\n",
       "      <td>1.50000000000000000000000000000000000</td>\n",
       "    </tr>\n",
       "    <tr>\n",
       "      <th>1</th>\n",
       "      <td>2.10000000000000008881784197001252323</td>\n",
       "    </tr>\n",
       "  </tbody>\n",
       "</table>\n",
       "</div>"
      ],
      "text/plain": [
       "                                       a\n",
       "0  1.50000000000000000000000000000000000\n",
       "1  2.10000000000000008881784197001252323"
      ]
     },
     "execution_count": 16,
     "metadata": {},
     "output_type": "execute_result"
    }
   ],
   "source": [
    "df = pd.DataFrame({\"a\":a})\n",
    "df"
   ]
  },
  {
   "cell_type": "code",
   "execution_count": 17,
   "id": "hired-pontiac",
   "metadata": {},
   "outputs": [
    {
     "data": {
      "text/plain": [
       "bigfloat.core.BigFloat"
      ]
     },
     "execution_count": 17,
     "metadata": {},
     "output_type": "execute_result"
    }
   ],
   "source": [
    "type(df.a[0])"
   ]
  },
  {
   "cell_type": "code",
   "execution_count": 18,
   "id": "unlimited-wells",
   "metadata": {},
   "outputs": [],
   "source": [
    "np.savetxt(\"a.txt\", a, fmt=\"%.30f\")"
   ]
  },
  {
   "cell_type": "code",
   "execution_count": null,
   "id": "assisted-transformation",
   "metadata": {},
   "outputs": [],
   "source": []
  }
 ],
 "metadata": {
  "kernelspec": {
   "display_name": "Python 3",
   "language": "python",
   "name": "python3"
  },
  "language_info": {
   "codemirror_mode": {
    "name": "ipython",
    "version": 3
   },
   "file_extension": ".py",
   "mimetype": "text/x-python",
   "name": "python",
   "nbconvert_exporter": "python",
   "pygments_lexer": "ipython3",
   "version": "3.8.10"
  }
 },
 "nbformat": 4,
 "nbformat_minor": 5
}
